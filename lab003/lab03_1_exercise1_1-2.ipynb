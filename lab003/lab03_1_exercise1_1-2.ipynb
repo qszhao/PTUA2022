{
 "cells": [
  {
   "cell_type": "code",
   "execution_count": 1,
   "id": "ef412502",
   "metadata": {},
   "outputs": [
    {
     "ename": "SyntaxError",
     "evalue": "cannot assign to literal (Temp/ipykernel_16760/3090476294.py, line 1)",
     "output_type": "error",
     "traceback": [
      "\u001b[1;36m  File \u001b[1;32m\"C:\\Users\\viran\\AppData\\Local\\Temp/ipykernel_16760/3090476294.py\"\u001b[1;36m, line \u001b[1;32m1\u001b[0m\n\u001b[1;33m    42 = n\u001b[0m\n\u001b[1;37m    ^\u001b[0m\n\u001b[1;31mSyntaxError\u001b[0m\u001b[1;31m:\u001b[0m cannot assign to literal\n"
     ]
    }
   ],
   "source": [
    "42 = n"
   ]
  },
  {
   "cell_type": "code",
   "execution_count": 5,
   "id": "b6c045c7",
   "metadata": {},
   "outputs": [],
   "source": [
    "x=y=1"
   ]
  },
  {
   "cell_type": "code",
   "execution_count": 8,
   "id": "7f91c16f",
   "metadata": {},
   "outputs": [],
   "source": [
    "a=1;"
   ]
  },
  {
   "cell_type": "code",
   "execution_count": 9,
   "id": "ae5281de",
   "metadata": {},
   "outputs": [],
   "source": [
    "b=1."
   ]
  },
  {
   "cell_type": "code",
   "execution_count": 10,
   "id": "4d33dfe3",
   "metadata": {},
   "outputs": [
    {
     "ename": "SyntaxError",
     "evalue": "invalid syntax (Temp/ipykernel_16760/1785176097.py, line 1)",
     "output_type": "error",
     "traceback": [
      "\u001b[1;36m  File \u001b[1;32m\"C:\\Users\\viran\\AppData\\Local\\Temp/ipykernel_16760/1785176097.py\"\u001b[1;36m, line \u001b[1;32m1\u001b[0m\n\u001b[1;33m    a b.\u001b[0m\n\u001b[1;37m      ^\u001b[0m\n\u001b[1;31mSyntaxError\u001b[0m\u001b[1;31m:\u001b[0m invalid syntax\n"
     ]
    }
   ],
   "source": [
    "a b."
   ]
  },
  {
   "cell_type": "code",
   "execution_count": 13,
   "id": "69235908",
   "metadata": {},
   "outputs": [
    {
     "name": "stdout",
     "output_type": "stream",
     "text": [
      "radius 5 =523.5987755982987\n"
     ]
    }
   ],
   "source": [
    "import math;\n",
    "r=5;\n",
    "A=4/3*(math.pi*r**3);\n",
    "print(\"radius 5 =\"+str(A))"
   ]
  },
  {
   "cell_type": "code",
   "execution_count": 21,
   "id": "7984ac45",
   "metadata": {},
   "outputs": [
    {
     "name": "stdout",
     "output_type": "stream",
     "text": [
      "cost=945.4499999999999\n"
     ]
    }
   ],
   "source": [
    "a= 24.95;\n",
    "b= 1-0.4;\n",
    "c=3;\n",
    "d= 0.75;\n",
    "n=60;\n",
    "cost=(a*b*n)+(c+(n-1)*d);\n",
    "print(\"cost=\"+str(cost))"
   ]
  },
  {
   "cell_type": "code",
   "execution_count": 19,
   "id": "b5a76d60",
   "metadata": {},
   "outputs": [
    {
     "name": "stdout",
     "output_type": "stream",
     "text": [
      "breakfast_time= 7 : 21\n"
     ]
    }
   ],
   "source": [
    "start=6*60*60+52*60;\n",
    "run1=8*60+15;\n",
    "run3=(7*60+12)*3;\n",
    "end_hour=(start+run1+run3)//3600;\n",
    "end_minutes=(start+run1+run3-end_hour*3600)//60;\n",
    "print(\"breakfast_time=\",str(end_hour),\":\",str(end_minutes))\n",
    "\n"
   ]
  },
  {
   "cell_type": "code",
   "execution_count": null,
   "id": "b39527cc",
   "metadata": {},
   "outputs": [],
   "source": []
  },
  {
   "cell_type": "code",
   "execution_count": null,
   "id": "f1a5de3f",
   "metadata": {},
   "outputs": [],
   "source": []
  }
 ],
 "metadata": {
  "kernelspec": {
   "display_name": "Python 3 (ipykernel)",
   "language": "python",
   "name": "python3"
  },
  "language_info": {
   "codemirror_mode": {
    "name": "ipython",
    "version": 3
   },
   "file_extension": ".py",
   "mimetype": "text/x-python",
   "name": "python",
   "nbconvert_exporter": "python",
   "pygments_lexer": "ipython3",
   "version": "3.9.7"
  }
 },
 "nbformat": 4,
 "nbformat_minor": 5
}
