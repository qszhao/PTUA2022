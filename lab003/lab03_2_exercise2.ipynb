{
 "cells": [
  {
   "cell_type": "code",
   "execution_count": 1,
   "id": "d0a653bf",
   "metadata": {},
   "outputs": [
    {
     "name": "stdout",
     "output_type": "stream",
     "text": [
      "Draws needed:  27\n"
     ]
    },
    {
     "data": {
      "text/plain": [
       "[0.0,\n",
       " 0.0,\n",
       " 1.3333333333333333,\n",
       " 1.0,\n",
       " 1.6,\n",
       " 1.3333333333333333,\n",
       " 1.7142857142857142,\n",
       " 2.0,\n",
       " 2.2222222222222223,\n",
       " 2.4]"
      ]
     },
     "execution_count": 1,
     "metadata": {},
     "output_type": "execute_result"
    }
   ],
   "source": [
    "import random\n",
    "import math\n",
    "import matplotlib.pyplot as plt\n",
    "pi = math.pi\n",
    "n = 0\n",
    "d = 0\n",
    "ratios = []\n",
    "xs = []\n",
    "ys = []\n",
    "simulating = True\n",
    "while simulating:\n",
    "    x = random.random()\n",
    "    y = random.random()\n",
    "    xs.append(x)\n",
    "    ys.append(y)\n",
    "    if x**2 + y**2 <= 1.0:\n",
    "        n += 1\n",
    "    d += 1\n",
    "    ratio = 4 * n * 1./d\n",
    "    ratios.append(ratio)\n",
    "    if abs(ratio-pi) / pi <= 0.01:\n",
    "        print(\"Draws needed: \", d)\n",
    "        break\n",
    "ratios[:10]"
   ]
  },
  {
   "cell_type": "code",
   "execution_count": 2,
   "id": "94a7720c",
   "metadata": {},
   "outputs": [
    {
     "name": "stdout",
     "output_type": "stream",
     "text": [
      "Draws needed:  14\n"
     ]
    },
    {
     "data": {
      "text/plain": [
       "[4.0,\n",
       " 4.0,\n",
       " 4.0,\n",
       " 4.0,\n",
       " 3.2,\n",
       " 2.6666666666666665,\n",
       " 2.857142857142857,\n",
       " 3.0,\n",
       " 3.111111111111111,\n",
       " 3.2]"
      ]
     },
     "execution_count": 2,
     "metadata": {},
     "output_type": "execute_result"
    }
   ],
   "source": [
    "import random\n",
    "import math\n",
    "import matplotlib.pyplot as plt\n",
    "pi = math.pi\n",
    "n = 0\n",
    "d = 0\n",
    "ratios = []\n",
    "xs = []\n",
    "ys = []\n",
    "simulating = True\n",
    "while simulating:\n",
    "    x = random.random()\n",
    "    y = random.random()\n",
    "    xs.append(x)\n",
    "    ys.append(y)\n",
    "    if x**2 + y**2 <= 1.0:\n",
    "        n += 1\n",
    "    d += 1\n",
    "    ratio = 4 * n * 1./d\n",
    "    ratios.append(ratio)\n",
    "    if abs(ratio-pi) / pi <= 0.001:\n",
    "        print(\"Draws needed: \", d)\n",
    "        break\n",
    "ratios[:10]\n"
   ]
  },
  {
   "cell_type": "code",
   "execution_count": 3,
   "id": "9aba1da3",
   "metadata": {},
   "outputs": [
    {
     "name": "stdout",
     "output_type": "stream",
     "text": [
      "Draws needed:  536\n"
     ]
    },
    {
     "data": {
      "text/plain": [
       "[4.0, 4.0, 4.0, 4.0, 4.0, 4.0, 4.0, 3.5, 3.111111111111111, 2.8]"
      ]
     },
     "execution_count": 3,
     "metadata": {},
     "output_type": "execute_result"
    }
   ],
   "source": [
    "import random\n",
    "import math\n",
    "import matplotlib.pyplot as plt\n",
    "pi = math.pi\n",
    "n = 0\n",
    "d = 0\n",
    "ratios = []\n",
    "xs = []\n",
    "ys = []\n",
    "simulating = True\n",
    "while simulating:\n",
    "    x = random.random()\n",
    "    y = random.random()\n",
    "    xs.append(x)\n",
    "    ys.append(y)\n",
    "    if x**2 + y**2 <= 1.0:\n",
    "        n += 1\n",
    "    d += 1\n",
    "    ratio = 4 * n * 1./d\n",
    "    ratios.append(ratio)\n",
    "    if abs(ratio-pi) / pi <= 0.0001:\n",
    "        print(\"Draws needed: \", d)\n",
    "        break\n",
    "ratios[:10]\n"
   ]
  },
  {
   "cell_type": "code",
   "execution_count": 4,
   "id": "4ce06fea",
   "metadata": {},
   "outputs": [
    {
     "name": "stdout",
     "output_type": "stream",
     "text": [
      "Draws needed:  671\n"
     ]
    },
    {
     "data": {
      "text/plain": [
       "[4.0,\n",
       " 2.0,\n",
       " 2.6666666666666665,\n",
       " 3.0,\n",
       " 3.2,\n",
       " 3.3333333333333335,\n",
       " 3.4285714285714284,\n",
       " 3.5,\n",
       " 3.5555555555555554,\n",
       " 3.6]"
      ]
     },
     "execution_count": 4,
     "metadata": {},
     "output_type": "execute_result"
    }
   ],
   "source": [
    "import random\n",
    "import math\n",
    "import matplotlib.pyplot as plt\n",
    "pi = math.pi\n",
    "n = 0\n",
    "d = 0\n",
    "ratios = []\n",
    "xs = []\n",
    "ys = []\n",
    "simulating = True\n",
    "while simulating:\n",
    "    x = random.random()\n",
    "    y = random.random()\n",
    "    xs.append(x)\n",
    "    ys.append(y)\n",
    "    if x**2 + y**2 <= 1.0:\n",
    "        n += 1\n",
    "    d += 1\n",
    "    ratio = 4 * n * 1./d\n",
    "    ratios.append(ratio)\n",
    "    if abs(ratio-pi) / pi <= 0.00001:\n",
    "        print(\"Draws needed: \", d)\n",
    "        break\n",
    "ratios[:10]"
   ]
  },
  {
   "cell_type": "code",
   "execution_count": null,
   "id": "7002e18c",
   "metadata": {},
   "outputs": [],
   "source": []
  }
 ],
 "metadata": {
  "kernelspec": {
   "display_name": "Python 3 (ipykernel)",
   "language": "python",
   "name": "python3"
  },
  "language_info": {
   "codemirror_mode": {
    "name": "ipython",
    "version": 3
   },
   "file_extension": ".py",
   "mimetype": "text/x-python",
   "name": "python",
   "nbconvert_exporter": "python",
   "pygments_lexer": "ipython3",
   "version": "3.9.7"
  }
 },
 "nbformat": 4,
 "nbformat_minor": 5
}
