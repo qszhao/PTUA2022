{
 "cells": [
  {
   "cell_type": "markdown",
   "id": "2e8d4601",
   "metadata": {},
   "source": [
    "## Exercises for Lab03 \n",
    "\n",
    "### 2-1\n",
    "\n",
    "\n",
    "We’ve seen that n = 42 is legal. What about 42 = n? \n",
    "*Output is \"SyntaxError: cannot assign to literal\" because a variable name cannot start with a number.\n",
    "\n",
    "How about x = y = 1? \n",
    "*Both x and y now have the value 1.\n",
    "\n",
    "In some languages every statement ends with a semi-colon, ;. What happens if you put a semi-colon at the end of a Python statement? \n",
    "*Nothing really, it can be used to seperate lines of code\n",
    "\n",
    "What if you put a period at the end of a statement? \n",
    "*Python does not like that unless it is a number which then turns into 1.0\n",
    "\n",
    "In math notation you can multiply x and y like this: x y. What happens if you try that in Python? \n",
    "*It does not work and returns \"NameError: name 'xy' is not defined\" instead or for x y \"SyntaxError: invalid syntax\" "
   ]
  },
  {
   "cell_type": "markdown",
   "id": "894ef046",
   "metadata": {},
   "source": [
    "### 2-2\n"
   ]
  },
  {
   "cell_type": "code",
   "execution_count": 19,
   "id": "073a6d34",
   "metadata": {},
   "outputs": [
    {
     "name": "stdout",
     "output_type": "stream",
     "text": [
      "The volume is 523.5987749999999\n"
     ]
    }
   ],
   "source": [
    "#2-2 1) The volume of a sphere with radius r is 4/3 π r3. What is the volume of a sphere with radius 5?\n",
    "r=5\n",
    "π=3.14159265\n",
    "a= (4/3)*π*r**3\n",
    "print(\"The volume is\", a)\n"
   ]
  },
  {
   "cell_type": "code",
   "execution_count": 23,
   "id": "493a48d8",
   "metadata": {},
   "outputs": [
    {
     "name": "stdout",
     "output_type": "stream",
     "text": [
      "The total wholesale cost for 60 copies is $ 945.45\n"
     ]
    }
   ],
   "source": [
    "#2-2 2) Suppose the cover price of a book is $24.95, but bookstores get a 40% discount. \n",
    "#Shipping costs $3 for the first copy and 75 cents for each additional copy. \n",
    "#What is the total wholesale cost for 60 copies?\n",
    "\n",
    "print(\"The total wholesale cost for 60 copies is $\",(60* (24.95/10*6)) + 3 + (0.75 * 59))"
   ]
  },
  {
   "cell_type": "code",
   "execution_count": 104,
   "id": "fdd5083e",
   "metadata": {},
   "outputs": [
    {
     "name": "stdout",
     "output_type": "stream",
     "text": [
      "You will be home for breakfast at 7:30\n"
     ]
    }
   ],
   "source": [
    "#2-2 3) If I leave my house at 6:52 am and run 1 mile at an easy pace (8:15 per mile), \n",
    "#then 3 miles at tempo (7:12 per mile) and \n",
    "#1 mile at easy pace again, \n",
    "#what time do I get home for breakfast?\n",
    "\n",
    "\n",
    "leaving = 6*60 + 52\n",
    "running= round((2*8.15)+(3*7.12))\n",
    "home = leaving + running\n",
    "end_hour, end_minute = home // 60, home % 60\n",
    "print(\"You will be home for breakfast at\",'{}:{}'.format(end_hour, end_minute))\n",
    " "
   ]
  },
  {
   "cell_type": "markdown",
   "id": "13268580",
   "metadata": {},
   "source": [
    "### 8-1\n",
    "Read the documentation of the string methods at http://docs.python.org/3/library/stdtypes.html#string-methods. You might want to experiment with some of them to make sure you understand how they work. strip and replace are particularly useful.\n",
    "\n",
    "The documentation uses a syntax that might be confusing. For example, in find(sub[, start[, end]]), the brackets indicate optional arguments. So sub is required, but start is optional, and if you include start, then end is optional."
   ]
  },
  {
   "cell_type": "code",
   "execution_count": null,
   "id": "4dc1c753",
   "metadata": {},
   "outputs": [],
   "source": [
    "Interesting!"
   ]
  },
  {
   "cell_type": "markdown",
   "id": "789ccce8",
   "metadata": {},
   "source": [
    "### 8-2\n",
    "There is a string method called count that is similar to the function in Section 8.7. Read the documentation of this method and write an invocation that counts the number of a’s in 'banana'."
   ]
  },
  {
   "cell_type": "code",
   "execution_count": 2,
   "id": "f97cd485",
   "metadata": {},
   "outputs": [
    {
     "data": {
      "text/plain": [
       "3"
      ]
     },
     "execution_count": 2,
     "metadata": {},
     "output_type": "execute_result"
    }
   ],
   "source": [
    "'banana'.count('a')"
   ]
  },
  {
   "cell_type": "markdown",
   "id": "18ad9699",
   "metadata": {},
   "source": [
    "### 8-3\n",
    "A string slice can take a third index that specifies the “step size”; that is, the number of spaces between successive characters. A step size of 2 means every other character; 3 means every third, etc.\n",
    "\n",
    ">>> fruit = 'banana'\n",
    ">>> fruit[0:5:2]\n",
    "'bnn'\n",
    "A step size of -1 goes through the word backwards, so the slice [::-1] generates a reversed string.\n",
    "\n",
    "Use this idiom to write a one-line version of is_palindrome from Exercise 3."
   ]
  },
  {
   "cell_type": "code",
   "execution_count": 98,
   "id": "9b929826",
   "metadata": {},
   "outputs": [
    {
     "name": "stdout",
     "output_type": "stream",
     "text": [
      "True\n"
     ]
    }
   ],
   "source": [
    "def is_palindrome(word):\n",
    "    if len(word) <= 1:\n",
    "        return True\n",
    "    if first(word) != last(word):\n",
    "        return False\n",
    "    return is_palindrome(middle(word))\n",
    "\n",
    "def is_palindrome_one_line(word):\n",
    "    if word == word [::-1]:\n",
    "        return True\n",
    "    else:\n",
    "        return False\n",
    "\n",
    "\n",
    "print(is_palindrome_one_line('yay'))"
   ]
  },
  {
   "cell_type": "markdown",
   "id": "81e2ec00",
   "metadata": {},
   "source": [
    "### 8-4\n",
    "The following functions are all intended to check whether a string contains any lowercase letters, but at least some of them are wrong. For each function, describe what the function actually does (assuming that the parameter is a string).\n",
    "\n",
    "def any_lowercase1(s):\n",
    "    for c in s:\n",
    "        if c.islower():\n",
    "            return True\n",
    "        else:\n",
    "            return False\n",
    "          \n",
    "*This checks the first letter of the word only.\n",
    "\n",
    "def any_lowercase2(s):\n",
    "    for c in s:\n",
    "        if 'c'.islower():\n",
    "            return 'True'\n",
    "        else:\n",
    "            return 'False'\n",
    "            \n",
    "*This one only returns True.\n",
    "\n",
    "def any_lowercase3(s):\n",
    "    for c in s:\n",
    "        flag = c.islower()\n",
    "    return flag\n",
    "    \n",
    "*Only flags False if the whole word is in CAPITAL letters.\n",
    "\n",
    "def any_lowercase4(s):\n",
    "    flag = False\n",
    "    for c in s:\n",
    "        flag = flag or c.islower()\n",
    "    return flag\n",
    "\n",
    "*Again only flags False if the whole word is in CAPITAL letters.\n",
    "\n",
    "def any_lowercase5(s):\n",
    "    for c in s:\n",
    "        if not c.islower():\n",
    "            return False\n",
    "    return True\n",
    "    \n",
    " *This one works!"
   ]
  },
  {
   "cell_type": "code",
   "execution_count": 99,
   "id": "f693b1bb",
   "metadata": {},
   "outputs": [
    {
     "name": "stdout",
     "output_type": "stream",
     "text": [
      "True\n"
     ]
    }
   ],
   "source": [
    "def any_lowercase1(s):\n",
    "    for c in s:\n",
    "        if c.islower():\n",
    "            return True\n",
    "        else:\n",
    "            return False  \n",
    "\n",
    "def any_lowercase2(s):\n",
    "    for c in s:\n",
    "        if 'c'.islower():\n",
    "            return 'True'\n",
    "        else:\n",
    "            return 'False'\n",
    "\n",
    "def any_lowercase3(s):\n",
    "    for c in s:\n",
    "        flag = c.islower()\n",
    "    return flag\n",
    "\n",
    "def any_lowercase4(s):\n",
    "    flag = False\n",
    "    for c in s:\n",
    "        flag = flag or c.islower()\n",
    "    return flag\n",
    "\n",
    "def any_lowercase5(s):\n",
    "    for c in s:\n",
    "        if not c.islower():\n",
    "            return False\n",
    "    return True\n",
    "\n",
    "print(any_lowercase5('heart'))"
   ]
  },
  {
   "cell_type": "markdown",
   "id": "83ead822",
   "metadata": {},
   "source": [
    "### 8-5\n",
    "\n",
    "A Caesar cypher is a weak form of encryption that involves “rotating” each letter by a fixed number of places. To rotate a letter means to shift it through the alphabet, wrapping around to the beginning if necessary, so ’A’ rotated by 3 is ’D’ and ’Z’ rotated by 1 is ’A’.\n",
    "To rotate a word, rotate each letter by the same amount. For example, “cheer” rotated by 7 is “jolly” and “melon” rotated by -10 is “cubed”. In the movie 2001: A Space Odyssey, the ship computer is called HAL, which is IBM rotated by -1.\n",
    "Write a function called rotate_word that takes a string and an integer as parameters, and returns a new string that contains the letters from the original string rotated by the given amount.\n",
    "You might want to use the built-in function ord, which converts a character to a numeric code, and chr, which converts numeric codes to characters. Letters of the alphabet are encoded in alphabetical order, so for example:\n",
    ">>> ord('c') - ord('a')\n",
    "2\n",
    "\n",
    "Because 'c' is the two-eth letter of the alphabet. But beware: the numeric codes for upper case letters are different.\n",
    "Potentially offensive jokes on the Internet are sometimes encoded in ROT13, which is a Caesar cypher with rotation 13. If you are not easily offended, find and decode some of them. Solution: http://thinkpython2.com/code/rotate.py."
   ]
  },
  {
   "cell_type": "code",
   "execution_count": 65,
   "id": "561147a9",
   "metadata": {},
   "outputs": [
    {
     "name": "stdout",
     "output_type": "stream",
     "text": [
      "Word: Yes!\n",
      "LRF!\n"
     ]
    }
   ],
   "source": [
    "word = 'Yes!'\n",
    "rotation_no = 13\n",
    "\n",
    "encryption = ''\n",
    "for c in word:\n",
    "    if c.isupper():\n",
    "        \n",
    "        letter_as_number = ord(c)\n",
    "    \n",
    "        letter_position = ord(c)-ord(\"A\")\n",
    "        \n",
    "        new_letter_position = (letter_position + rotation_no) %26\n",
    "    \n",
    "        new_number_letter = new_letter_position + ord(\"A\")\n",
    "        \n",
    "        new_letter_as_character = chr(new_number_letter)\n",
    "        \n",
    "        encryption = encryption + new_letter_as_character\n",
    "        \n",
    "    elif c.islower():\n",
    "        \n",
    "        letter_as_number = ord(c)\n",
    "    \n",
    "        letter_position = ord(c)-ord(\"a\")\n",
    "    \n",
    "        new_letter_position = (letter_position + rotation_no) %26\n",
    "    \n",
    "        new_number_letter = new_letter_position + ord(\"A\")\n",
    "        \n",
    "        new_letter_as_character = chr(new_number_letter)\n",
    "        \n",
    "        encryption = encryption + new_letter_as_character\n",
    "        \n",
    "    else:\n",
    "        encryption += c\n",
    "            \n",
    "\n",
    "print(\"Word:\", word)\n",
    "\n",
    "print(encryption)\n"
   ]
  }
 ],
 "metadata": {
  "kernelspec": {
   "display_name": "Python 3 (ipykernel)",
   "language": "python",
   "name": "python3"
  },
  "language_info": {
   "codemirror_mode": {
    "name": "ipython",
    "version": 3
   },
   "file_extension": ".py",
   "mimetype": "text/x-python",
   "name": "python",
   "nbconvert_exporter": "python",
   "pygments_lexer": "ipython3",
   "version": "3.9.13"
  }
 },
 "nbformat": 4,
 "nbformat_minor": 5
}
