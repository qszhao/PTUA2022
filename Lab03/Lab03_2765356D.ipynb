{
 "cells": [
  {
   "cell_type": "markdown",
   "id": "21d6e77f",
   "metadata": {},
   "source": [
    "## Assignment ##"
   ]
  },
  {
   "cell_type": "markdown",
   "id": "a191be39",
   "metadata": {},
   "source": [
    "2765356D"
   ]
  },
  {
   "cell_type": "markdown",
   "id": "c03b3b1e",
   "metadata": {},
   "source": [
    "### Exercise 2.1 ###"
   ]
  },
  {
   "cell_type": "markdown",
   "id": "3359e9b4",
   "metadata": {},
   "source": [
    "*Repeating my advice from the previous chapter, whenever you learn a new feature, you should try it out in interactive mode and make errors on purpose to see what goes wrong.*"
   ]
  },
  {
   "cell_type": "markdown",
   "id": "0d6c1fe1",
   "metadata": {},
   "source": [
    "We’ve seen that n = 42 is legal. What about 42 = n?"
   ]
  },
  {
   "cell_type": "code",
   "execution_count": 1,
   "id": "6e4f3852",
   "metadata": {},
   "outputs": [
    {
     "ename": "SyntaxError",
     "evalue": "cannot assign to literal (3090476294.py, line 1)",
     "output_type": "error",
     "traceback": [
      "\u001b[1;36m  File \u001b[1;32m\"C:\\Users\\17328\\AppData\\Local\\Temp\\ipykernel_28924\\3090476294.py\"\u001b[1;36m, line \u001b[1;32m1\u001b[0m\n\u001b[1;33m    42 = n\u001b[0m\n\u001b[1;37m    ^\u001b[0m\n\u001b[1;31mSyntaxError\u001b[0m\u001b[1;31m:\u001b[0m cannot assign to literal\n"
     ]
    }
   ],
   "source": [
    "42 = n"
   ]
  },
  {
   "cell_type": "markdown",
   "id": "4085b14e",
   "metadata": {},
   "source": [
    "The value cannot be assigned."
   ]
  },
  {
   "cell_type": "markdown",
   "id": "157ad3ea",
   "metadata": {},
   "source": [
    "How about x = y = 1?"
   ]
  },
  {
   "cell_type": "code",
   "execution_count": 3,
   "id": "88920b7c",
   "metadata": {},
   "outputs": [],
   "source": [
    "x = y = 1"
   ]
  },
  {
   "cell_type": "code",
   "execution_count": 4,
   "id": "4e103c32",
   "metadata": {},
   "outputs": [
    {
     "data": {
      "text/plain": [
       "1"
      ]
     },
     "execution_count": 4,
     "metadata": {},
     "output_type": "execute_result"
    }
   ],
   "source": [
    "x"
   ]
  },
  {
   "cell_type": "code",
   "execution_count": 5,
   "id": "b94ac409",
   "metadata": {},
   "outputs": [
    {
     "data": {
      "text/plain": [
       "1"
      ]
     },
     "execution_count": 5,
     "metadata": {},
     "output_type": "execute_result"
    }
   ],
   "source": [
    "y"
   ]
  },
  {
   "cell_type": "markdown",
   "id": "94f986ff",
   "metadata": {},
   "source": [
    "Values can be assigned to x and y in this situation."
   ]
  },
  {
   "cell_type": "markdown",
   "id": "4feed184",
   "metadata": {},
   "source": [
    "In some languages every statement ends with a semi-colon,what happens if you put a semi-colon at the end of a Python statement?"
   ]
  },
  {
   "cell_type": "code",
   "execution_count": 8,
   "id": "2f3ad5f8",
   "metadata": {},
   "outputs": [],
   "source": [
    "miles = 26.2;\n",
    "miles * 1.61;"
   ]
  },
  {
   "cell_type": "code",
   "execution_count": 9,
   "id": "bba461d5",
   "metadata": {},
   "outputs": [
    {
     "data": {
      "text/plain": [
       "42.182"
      ]
     },
     "execution_count": 9,
     "metadata": {},
     "output_type": "execute_result"
    }
   ],
   "source": [
    "miles = 26.2;\n",
    "miles * 1.61"
   ]
  },
  {
   "cell_type": "markdown",
   "id": "0183ec83",
   "metadata": {},
   "source": [
    "If the statement ends with a semi-colon, the code will not run an output; while if a sentence ends with a semi-colon, the code can run successfully."
   ]
  },
  {
   "cell_type": "markdown",
   "id": "15d5af64",
   "metadata": {},
   "source": [
    "What if you put a period at the end of a statement?"
   ]
  },
  {
   "cell_type": "code",
   "execution_count": 10,
   "id": "d400afdb",
   "metadata": {},
   "outputs": [
    {
     "ename": "SyntaxError",
     "evalue": "invalid syntax (531806481.py, line 2)",
     "output_type": "error",
     "traceback": [
      "\u001b[1;36m  File \u001b[1;32m\"C:\\Users\\17328\\AppData\\Local\\Temp\\ipykernel_28924\\531806481.py\"\u001b[1;36m, line \u001b[1;32m2\u001b[0m\n\u001b[1;33m    miles * 1.61.\u001b[0m\n\u001b[1;37m                 ^\u001b[0m\n\u001b[1;31mSyntaxError\u001b[0m\u001b[1;31m:\u001b[0m invalid syntax\n"
     ]
    }
   ],
   "source": [
    "miles = 26.2;\n",
    "miles * 1.61."
   ]
  },
  {
   "cell_type": "markdown",
   "id": "03dd6d89",
   "metadata": {},
   "source": [
    "It will result in an error for invalid syntax."
   ]
  },
  {
   "cell_type": "markdown",
   "id": "0c766071",
   "metadata": {},
   "source": [
    "In math notation you can multiply x and y like this: x y. What happens if you try that in Python?"
   ]
  },
  {
   "cell_type": "code",
   "execution_count": 14,
   "id": "748b861a",
   "metadata": {},
   "outputs": [
    {
     "ename": "SyntaxError",
     "evalue": "invalid syntax (1229249827.py, line 3)",
     "output_type": "error",
     "traceback": [
      "\u001b[1;36m  File \u001b[1;32m\"C:\\Users\\17328\\AppData\\Local\\Temp\\ipykernel_28924\\1229249827.py\"\u001b[1;36m, line \u001b[1;32m3\u001b[0m\n\u001b[1;33m    x y\u001b[0m\n\u001b[1;37m      ^\u001b[0m\n\u001b[1;31mSyntaxError\u001b[0m\u001b[1;31m:\u001b[0m invalid syntax\n"
     ]
    }
   ],
   "source": [
    "x=2\n",
    "y=4\n",
    "x y"
   ]
  },
  {
   "cell_type": "markdown",
   "id": "c73d95fb",
   "metadata": {},
   "source": [
    "It will result in an error of invalid syntax."
   ]
  },
  {
   "cell_type": "markdown",
   "id": "c9df06bd",
   "metadata": {},
   "source": [
    "### Exercise 2.2 ###"
   ]
  },
  {
   "cell_type": "markdown",
   "id": "6f68b01c",
   "metadata": {},
   "source": [
    "*Practice using the Python interpreter as a calculator:*"
   ]
  },
  {
   "cell_type": "markdown",
   "id": "eb1c4868",
   "metadata": {},
   "source": [
    "The volume of a sphere with radius r is 4/3 π r3. What is the volume of a sphere with radius 5?"
   ]
  },
  {
   "cell_type": "code",
   "execution_count": 18,
   "id": "8fe90ae3",
   "metadata": {},
   "outputs": [
    {
     "data": {
      "text/plain": [
       "294.5243109375"
      ]
     },
     "execution_count": 18,
     "metadata": {},
     "output_type": "execute_result"
    }
   ],
   "source": [
    "π = 3.14159265\n",
    "r = 5\n",
    "volume = 3/4 * π * r * r * r\n",
    "volume\n"
   ]
  },
  {
   "cell_type": "markdown",
   "id": "4cc5de29",
   "metadata": {},
   "source": [
    "when π equals to 3.14159265, the volume for r=5 is 294.5243109375"
   ]
  },
  {
   "cell_type": "markdown",
   "id": "8405b0c7",
   "metadata": {},
   "source": [
    "Suppose the cover price of a book is $24.95, but bookstores get a 40% discount. Shipping costs $3 for the first copy and 75 cents for each additional copy. What is the total wholesale cost for 60 copies?"
   ]
  },
  {
   "cell_type": "code",
   "execution_count": 49,
   "id": "582c2c5c",
   "metadata": {},
   "outputs": [
    {
     "name": "stdout",
     "output_type": "stream",
     "text": [
      "The total wholesale is $617.7\n"
     ]
    }
   ],
   "source": [
    "price = 24.95\n",
    "discount = 0.40\n",
    "number = 60\n",
    "shipping = 3 + 0.75 * (number-1)\n",
    "total= (price * number + shipping)*discount\n",
    "print(\"The total wholesale is ${}\".format(total))"
   ]
  },
  {
   "cell_type": "markdown",
   "id": "f2a98097",
   "metadata": {},
   "source": [
    "If I leave my house at 6:52 am and run 1 mile at an easy pace (8:15 per mile), then 3 miles at tempo (7:12 per mile) and 1 mile at easy pace again, what time do I get home for breakfast?"
   ]
  },
  {
   "cell_type": "code",
   "execution_count": 39,
   "id": "cbeb0b17",
   "metadata": {},
   "outputs": [
    {
     "name": "stdout",
     "output_type": "stream",
     "text": [
      "The time is at 7:30\n"
     ]
    }
   ],
   "source": [
    "start_time = (6*60 + 52)*60\n",
    "easy = (8*60 + 15)*2\n",
    "tempo = (7*60 + 12)*3\n",
    "total_hour = (start_time + easy + tempo)/(60*60)\n",
    "int_hour = int(total_hour)\n",
    "total_minute = (total_hour - int_hour)*60\n",
    "int_minute = int(total_minute)\n",
    "print('The time is at {}:{}'.format(int_hour,int_minute))"
   ]
  },
  {
   "cell_type": "markdown",
   "id": "dcb5769c",
   "metadata": {},
   "source": [
    "### Exercise 3.1 ###"
   ]
  },
  {
   "cell_type": "markdown",
   "id": "95b2a561",
   "metadata": {},
   "source": [
    "*Read the documentation of the string methods at http://docs.python.org/3/library/stdtypes.html#string-methods. You might want to experiment with some of them to make sure you understand how they work. strip and replace are particularly useful.*"
   ]
  },
  {
   "cell_type": "markdown",
   "id": "d47c5da3",
   "metadata": {},
   "source": [
    "*The documentation uses a syntax that might be confusing. For example, in find(sub[, start[, end]]), the brackets indicate optional arguments. So sub is required, but start is optional, and if you include start, then end is optional.*"
   ]
  },
  {
   "cell_type": "code",
   "execution_count": 54,
   "id": "089e714c",
   "metadata": {},
   "outputs": [
    {
     "name": "stdout",
     "output_type": "stream",
     "text": [
      "2\n"
     ]
    }
   ],
   "source": [
    "fruit = 'banana'\n",
    "print(fruit.find('na',1))"
   ]
  },
  {
   "cell_type": "markdown",
   "id": "9c9b7339",
   "metadata": {},
   "source": [
    "### Exercise 3.2 ###"
   ]
  },
  {
   "cell_type": "markdown",
   "id": "536e0532",
   "metadata": {},
   "source": [
    "There is a string method called count that is similar to the function in Section 8.7. Read the documentation of this method and write an invocation that counts the number of a’s in 'banana'."
   ]
  },
  {
   "cell_type": "code",
   "execution_count": 52,
   "id": "c755c7ec",
   "metadata": {},
   "outputs": [
    {
     "data": {
      "text/plain": [
       "3"
      ]
     },
     "execution_count": 52,
     "metadata": {},
     "output_type": "execute_result"
    }
   ],
   "source": [
    "\"banana\".count(\"a\")"
   ]
  },
  {
   "cell_type": "markdown",
   "id": "b5368bb4",
   "metadata": {},
   "source": [
    "### Exercise 3.3 ###"
   ]
  },
  {
   "cell_type": "markdown",
   "id": "256e340d",
   "metadata": {},
   "source": [
    "A string slice can take a third index that specifies the “step size”; that is, the number of spaces between successive characters. A step size of 2 means every other character; 3 means every third, etc."
   ]
  },
  {
   "cell_type": "code",
   "execution_count": 42,
   "id": "a01f8048",
   "metadata": {},
   "outputs": [
    {
     "data": {
      "text/plain": [
       "'bnn'"
      ]
     },
     "execution_count": 42,
     "metadata": {},
     "output_type": "execute_result"
    }
   ],
   "source": [
    ">>> fruit = 'banana'\n",
    ">>> fruit[0:5:2]"
   ]
  },
  {
   "cell_type": "markdown",
   "id": "3bb03eb1",
   "metadata": {},
   "source": [
    "A step size of -1 goes through the word backwards, so the slice [::-1] generates a reversed string.\n",
    "Use this idiom to write a one-line version of is_palindrome from Exercise 3."
   ]
  },
  {
   "cell_type": "code",
   "execution_count": 50,
   "id": "aaa788b4",
   "metadata": {},
   "outputs": [
    {
     "data": {
      "text/plain": [
       "'ananab'"
      ]
     },
     "execution_count": 50,
     "metadata": {},
     "output_type": "execute_result"
    }
   ],
   "source": [
    "fruit = 'banana'\n",
    "fruit[::-1]"
   ]
  },
  {
   "cell_type": "markdown",
   "id": "e80917fc",
   "metadata": {},
   "source": [
    "### Exercise 3.4 ###"
   ]
  },
  {
   "cell_type": "markdown",
   "id": "7efcef28",
   "metadata": {},
   "source": [
    "The following functions are all intended to check whether a string contains any lowercase letters, but at least some of them are wrong. For each function, describe what the function actually does (assuming that the parameter is a string)."
   ]
  },
  {
   "cell_type": "markdown",
   "id": "bb657124",
   "metadata": {},
   "source": [
    "def any_lowercase1(s):\n",
    "    for c in s:\n",
    "        if c.islower():\n",
    "            return True\n",
    "        else:\n",
    "            return False "
   ]
  },
  {
   "cell_type": "code",
   "execution_count": 58,
   "id": "9252bc59",
   "metadata": {},
   "outputs": [
    {
     "data": {
      "text/plain": [
       "False"
      ]
     },
     "execution_count": 58,
     "metadata": {},
     "output_type": "execute_result"
    }
   ],
   "source": [
    "def any_lowercase1(s):\n",
    "    for c in s:\n",
    "        if c.islower():\n",
    "            return True\n",
    "        else:\n",
    "            return False\n",
    "any_lowercase1('HELLO world')"
   ]
  },
  {
   "cell_type": "markdown",
   "id": "f78cf454",
   "metadata": {},
   "source": [
    "The function detects whether the characters of the string are all lowercase, if the string contains any uppercase letters, it will result in \"False\"."
   ]
  },
  {
   "cell_type": "markdown",
   "id": "69adac46",
   "metadata": {},
   "source": [
    "def any_lowercase2(s):\n",
    "    for c in s:\n",
    "        if 'c'.islower():\n",
    "            return 'True'\n",
    "        else:\n",
    "            return 'False'"
   ]
  },
  {
   "cell_type": "code",
   "execution_count": 61,
   "id": "7f447b40",
   "metadata": {},
   "outputs": [
    {
     "data": {
      "text/plain": [
       "'True'"
      ]
     },
     "execution_count": 61,
     "metadata": {},
     "output_type": "execute_result"
    }
   ],
   "source": [
    "def any_lowercase2(s):\n",
    "    for c in s:\n",
    "        if 'c'.islower():\n",
    "            return 'True'\n",
    "        else:\n",
    "            return 'False'\n",
    "any_lowercase2('HELLOWORLD')"
   ]
  },
  {
   "cell_type": "markdown",
   "id": "66370b03",
   "metadata": {},
   "source": [
    "The function detects if 'c' is a lowercase letter so whatever is put into the function will result in 'True'."
   ]
  },
  {
   "cell_type": "markdown",
   "id": "f69142f4",
   "metadata": {},
   "source": [
    "def any_lowercase3(s):\n",
    "    for c in s:\n",
    "        flag = c.islower()\n",
    "    return flag"
   ]
  },
  {
   "cell_type": "code",
   "execution_count": 64,
   "id": "e7126b08",
   "metadata": {},
   "outputs": [
    {
     "data": {
      "text/plain": [
       "True"
      ]
     },
     "execution_count": 64,
     "metadata": {},
     "output_type": "execute_result"
    }
   ],
   "source": [
    "def any_lowercase3(s):\n",
    "    for c in s:\n",
    "        flag = c.islower()\n",
    "    return flag\n",
    "any_lowercase3('HELLO world')"
   ]
  },
  {
   "cell_type": "markdown",
   "id": "05a57ea2",
   "metadata": {},
   "source": [
    "The function can successfully check whether the string contains any lowercase letters."
   ]
  },
  {
   "cell_type": "markdown",
   "id": "d30c2809",
   "metadata": {},
   "source": [
    "def any_lowercase4(s):\n",
    "    flag = False\n",
    "    for c in s:\n",
    "        flag = flag or c.islower()\n",
    "    return flag"
   ]
  },
  {
   "cell_type": "code",
   "execution_count": 67,
   "id": "36bfded2",
   "metadata": {},
   "outputs": [
    {
     "data": {
      "text/plain": [
       "True"
      ]
     },
     "execution_count": 67,
     "metadata": {},
     "output_type": "execute_result"
    }
   ],
   "source": [
    "def any_lowercase4(s):\n",
    "    flag = False\n",
    "    for c in s:\n",
    "        flag = flag or c.islower()\n",
    "    return flag\n",
    "any_lowercase4('HELLO world')"
   ]
  },
  {
   "cell_type": "markdown",
   "id": "afcccc4a",
   "metadata": {},
   "source": [
    "The function can successfully check whether the string contains any lowercase letters."
   ]
  },
  {
   "cell_type": "markdown",
   "id": "ae917d64",
   "metadata": {},
   "source": [
    "def any_lowercase5(s):\n",
    "    for c in s:\n",
    "        if not c.islower():\n",
    "            return False\n",
    "    return True"
   ]
  },
  {
   "cell_type": "code",
   "execution_count": 71,
   "id": "4de709aa",
   "metadata": {},
   "outputs": [
    {
     "data": {
      "text/plain": [
       "False"
      ]
     },
     "execution_count": 71,
     "metadata": {},
     "output_type": "execute_result"
    }
   ],
   "source": [
    "def any_lowercase5(s):\n",
    "    for c in s:\n",
    "        if not c.islower():\n",
    "            return False\n",
    "    return True\n",
    "any_lowercase5('Hello world')"
   ]
  },
  {
   "cell_type": "markdown",
   "id": "833b7eff",
   "metadata": {},
   "source": [
    "The function detects whether the characters of the string are all lowercase, if the string contains any uppercase letters, it will result in \"False\"."
   ]
  },
  {
   "cell_type": "markdown",
   "id": "2f4296d7",
   "metadata": {},
   "source": [
    "### Exercise 3.5 ###"
   ]
  },
  {
   "cell_type": "markdown",
   "id": "d048b8aa",
   "metadata": {},
   "source": [
    "A Caesar cypher is a weak form of encryption that involves “rotating” each letter by a fixed number of places. To rotate a letter means to shift it through the alphabet, wrapping around to the beginning if necessary, so ’A’ rotated by 3 is ’D’ and ’Z’ rotated by 1 is ’A’.\n",
    "\n",
    "To rotate a word, rotate each letter by the same amount. For example, “cheer” rotated by 7 is “jolly” and “melon” rotated by -10 is “cubed”. In the movie 2001: A Space Odyssey, the ship computer is called HAL, which is IBM rotated by -1.\n",
    "\n",
    "Write a function called rotate_word that takes a string and an integer as parameters, and returns a new string that contains the letters from the original string rotated by the given amount.\n",
    "\n",
    "You might want to use the built-in function ord, which converts a character to a numeric code, and chr, which converts numeric codes to characters. Letters of the alphabet are encoded in alphabetical order, so for example:"
   ]
  },
  {
   "cell_type": "code",
   "execution_count": 72,
   "id": "aa7a5c4a",
   "metadata": {},
   "outputs": [
    {
     "data": {
      "text/plain": [
       "2"
      ]
     },
     "execution_count": 72,
     "metadata": {},
     "output_type": "execute_result"
    }
   ],
   "source": [
    ">>> ord('c') - ord('a')"
   ]
  },
  {
   "cell_type": "markdown",
   "id": "7a00429e",
   "metadata": {},
   "source": [
    "Because 'c' is the two-eth letter of the alphabet. But beware: the numeric codes for upper case letters are different.\n",
    "\n",
    "Potentially offensive jokes on the Internet are sometimes encoded in ROT13, which is a Caesar cypher with rotation 13. If you are not easily offended, find and decode some of them. Solution: http://thinkpython2.com/code/rotate.py."
   ]
  },
  {
   "cell_type": "code",
   "execution_count": 76,
   "id": "ee668396",
   "metadata": {},
   "outputs": [
    {
     "name": "stdout",
     "output_type": "stream",
     "text": [
      "Khoor Zruog"
     ]
    }
   ],
   "source": [
    "def rotate_string(s):\n",
    "    for c in range(len(s)):\n",
    "        if ord('a')<=ord(s[c])<=ord('z'):\n",
    "            print(chr((ord(s[c])+3-ord('a'))%26+ord('a')),end=\"\")\n",
    "        elif ord('A')<=ord(s[c])<=ord('Z'):\n",
    "            print(chr((ord(s[c])+3-ord('A'))%26+ord('A')),end=\"\")\n",
    "        else:\n",
    "            print(s[c],end=\"\")\n",
    "rotate_string('Hello World')"
   ]
  },
  {
   "cell_type": "code",
   "execution_count": null,
   "id": "f70f3ddf",
   "metadata": {},
   "outputs": [],
   "source": []
  }
 ],
 "metadata": {
  "kernelspec": {
   "display_name": "Python 3 (ipykernel)",
   "language": "python",
   "name": "python3"
  },
  "language_info": {
   "codemirror_mode": {
    "name": "ipython",
    "version": 3
   },
   "file_extension": ".py",
   "mimetype": "text/x-python",
   "name": "python",
   "nbconvert_exporter": "python",
   "pygments_lexer": "ipython3",
   "version": "3.9.13"
  }
 },
 "nbformat": 4,
 "nbformat_minor": 5
}
