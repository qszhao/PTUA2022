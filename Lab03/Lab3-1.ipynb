{
 "cells": [
  {
   "cell_type": "markdown",
   "id": "bcb3faf1",
   "metadata": {},
   "source": [
    "## Chapter 2 Exercises 1-2"
   ]
  },
  {
   "cell_type": "markdown",
   "id": "772d6669",
   "metadata": {},
   "source": [
    "1.1 We get a syntax error. *42 = N* is illegal because a number can not be the start of the vairable name."
   ]
  },
  {
   "cell_type": "markdown",
   "id": "a9b47d04",
   "metadata": {},
   "source": [
    "1.2 x and y are given the integer 1."
   ]
  },
  {
   "cell_type": "code",
   "execution_count": 17,
   "id": "7b7d2af1",
   "metadata": {},
   "outputs": [
    {
     "name": "stdout",
     "output_type": "stream",
     "text": [
      "1 1\n"
     ]
    }
   ],
   "source": [
    " x = y = 1\n",
    "print(x,y)"
   ]
  },
  {
   "cell_type": "markdown",
   "id": "b682cb1f",
   "metadata": {},
   "source": [
    "1.3 It also works.<br>\n",
    "Reference: https://www.pythonpool.com/python-semicolon/#:~:text=The%20semicolon%20in%20python%20is%20used%20to%20denote,two%20statements%20where%20the%20second%20statement%20is%20empty."
   ]
  },
  {
   "cell_type": "code",
   "execution_count": 18,
   "id": "d1f46d86",
   "metadata": {},
   "outputs": [
    {
     "name": "stdout",
     "output_type": "stream",
     "text": [
      "1\n"
     ]
    }
   ],
   "source": [
    "print(x);"
   ]
  },
  {
   "cell_type": "markdown",
   "id": "c58a7521",
   "metadata": {},
   "source": [
    "1.4 It shows \"SyntaxError\"."
   ]
  },
  {
   "cell_type": "code",
   "execution_count": 19,
   "id": "e98676c7",
   "metadata": {},
   "outputs": [
    {
     "ename": "SyntaxError",
     "evalue": "invalid syntax (3008632908.py, line 1)",
     "output_type": "error",
     "traceback": [
      "\u001b[1;36m  File \u001b[1;32m\"C:\\Users\\Angle Lu\\AppData\\Local\\Temp\\ipykernel_4552\\3008632908.py\"\u001b[1;36m, line \u001b[1;32m1\u001b[0m\n\u001b[1;33m    print(x).\u001b[0m\n\u001b[1;37m             ^\u001b[0m\n\u001b[1;31mSyntaxError\u001b[0m\u001b[1;31m:\u001b[0m invalid syntax\n"
     ]
    }
   ],
   "source": [
    "print(x)."
   ]
  },
  {
   "cell_type": "markdown",
   "id": "208d146e",
   "metadata": {},
   "source": [
    "1.5 It shows \"NameError\". In python, it reads *xy* as a variable."
   ]
  },
  {
   "cell_type": "code",
   "execution_count": 22,
   "id": "3d9c9004",
   "metadata": {},
   "outputs": [
    {
     "ename": "NameError",
     "evalue": "name 'xy' is not defined",
     "output_type": "error",
     "traceback": [
      "\u001b[1;31m---------------------------------------------------------------------------\u001b[0m",
      "\u001b[1;31mNameError\u001b[0m                                 Traceback (most recent call last)",
      "\u001b[1;32m~\\AppData\\Local\\Temp\\ipykernel_4552\\596946483.py\u001b[0m in \u001b[0;36m<module>\u001b[1;34m\u001b[0m\n\u001b[0;32m      1\u001b[0m \u001b[0mx\u001b[0m \u001b[1;33m=\u001b[0m \u001b[1;36m2\u001b[0m\u001b[1;33m\u001b[0m\u001b[1;33m\u001b[0m\u001b[0m\n\u001b[0;32m      2\u001b[0m \u001b[0my\u001b[0m \u001b[1;33m=\u001b[0m \u001b[1;36m3\u001b[0m\u001b[1;33m\u001b[0m\u001b[1;33m\u001b[0m\u001b[0m\n\u001b[1;32m----> 3\u001b[1;33m \u001b[0mprint\u001b[0m\u001b[1;33m(\u001b[0m\u001b[0mxy\u001b[0m\u001b[1;33m)\u001b[0m\u001b[1;33m\u001b[0m\u001b[1;33m\u001b[0m\u001b[0m\n\u001b[0m",
      "\u001b[1;31mNameError\u001b[0m: name 'xy' is not defined"
     ]
    }
   ],
   "source": [
    "x = 2\n",
    "y = 3\n",
    "print(xy)"
   ]
  },
  {
   "cell_type": "code",
   "execution_count": 20,
   "id": "3fe7cdc5",
   "metadata": {},
   "outputs": [
    {
     "name": "stdout",
     "output_type": "stream",
     "text": [
      "2.1 The volume of a sphere with radius 5 is, 523.6\n",
      "2.1 The volume of a sphere with radius 5 is 523.6\n"
     ]
    }
   ],
   "source": [
    "import math\n",
    "#math.pow(5,3)\n",
    "V = round(4/3*math.pi*5**3,2)\n",
    "print(\"2.1 The volume of a sphere with radius 5 is,\",V)\n",
    "print(\"2.1 The volume of a sphere with radius 5 is %s\" % V)"
   ]
  },
  {
   "cell_type": "code",
   "execution_count": 21,
   "id": "69300452",
   "metadata": {},
   "outputs": [
    {
     "name": "stdout",
     "output_type": "stream",
     "text": [
      "2.2 The total wholesale cost for 60 copies is 922.95\n"
     ]
    }
   ],
   "source": [
    "price = round(60*24.95*(1-0.4)+3+0.75*(30-1),2)\n",
    "print(\"2.2 The total wholesale cost for 60 copies is %s\" %price)"
   ]
  },
  {
   "cell_type": "code",
   "execution_count": 25,
   "id": "0fa93beb",
   "metadata": {},
   "outputs": [
    {
     "name": "stdout",
     "output_type": "stream",
     "text": [
      "The time I get home for breakfast is 7:30 am\n"
     ]
    }
   ],
   "source": [
    "wholetime = (8*60+15)+3*(7*60+12)+(8*60+15) #second\n",
    "starttime = 6*60*60+52*60 #second\n",
    "endtime = starttime + wholetime #second\n",
    "endhour = int(endtime/60/60) #hour\n",
    "endminute = int((endtime - endhour*3600)/60) #minute\n",
    "print(\"The time I get home for breakfast is %s:%s am\"%(endhour,endminute))"
   ]
  },
  {
   "cell_type": "markdown",
   "id": "49bc359c",
   "metadata": {},
   "source": [
    "## Chapter 8 Exercise 1-5"
   ]
  },
  {
   "cell_type": "code",
   "execution_count": 35,
   "id": "f6992f0b",
   "metadata": {},
   "outputs": [
    {
     "data": {
      "text/plain": [
       "'       Strin        '"
      ]
     },
     "execution_count": 35,
     "metadata": {},
     "output_type": "execute_result"
    }
   ],
   "source": [
    "#Exercise 8.1\n",
    "string1 = \"string\"\n",
    "string2 = \"Strin\"\n",
    "string3 = \"sTRING\"\n",
    "string1.capitalize()\n",
    "string1.casefold()\n",
    "string2.center(20) #Supplement by input byte length"
   ]
  },
  {
   "cell_type": "code",
   "execution_count": 38,
   "id": "2fddc1a5",
   "metadata": {},
   "outputs": [
    {
     "name": "stdout",
     "output_type": "stream",
     "text": [
      "The number of 'a' in 'banana' is 3.\n"
     ]
    }
   ],
   "source": [
    "#Exercise 8.2\n",
    "word = 'banana'\n",
    "number = word.count('a')\n",
    "print(\"The number of 'a' in 'banana' is %s.\"%number)"
   ]
  },
  {
   "cell_type": "code",
   "execution_count": 40,
   "id": "e56e3c0f",
   "metadata": {},
   "outputs": [
    {
     "name": "stdout",
     "output_type": "stream",
     "text": [
      "This is not a palindrome.\n"
     ]
    }
   ],
   "source": [
    "#Exercise 8.3\n",
    "def is_palindrome(x):\n",
    "    if x[:] == x[::-1]:\n",
    "        print(\"This is a palindrome.\")\n",
    "    else:\n",
    "        print(\"This is not a palindrome.\")\n",
    "\n",
    "is_palindrome(\"sting\")      "
   ]
  },
  {
   "cell_type": "markdown",
   "id": "d0eb7a60",
   "metadata": {},
   "source": [
    "Exercise 8.4<br>\n",
    "any_lowercase1: use to check whether the string contains any lowercase letters.<br>\n",
    "any_lowercase2: use to check whether 'c' contains any lowercase letters instead of the parameter.<br>\n",
    "any_lowercase3: use to check whether the last letter of the string is lowercase letter.<br>\n",
    "any_lowercase4: use to check whether the string contains any lowercase letters.<br>\n",
    "any_lowercase5: use to check whether this string contains capital letter.<br>"
   ]
  },
  {
   "cell_type": "code",
   "execution_count": 8,
   "id": "1163e3c1",
   "metadata": {},
   "outputs": [
    {
     "name": "stdout",
     "output_type": "stream",
     "text": [
      "True\n",
      "<class 'str'>\n",
      "False\n",
      "<class 'bool'>\n"
     ]
    }
   ],
   "source": [
    "# Check for Exercise 8.4\n",
    "def any_lowercase4(s):\n",
    "    flag = False\n",
    "    for c in s:\n",
    "        flag = flag or c.islower()\n",
    "    return flag\n",
    "\n",
    "def any_lowercase1(s):\n",
    "    for c in s:\n",
    "        if c.islower():\n",
    "            return True #Break out of the loop when the condition is met\n",
    "        else:\n",
    "            return False\n",
    "        \n",
    "def any_lowercase3(s):\n",
    "    for c in s:\n",
    "        flag = c.islower()\n",
    "    return flag  #This uses to check whether the last letter of the string is lowercase letter.\n",
    "\n",
    "def any_lowercase2(s):\n",
    "    for c in s:\n",
    "        if 'c'.islower():\n",
    "            return 'True'\n",
    "        else:\n",
    "            return 'False' #The loop here is useless\n",
    "\n",
    "\n",
    "def any_lowercase5(s):\n",
    "    for c in s:\n",
    "        if not c.islower():\n",
    "            return False\n",
    "    return True  #This uses to check whether this string contains capital letter\n"
   ]
  },
  {
   "cell_type": "code",
   "execution_count": 1,
   "id": "f88294b4",
   "metadata": {},
   "outputs": [
    {
     "name": "stdout",
     "output_type": "stream",
     "text": [
      "dd\n",
      "xx\n"
     ]
    }
   ],
   "source": [
    "#Exercise 8.5\n",
    "def rotate_word(string,n):\n",
    "    a = ['a','b','c','d','e','f','g','h','i','j','k','l','m','n','o','p','q','r','s','t','u','v','w','x','y','z']\n",
    "    string_new = \"\"\n",
    "    for s in string:\n",
    "        s = a[a.index(s.lower())+n]\n",
    "        string_new = string_new+s\n",
    "    return string_new\n",
    "\n",
    "print(rotate_word(\"Aa\",3))\n",
    "print(rotate_word(\"Aa\",-3))"
   ]
  },
  {
   "cell_type": "markdown",
   "id": "e00c3eb0",
   "metadata": {},
   "source": [
    "## Reference List:\n",
    "Output symbol: https://blog.csdn.net/u013216667/article/details/51316971<br>\n",
    "Rounding: https://www.cnblogs.com/sen-c7/p/9473224.html#:~:text=Python%E5%8F%96%E6%95%B4%E5%8F%8A%E4%BF%9D%E7%95%99%E5%B0%8F%E6%95%B0%E5%B0%8F%E7%BB%93%201.int%20%28%29%20%E5%90%91%E4%B8%8B%E5%8F%96%E6%95%B4%20%E5%86%85%E7%BD%AE%E5%87%BD%E6%95%B0%201%20n%20%3D,3%20n%20%3D%203.25%204%20print%20%28int%20%28n%29%29<br>"
   ]
  },
  {
   "cell_type": "code",
   "execution_count": null,
   "id": "5fc5ff85",
   "metadata": {},
   "outputs": [],
   "source": []
  }
 ],
 "metadata": {
  "kernelspec": {
   "display_name": "Python 3 (ipykernel)",
   "language": "python",
   "name": "python3"
  },
  "language_info": {
   "codemirror_mode": {
    "name": "ipython",
    "version": 3
   },
   "file_extension": ".py",
   "mimetype": "text/x-python",
   "name": "python",
   "nbconvert_exporter": "python",
   "pygments_lexer": "ipython3",
   "version": "3.9.13"
  }
 },
 "nbformat": 4,
 "nbformat_minor": 5
}
