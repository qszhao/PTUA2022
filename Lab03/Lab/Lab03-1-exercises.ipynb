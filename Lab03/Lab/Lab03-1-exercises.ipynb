{
 "cells": [
  {
   "cell_type": "markdown",
   "id": "56aff7d4",
   "metadata": {},
   "source": [
    "## Chpt 2 Exercise 1 "
   ]
  },
  {
   "cell_type": "code",
   "execution_count": 48,
   "id": "c40f2811",
   "metadata": {},
   "outputs": [
    {
     "name": "stdout",
     "output_type": "stream",
     "text": [
      "ok\n"
     ]
    }
   ],
   "source": [
    "x=\"ok\"\n",
    "print(x);"
   ]
  },
  {
   "cell_type": "code",
   "execution_count": 49,
   "id": "92bcf394",
   "metadata": {},
   "outputs": [
    {
     "name": "stdout",
     "output_type": "stream",
     "text": [
      "ok\n"
     ]
    }
   ],
   "source": [
    "print(x)"
   ]
  },
  {
   "cell_type": "code",
   "execution_count": 50,
   "id": "f2417474",
   "metadata": {},
   "outputs": [
    {
     "name": "stdout",
     "output_type": "stream",
     "text": [
      "ok\n"
     ]
    }
   ],
   "source": [
    "print(x);"
   ]
  },
  {
   "cell_type": "code",
   "execution_count": 5,
   "id": "a703b0e7",
   "metadata": {},
   "outputs": [],
   "source": [
    "#nothing happens if you put a semicolon"
   ]
  },
  {
   "cell_type": "code",
   "execution_count": 6,
   "id": "23d5de7a",
   "metadata": {},
   "outputs": [],
   "source": [
    "def printing_numbers(num):\n",
    "    if num < 5:\n",
    "        print(num);\n",
    "        "
   ]
  },
  {
   "cell_type": "code",
   "execution_count": 7,
   "id": "1d704b2f",
   "metadata": {},
   "outputs": [],
   "source": [
    "printing_numbers(6)"
   ]
  },
  {
   "cell_type": "code",
   "execution_count": 8,
   "id": "23914832",
   "metadata": {},
   "outputs": [
    {
     "name": "stdout",
     "output_type": "stream",
     "text": [
      "4\n"
     ]
    }
   ],
   "source": [
    "printing_numbers(4)"
   ]
  },
  {
   "cell_type": "code",
   "execution_count": 9,
   "id": "ecda1c96",
   "metadata": {},
   "outputs": [
    {
     "ename": "SyntaxError",
     "evalue": "invalid syntax (3008632908.py, line 1)",
     "output_type": "error",
     "traceback": [
      "\u001b[1;36m  File \u001b[1;32m\"C:\\Users\\Savia\\AppData\\Local\\Temp\\ipykernel_4032\\3008632908.py\"\u001b[1;36m, line \u001b[1;32m1\u001b[0m\n\u001b[1;33m    print(x).\u001b[0m\n\u001b[1;37m             ^\u001b[0m\n\u001b[1;31mSyntaxError\u001b[0m\u001b[1;31m:\u001b[0m invalid syntax\n"
     ]
    }
   ],
   "source": [
    "print(x)."
   ]
  },
  {
   "cell_type": "code",
   "execution_count": 10,
   "id": "35638b7e",
   "metadata": {},
   "outputs": [],
   "source": [
    "#invalid syntax with a ."
   ]
  },
  {
   "cell_type": "code",
   "execution_count": 12,
   "id": "f0f66270",
   "metadata": {},
   "outputs": [
    {
     "data": {
      "text/plain": [
       "15"
      ]
     },
     "execution_count": 12,
     "metadata": {},
     "output_type": "execute_result"
    }
   ],
   "source": [
    "x = 5\n",
    "y = 3\n",
    "x*y"
   ]
  },
  {
   "cell_type": "markdown",
   "id": "dee242f5",
   "metadata": {},
   "source": [
    "## Exercise 2"
   ]
  },
  {
   "cell_type": "code",
   "execution_count": 16,
   "id": "1f93ecf9",
   "metadata": {},
   "outputs": [],
   "source": [
    "import random\n",
    "import math\n",
    "import matplotlib.pyplot as plt"
   ]
  },
  {
   "cell_type": "code",
   "execution_count": 19,
   "id": "0e7cd384",
   "metadata": {},
   "outputs": [],
   "source": [
    "pi = math.pi"
   ]
  },
  {
   "cell_type": "code",
   "execution_count": 40,
   "id": "24bfe0ea",
   "metadata": {},
   "outputs": [],
   "source": [
    "def formula_sphere(r): \n",
    "    answer = (4/3)*pi*(r*r)\n",
    "    print(answer)"
   ]
  },
  {
   "cell_type": "code",
   "execution_count": 41,
   "id": "f9355b59",
   "metadata": {},
   "outputs": [
    {
     "name": "stdout",
     "output_type": "stream",
     "text": [
      "104.71975511965977\n"
     ]
    }
   ],
   "source": [
    "a = formula_sphere(5)\n"
   ]
  },
  {
   "cell_type": "code",
   "execution_count": 36,
   "id": "289be467",
   "metadata": {},
   "outputs": [
    {
     "name": "stdout",
     "output_type": "stream",
     "text": [
      "None\n"
     ]
    }
   ],
   "source": [
    "print(a)"
   ]
  },
  {
   "cell_type": "code",
   "execution_count": 37,
   "id": "f3b60fe5",
   "metadata": {},
   "outputs": [],
   "source": [
    "# Suppose the cover price of a book is $24.95, but bookstores get a 40% discount. \n",
    "# Shipping costs $3 for the first copy and 75 cents for each additional copy. \n",
    "# What is the total wholesale cost for 60 copies?"
   ]
  },
  {
   "cell_type": "code",
   "execution_count": 46,
   "id": "1889b1dc",
   "metadata": {},
   "outputs": [],
   "source": [
    "cost = (24.95*0.6*60 ) + (3 + (0.75*59))"
   ]
  },
  {
   "cell_type": "code",
   "execution_count": 47,
   "id": "7cc09821",
   "metadata": {},
   "outputs": [
    {
     "data": {
      "text/plain": [
       "945.4499999999999"
      ]
     },
     "execution_count": 47,
     "metadata": {},
     "output_type": "execute_result"
    }
   ],
   "source": [
    "cost"
   ]
  },
  {
   "cell_type": "code",
   "execution_count": 51,
   "id": "aa395258",
   "metadata": {},
   "outputs": [],
   "source": [
    "#If I leave my house at 6:52 am and run 1 mile at an easy pace (8:15 per mile), \n",
    "# then 3 miles at tempo (7:12 per mile) and 1 mile at easy pace again, what time do I get home for breakfast?"
   ]
  },
  {
   "cell_type": "markdown",
   "id": "55bd1de7",
   "metadata": {},
   "source": [
    "## Chpt 8 Exercise 1"
   ]
  },
  {
   "cell_type": "code",
   "execution_count": 54,
   "id": "bfccd764",
   "metadata": {},
   "outputs": [],
   "source": [
    "my_string = \"Roses and violets are beautiful flowers\""
   ]
  },
  {
   "cell_type": "code",
   "execution_count": 60,
   "id": "187c0ee5",
   "metadata": {},
   "outputs": [],
   "source": [
    "my_substring1 =\"Roses\""
   ]
  },
  {
   "cell_type": "code",
   "execution_count": 61,
   "id": "65c0828d",
   "metadata": {},
   "outputs": [
    {
     "data": {
      "text/plain": [
       "0"
      ]
     },
     "execution_count": 61,
     "metadata": {},
     "output_type": "execute_result"
    }
   ],
   "source": [
    "my_string.find(my_substring1)"
   ]
  },
  {
   "cell_type": "code",
   "execution_count": 62,
   "id": "3f38976c",
   "metadata": {},
   "outputs": [],
   "source": [
    "my_substring2 = \"Violets\""
   ]
  },
  {
   "cell_type": "code",
   "execution_count": 64,
   "id": "32737b96",
   "metadata": {},
   "outputs": [
    {
     "data": {
      "text/plain": [
       "15"
      ]
     },
     "execution_count": 64,
     "metadata": {},
     "output_type": "execute_result"
    }
   ],
   "source": [
    "my_string.find(my_substring2[5:])"
   ]
  },
  {
   "cell_type": "code",
   "execution_count": 65,
   "id": "cc25276b",
   "metadata": {
    "scrolled": true
   },
   "outputs": [
    {
     "data": {
      "text/plain": [
       "0"
      ]
     },
     "execution_count": 65,
     "metadata": {},
     "output_type": "execute_result"
    }
   ],
   "source": [
    "my_string.find(my_substring2[17:])"
   ]
  },
  {
   "cell_type": "markdown",
   "id": "0ab16229",
   "metadata": {},
   "source": [
    "### Exercise 2"
   ]
  },
  {
   "cell_type": "code",
   "execution_count": 73,
   "id": "275555ae",
   "metadata": {},
   "outputs": [
    {
     "name": "stdout",
     "output_type": "stream",
     "text": [
      "b\n",
      "a\n",
      "n\n",
      "a\n",
      "n\n",
      "a\n",
      "3\n"
     ]
    }
   ],
   "source": [
    "count = 0\n",
    "for letter in \"banana\":\n",
    "    print(letter)\n",
    "    if letter == \"a\":\n",
    "        count=count+1\n",
    "print(count)"
   ]
  },
  {
   "cell_type": "markdown",
   "id": "5b28601d",
   "metadata": {},
   "source": [
    "### Exercise 3"
   ]
  },
  {
   "cell_type": "code",
   "execution_count": 82,
   "id": "739c9df1",
   "metadata": {},
   "outputs": [
    {
     "data": {
      "text/plain": [
       "'srwer heeas'"
      ]
     },
     "execution_count": 82,
     "metadata": {},
     "output_type": "execute_result"
    }
   ],
   "source": [
    "cake = \"strawberry cheesecakse\"\n",
    "cake[0:len(cake): 2]"
   ]
  },
  {
   "cell_type": "markdown",
   "id": "b4de3de4",
   "metadata": {},
   "source": [
    "### Exercise 4"
   ]
  },
  {
   "cell_type": "code",
   "execution_count": 77,
   "id": "6b1910d6",
   "metadata": {},
   "outputs": [
    {
     "data": {
      "text/plain": [
       "False"
      ]
     },
     "execution_count": 77,
     "metadata": {},
     "output_type": "execute_result"
    }
   ],
   "source": [
    "def any_lowercase1(s):\n",
    "    for c in s:\n",
    "        if c.islower():\n",
    "            return True\n",
    "        else:\n",
    "            return False\n",
    "any_lowercase1(\"AABasashoda\")"
   ]
  },
  {
   "cell_type": "code",
   "execution_count": 78,
   "id": "bb713fad",
   "metadata": {},
   "outputs": [
    {
     "data": {
      "text/plain": [
       "'True'"
      ]
     },
     "execution_count": 78,
     "metadata": {},
     "output_type": "execute_result"
    }
   ],
   "source": [
    "def any_lowercase2(s):\n",
    "    for c in s:\n",
    "        if 'c'.islower():\n",
    "            return 'True'\n",
    "        else:\n",
    "            return 'False'\n",
    "any_lowercase2(\"aasidasDASDASD\")"
   ]
  },
  {
   "cell_type": "code",
   "execution_count": 79,
   "id": "55e0d76e",
   "metadata": {},
   "outputs": [
    {
     "data": {
      "text/plain": [
       "True"
      ]
     },
     "execution_count": 79,
     "metadata": {},
     "output_type": "execute_result"
    }
   ],
   "source": [
    "def any_lowercase3(s):\n",
    "    for c in s:\n",
    "        flag = c.islower()\n",
    "    return flag\n",
    "any_lowercase3(\"ASDASdasdasda\")"
   ]
  },
  {
   "cell_type": "code",
   "execution_count": 80,
   "id": "f03ad580",
   "metadata": {},
   "outputs": [
    {
     "data": {
      "text/plain": [
       "True"
      ]
     },
     "execution_count": 80,
     "metadata": {},
     "output_type": "execute_result"
    }
   ],
   "source": [
    "def any_lowercase4(s):\n",
    "    flag = False\n",
    "    for c in s:\n",
    "        flag = flag or c.islower()\n",
    "    return flag\n",
    "any_lowercase4(\"asdasdEERFe\")"
   ]
  },
  {
   "cell_type": "code",
   "execution_count": 81,
   "id": "a02e9680",
   "metadata": {},
   "outputs": [
    {
     "data": {
      "text/plain": [
       "False"
      ]
     },
     "execution_count": 81,
     "metadata": {},
     "output_type": "execute_result"
    }
   ],
   "source": [
    "def any_lowercase5(s):\n",
    "    for c in s:\n",
    "        if not c.islower():\n",
    "            return False\n",
    "    return True\n",
    "\n",
    "any_lowercase5(\"ASdEDWEd\")"
   ]
  },
  {
   "cell_type": "markdown",
   "id": "ba3ba509",
   "metadata": {},
   "source": [
    "### Exercise 5"
   ]
  },
  {
   "cell_type": "code",
   "execution_count": 84,
   "id": "4a64d819",
   "metadata": {},
   "outputs": [],
   "source": [
    "def rotate_word(a, b):\n",
    "    print(a)\n",
    "    print(b)"
   ]
  },
  {
   "cell_type": "code",
   "execution_count": 85,
   "id": "c6ec6503",
   "metadata": {},
   "outputs": [
    {
     "name": "stdout",
     "output_type": "stream",
     "text": [
      "ok\n",
      "go\n"
     ]
    }
   ],
   "source": [
    "rotate_word(\"ok\", \"go\")"
   ]
  },
  {
   "cell_type": "code",
   "execution_count": null,
   "id": "0ac46e3a",
   "metadata": {},
   "outputs": [],
   "source": []
  }
 ],
 "metadata": {
  "kernelspec": {
   "display_name": "Python 3 (ipykernel)",
   "language": "python",
   "name": "python3"
  },
  "language_info": {
   "codemirror_mode": {
    "name": "ipython",
    "version": 3
   },
   "file_extension": ".py",
   "mimetype": "text/x-python",
   "name": "python",
   "nbconvert_exporter": "python",
   "pygments_lexer": "ipython3",
   "version": "3.9.13"
  }
 },
 "nbformat": 4,
 "nbformat_minor": 5
}
