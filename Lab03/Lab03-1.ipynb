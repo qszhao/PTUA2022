{
 "cells": [
  {
   "cell_type": "markdown",
   "id": "d834cfbc",
   "metadata": {},
   "source": [
    "# Chapter2"
   ]
  },
  {
   "cell_type": "markdown",
   "id": "458f03d8",
   "metadata": {},
   "source": [
    "## Exercise1"
   ]
  },
  {
   "cell_type": "code",
   "execution_count": 1,
   "id": "cce6912a",
   "metadata": {},
   "outputs": [],
   "source": [
    "n=42"
   ]
  },
  {
   "cell_type": "code",
   "execution_count": 2,
   "id": "f544ac14",
   "metadata": {},
   "outputs": [
    {
     "ename": "SyntaxError",
     "evalue": "cannot assign to literal (1956984606.py, line 1)",
     "output_type": "error",
     "traceback": [
      "\u001b[1;36m  File \u001b[1;32m\"C:\\Users\\79801\\AppData\\Local\\Temp\\ipykernel_27156\\1956984606.py\"\u001b[1;36m, line \u001b[1;32m1\u001b[0m\n\u001b[1;33m    42=n\u001b[0m\n\u001b[1;37m    ^\u001b[0m\n\u001b[1;31mSyntaxError\u001b[0m\u001b[1;31m:\u001b[0m cannot assign to literal\n"
     ]
    }
   ],
   "source": [
    "42=n"
   ]
  },
  {
   "cell_type": "markdown",
   "id": "362b8aa6",
   "metadata": {},
   "source": [
    "#Exercise1.1: we get a SyntaxError. In the case of \"42=n\", the value cannot be assigned.Because the variable can't begin with a number."
   ]
  },
  {
   "cell_type": "markdown",
   "id": "7ebffb0e",
   "metadata": {},
   "source": [
    "#Exercise1.2:Assign x and y a value of 1"
   ]
  },
  {
   "cell_type": "code",
   "execution_count": 3,
   "id": "ed143ad5",
   "metadata": {},
   "outputs": [
    {
     "data": {
      "text/plain": [
       "1"
      ]
     },
     "execution_count": 3,
     "metadata": {},
     "output_type": "execute_result"
    }
   ],
   "source": [
    "x=y=1\n",
    "x\n",
    "y"
   ]
  },
  {
   "cell_type": "markdown",
   "id": "88c15357",
   "metadata": {},
   "source": [
    "#Exercise1.2:The value of x and y is 1."
   ]
  },
  {
   "cell_type": "code",
   "execution_count": 4,
   "id": "7ab2de5f",
   "metadata": {},
   "outputs": [
    {
     "data": {
      "text/plain": [
       "1"
      ]
     },
     "execution_count": 4,
     "metadata": {},
     "output_type": "execute_result"
    }
   ],
   "source": [
    "x=y=1;\n",
    "x;\n",
    "y"
   ]
  },
  {
   "cell_type": "markdown",
   "id": "5fdd3496",
   "metadata": {},
   "source": [
    "#Exercise1.3:The python statement ends with a semi-colon, the code can run normally."
   ]
  },
  {
   "cell_type": "code",
   "execution_count": 7,
   "id": "36f1ded0",
   "metadata": {},
   "outputs": [
    {
     "ename": "SyntaxError",
     "evalue": "invalid syntax (1932492833.py, line 2)",
     "output_type": "error",
     "traceback": [
      "\u001b[1;36m  File \u001b[1;32m\"C:\\Users\\79801\\AppData\\Local\\Temp\\ipykernel_19080\\1932492833.py\"\u001b[1;36m, line \u001b[1;32m2\u001b[0m\n\u001b[1;33m    x.\u001b[0m\n\u001b[1;37m      ^\u001b[0m\n\u001b[1;31mSyntaxError\u001b[0m\u001b[1;31m:\u001b[0m invalid syntax\n"
     ]
    }
   ],
   "source": [
    "x=y=1.\n",
    "x.\n",
    "y"
   ]
  },
  {
   "cell_type": "markdown",
   "id": "57283f31",
   "metadata": {},
   "source": [
    "#Exercise1.4:If the python statement ends with a period, we can get a SyntaxError."
   ]
  },
  {
   "cell_type": "code",
   "execution_count": 8,
   "id": "7f661c14",
   "metadata": {},
   "outputs": [
    {
     "ename": "NameError",
     "evalue": "name 'xy' is not defined",
     "output_type": "error",
     "traceback": [
      "\u001b[1;31m---------------------------------------------------------------------------\u001b[0m",
      "\u001b[1;31mNameError\u001b[0m                                 Traceback (most recent call last)",
      "\u001b[1;32m~\\AppData\\Local\\Temp\\ipykernel_19080\\2967714687.py\u001b[0m in \u001b[0;36m<module>\u001b[1;34m\u001b[0m\n\u001b[0;32m      1\u001b[0m \u001b[0mx\u001b[0m\u001b[1;33m=\u001b[0m\u001b[0my\u001b[0m\u001b[1;33m=\u001b[0m\u001b[1;36m1\u001b[0m\u001b[1;33m\u001b[0m\u001b[1;33m\u001b[0m\u001b[0m\n\u001b[1;32m----> 2\u001b[1;33m \u001b[0mprint\u001b[0m\u001b[1;33m(\u001b[0m\u001b[0mxy\u001b[0m\u001b[1;33m)\u001b[0m\u001b[1;33m\u001b[0m\u001b[1;33m\u001b[0m\u001b[0m\n\u001b[0m",
      "\u001b[1;31mNameError\u001b[0m: name 'xy' is not defined"
     ]
    }
   ],
   "source": [
    "x=y=1\n",
    "print(xy)"
   ]
  },
  {
   "cell_type": "markdown",
   "id": "5766b470",
   "metadata": {},
   "source": [
    "#Exercise1.5:We will get a NameError. Because \"xy\" is a new name that is not defined."
   ]
  },
  {
   "cell_type": "markdown",
   "id": "ef71d250",
   "metadata": {},
   "source": [
    "## Exercise2"
   ]
  },
  {
   "cell_type": "code",
   "execution_count": 9,
   "id": "ba830d3f",
   "metadata": {},
   "outputs": [
    {
     "data": {
      "text/plain": [
       "523.5987749999999"
      ]
     },
     "execution_count": 9,
     "metadata": {},
     "output_type": "execute_result"
    }
   ],
   "source": [
    "π = 3.14159265\n",
    "r=5\n",
    "V=4/3*π*r*r*r\n",
    "V"
   ]
  },
  {
   "cell_type": "markdown",
   "id": "edc42f1c",
   "metadata": {},
   "source": [
    "#Exercise2.1: The volume of a sphere with radius 5 is 523.6."
   ]
  },
  {
   "cell_type": "code",
   "execution_count": 12,
   "id": "b5cf7845",
   "metadata": {},
   "outputs": [
    {
     "data": {
      "text/plain": [
       "945.4499999999999"
      ]
     },
     "execution_count": 12,
     "metadata": {},
     "output_type": "execute_result"
    }
   ],
   "source": [
    "p=24.95\n",
    "s=3+(60-1)*0.75\n",
    "t=p*(1-0.4)*60+s\n",
    "t"
   ]
  },
  {
   "cell_type": "markdown",
   "id": "62280413",
   "metadata": {},
   "source": [
    "#Exercise2.2: The total wholesale cost for 60 copies is 945.4$."
   ]
  },
  {
   "cell_type": "code",
   "execution_count": 14,
   "id": "4a7aaee6",
   "metadata": {},
   "outputs": [
    {
     "name": "stdout",
     "output_type": "stream",
     "text": [
      "the time I get home for breakfast is 7 : 30\n"
     ]
    }
   ],
   "source": [
    "easy_time=(8*60+15)*2     #second\n",
    "tempo=(7*60+12)*3         #second\n",
    "start_time=(6*60+52)*60   #second\n",
    "total_time=easy_time+tempo+start_time  #second\n",
    "total_hour=total_time/(60*60)    \n",
    "int_hour=int(total_hour)\n",
    "total_minute=(total_hour-int_hour)*60\n",
    "int_minute=int(total_minute)\n",
    "print(\"the time I get home for breakfast is {} : {}\". format(int_hour,int_minute))"
   ]
  },
  {
   "cell_type": "markdown",
   "id": "6cef62c8",
   "metadata": {},
   "source": [
    "#Exercise2.3: The time I get home for breakfast is 7 : 30."
   ]
  },
  {
   "cell_type": "markdown",
   "id": "c33ac6cc",
   "metadata": {},
   "source": [
    "# Chapter8"
   ]
  },
  {
   "cell_type": "markdown",
   "id": "b8619d57",
   "metadata": {},
   "source": [
    "## Exercise1"
   ]
  },
  {
   "cell_type": "code",
   "execution_count": 3,
   "id": "732880fb",
   "metadata": {},
   "outputs": [
    {
     "name": "stdout",
     "output_type": "stream",
     "text": [
      "of all fruits banana is my favorite\n"
     ]
    }
   ],
   "source": [
    "word = \"banana\"\n",
    "\n",
    "x = word.strip()\n",
    "\n",
    "print(\"of all fruits\", x, \"is my favorite\")\n"
   ]
  },
  {
   "cell_type": "code",
   "execution_count": 4,
   "id": "15bb5732",
   "metadata": {},
   "outputs": [
    {
     "name": "stdout",
     "output_type": "stream",
     "text": [
      "I like apples\n"
     ]
    }
   ],
   "source": [
    "word = \"I like bananas\"\n",
    "x=word.replace(\"bananas\",\"apples\")\n",
    "print(x)"
   ]
  },
  {
   "cell_type": "markdown",
   "id": "4c434651",
   "metadata": {},
   "source": [
    "## Exercise2"
   ]
  },
  {
   "cell_type": "code",
   "execution_count": 1,
   "id": "16a5f0e7",
   "metadata": {},
   "outputs": [
    {
     "name": "stdout",
     "output_type": "stream",
     "text": [
      "3\n"
     ]
    }
   ],
   "source": [
    "fruit='banana'\n",
    "print(fruit.count('a'))"
   ]
  },
  {
   "cell_type": "markdown",
   "id": "b2257109",
   "metadata": {},
   "source": [
    "The number of 'a'in 'banana'is 3."
   ]
  },
  {
   "cell_type": "markdown",
   "id": "b8ccd3a3",
   "metadata": {},
   "source": [
    "## Exercise3"
   ]
  },
  {
   "cell_type": "code",
   "execution_count": 1,
   "id": "c3b9becb",
   "metadata": {},
   "outputs": [
    {
     "name": "stdout",
     "output_type": "stream",
     "text": [
      "True\n"
     ]
    }
   ],
   "source": [
    "def is_palindrome(word):\n",
    "    return word == word[::-1]\n",
    "word=\"abcba\"\n",
    "reverse_word=is_palindrome(word)\n",
    "if reverse_word:\n",
    "    print(\"True\")\n",
    "else:\n",
    "    print(\"Flase\")"
   ]
  },
  {
   "cell_type": "markdown",
   "id": "68feb174",
   "metadata": {},
   "source": [
    "## Exercise4"
   ]
  },
  {
   "cell_type": "code",
   "execution_count": 2,
   "id": "875aff5f",
   "metadata": {},
   "outputs": [],
   "source": [
    "def any_lowercase1(s): \n",
    "    for c in s: \n",
    "        if c.islower(): \n",
    "            return True \n",
    "        else: \n",
    "            return False \n",
    "#This code tests whether the first letter in a string is lowercase."
   ]
  },
  {
   "cell_type": "code",
   "execution_count": 3,
   "id": "ef07e6c1",
   "metadata": {},
   "outputs": [],
   "source": [
    "def any_lowercase2(s): \n",
    "    for c in s: \n",
    "        if 'c'.islower(): \n",
    "            return 'True' \n",
    "        else: \n",
    "            return 'False' \n",
    "#The answer of this code is always True, because 'c' is a string."
   ]
  },
  {
   "cell_type": "code",
   "execution_count": 4,
   "id": "50246bcb",
   "metadata": {},
   "outputs": [],
   "source": [
    "def any_lowercase3(s): \n",
    "    for c in s: \n",
    "        flag = c.islower() \n",
    "    return flag \n",
    "#This code tests whether the last letter in a string is lowercase."
   ]
  },
  {
   "cell_type": "code",
   "execution_count": 5,
   "id": "71e6ce6c",
   "metadata": {},
   "outputs": [],
   "source": [
    "def any_lowercase4(s):\n",
    "    flag = False\n",
    "    for c in s:\n",
    "        flag = flag or c.islower()\n",
    "    return flag"
   ]
  },
  {
   "cell_type": "code",
   "execution_count": 6,
   "id": "1fd6ef90",
   "metadata": {},
   "outputs": [],
   "source": [
    "def any_lowercase5(s):\n",
    "    for c in s:\n",
    "        if not c.islower():\n",
    "            return False\n",
    "    return True\n",
    "#This tests whether the word is all lowercase or not."
   ]
  },
  {
   "cell_type": "markdown",
   "id": "29c7fa1c",
   "metadata": {},
   "source": [
    "## Exercise5"
   ]
  },
  {
   "cell_type": "code",
   "execution_count": 2,
   "id": "c879ea55",
   "metadata": {},
   "outputs": [
    {
     "name": "stdout",
     "output_type": "stream",
     "text": [
      "Enter a string: cheer\n",
      "Enter rotate number: 7\n",
      "jolly\n"
     ]
    }
   ],
   "source": [
    "def Rotate_word(str_, num_):\n",
    "    result = ''\n",
    "    for i in str_:\n",
    "        i = chr(ord(i) + num_)\n",
    "        result = result + i\n",
    "    return (result)\n",
    "\n",
    "str_ =input(\"Enter a string: \")\n",
    "num_ = int(input(\"Enter rotate number: \"))\n",
    "print (Rotate_word(str_,num_))"
   ]
  },
  {
   "cell_type": "code",
   "execution_count": null,
   "id": "c95734f2",
   "metadata": {},
   "outputs": [],
   "source": []
  }
 ],
 "metadata": {
  "kernelspec": {
   "display_name": "Python 3 (ipykernel)",
   "language": "python",
   "name": "python3"
  },
  "language_info": {
   "codemirror_mode": {
    "name": "ipython",
    "version": 3
   },
   "file_extension": ".py",
   "mimetype": "text/x-python",
   "name": "python",
   "nbconvert_exporter": "python",
   "pygments_lexer": "ipython3",
   "version": "3.9.13"
  }
 },
 "nbformat": 4,
 "nbformat_minor": 5
}
