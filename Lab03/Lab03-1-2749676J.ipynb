{
 "cells": [
  {
   "cell_type": "markdown",
   "id": "5fde4012",
   "metadata": {},
   "source": [
    "## 1. Operators (exercises 1-2 of chapter 2)"
   ]
  },
  {
   "cell_type": "markdown",
   "id": "cc4343b5",
   "metadata": {},
   "source": [
    "### 1.1\n",
    "\n",
    "Repeating my advice from the previous chapter, whenever you learn a new feature, you should try it out in interactive mode and make errors on purpose to see what goes wrong.\n",
    "\n",
    "- We’ve seen that `n = 42` is legal. What about `42 = n`?\n",
    "\n",
    "- How about `x = y = 11`?\n",
    "\n",
    "- In some languages every statement ends with a semi-colon, `;`. What happens if you put a semi-colon at the end of a Python statement?\n",
    "\n",
    "- What if you put a period at the end of a statement?\n",
    "\n",
    "- In math notation you can multiply x and y like this: `x y`. What happens if you try that in Python?"
   ]
  },
  {
   "cell_type": "code",
   "execution_count": 1,
   "id": "5dbb5ad1",
   "metadata": {},
   "outputs": [
    {
     "ename": "SyntaxError",
     "evalue": "cannot assign to literal (4071389658.py, line 1)",
     "output_type": "error",
     "traceback": [
      "\u001b[1;36m  File \u001b[1;32m\"C:\\Users\\KJ\\AppData\\Local\\Temp\\ipykernel_12280\\4071389658.py\"\u001b[1;36m, line \u001b[1;32m1\u001b[0m\n\u001b[1;33m    42 = n\u001b[0m\n\u001b[1;37m    ^\u001b[0m\n\u001b[1;31mSyntaxError\u001b[0m\u001b[1;31m:\u001b[0m cannot assign to literal\n"
     ]
    }
   ],
   "source": [
    "# Test the legality of `42 = n`\n",
    "42 = n\n",
    "print(n)"
   ]
  },
  {
   "cell_type": "code",
   "execution_count": 2,
   "id": "3a7e869c",
   "metadata": {},
   "outputs": [
    {
     "name": "stdout",
     "output_type": "stream",
     "text": [
      "1\n",
      "1\n"
     ]
    }
   ],
   "source": [
    "# Test the legality of continuous assignment using concatenated equations\n",
    "x = y = 1\n",
    "print(x)\n",
    "print(y)"
   ]
  },
  {
   "cell_type": "code",
   "execution_count": 8,
   "id": "7c6f8839",
   "metadata": {},
   "outputs": [
    {
     "name": "stdout",
     "output_type": "stream",
     "text": [
      "1\n",
      "3\n",
      "5\n",
      "7\n",
      "9\n"
     ]
    }
   ],
   "source": [
    "# Test the legality of adding `;` at the end of Python statement\n",
    "for i in range(10):\n",
    "    if (i + 1) % 2 == 0:\n",
    "        print(i);"
   ]
  },
  {
   "cell_type": "code",
   "execution_count": 5,
   "id": "dd77961e",
   "metadata": {},
   "outputs": [
    {
     "ename": "SyntaxError",
     "evalue": "invalid syntax (312484169.py, line 2)",
     "output_type": "error",
     "traceback": [
      "\u001b[1;36m  File \u001b[1;32m\"C:\\Users\\KJ\\AppData\\Local\\Temp\\ipykernel_12280\\312484169.py\"\u001b[1;36m, line \u001b[1;32m2\u001b[0m\n\u001b[1;33m    print(x).\u001b[0m\n\u001b[1;37m             ^\u001b[0m\n\u001b[1;31mSyntaxError\u001b[0m\u001b[1;31m:\u001b[0m invalid syntax\n"
     ]
    }
   ],
   "source": [
    "# Test the legality of adding `.` at the end of Python statement\n",
    "print(x).\n",
    "for i in range(10):\n",
    "    print(i)."
   ]
  },
  {
   "cell_type": "code",
   "execution_count": 9,
   "id": "9a0c2d78",
   "metadata": {},
   "outputs": [
    {
     "ename": "NameError",
     "evalue": "name 'xy' is not defined",
     "output_type": "error",
     "traceback": [
      "\u001b[1;31m---------------------------------------------------------------------------\u001b[0m",
      "\u001b[1;31mNameError\u001b[0m                                 Traceback (most recent call last)",
      "\u001b[1;32m~\\AppData\\Local\\Temp\\ipykernel_12280\\1051976676.py\u001b[0m in \u001b[0;36m<module>\u001b[1;34m\u001b[0m\n\u001b[0;32m      1\u001b[0m \u001b[1;31m#  Test the legality of multiplying x and y like this: x y\u001b[0m\u001b[1;33m\u001b[0m\u001b[1;33m\u001b[0m\u001b[0m\n\u001b[0;32m      2\u001b[0m \u001b[0mx\u001b[0m\u001b[1;33m,\u001b[0m \u001b[0my\u001b[0m \u001b[1;33m=\u001b[0m \u001b[1;36m0\u001b[0m\u001b[1;33m,\u001b[0m \u001b[1;36m1\u001b[0m\u001b[1;33m\u001b[0m\u001b[1;33m\u001b[0m\u001b[0m\n\u001b[1;32m----> 3\u001b[1;33m \u001b[0mprint\u001b[0m\u001b[1;33m(\u001b[0m\u001b[0mxy\u001b[0m\u001b[1;33m)\u001b[0m\u001b[1;33m\u001b[0m\u001b[1;33m\u001b[0m\u001b[0m\n\u001b[0m",
      "\u001b[1;31mNameError\u001b[0m: name 'xy' is not defined"
     ]
    }
   ],
   "source": [
    "#  Test the legality of multiplying x and y like this: x y\n",
    "x, y = 0, 1\n",
    "print(xy)"
   ]
  },
  {
   "cell_type": "markdown",
   "id": "4ef63843",
   "metadata": {},
   "source": [
    "#### Conclusion for Exerscise 1\n",
    "\n",
    "1. 42 = n is illegal\n",
    "\n",
    "2. Continuous assignment using concatenated equations like `x = y = 1` is legal\n",
    "\n",
    "3. Adding `;` at the end of Python statement is legal except for after a `:` in, such as, a `if` statement or a `for` statement\n",
    "\n",
    "4. It is illegal adding `.` at the end of Python statement."
   ]
  },
  {
   "cell_type": "markdown",
   "id": "a0449d08",
   "metadata": {},
   "source": [
    "### 1.2  \n",
    "\n",
    "Practice using the Python interpreter as a calculator:\n",
    "\n",
    "1. The volume of a sphere with radius $r$ is $4/3 π r^3$. What is the volume of a sphere with radius 5?\n",
    "\n",
    "2. Suppose the cover price of a book is \\\\$24.95 but bookstores get a 40% discount. Shipping costs \\\\$3 for the first copy and 75 cents for each additional copy. What is the total wholesale cost for 60 copies?\n",
    "\n",
    "3. If I leave my house at 6:52 am and run 1 mile at an easy pace (8:15 per mile), then 3 miles at tempo (7:12 per mile) and 1 mile at easy pace again, what time do I get home for breakfast?"
   ]
  },
  {
   "cell_type": "code",
   "execution_count": 39,
   "id": "222d4157",
   "metadata": {},
   "outputs": [
    {
     "name": "stdout",
     "output_type": "stream",
     "text": [
      "The volume of a sphere with the radius 5 is 392.7 .\n"
     ]
    }
   ],
   "source": [
    "# Define a function to calculate the volume of a sphere with its radius\n",
    "import numpy as np\n",
    "def sphere(r):\n",
    "    return 4 * np.pi * r ** 3 / 4\n",
    "print(\"The volume of a sphere with the radius 5 is\", round(sphere(5),2),\".\")"
   ]
  },
  {
   "cell_type": "code",
   "execution_count": 22,
   "id": "c173107c",
   "metadata": {
    "scrolled": true
   },
   "outputs": [
    {
     "name": "stdout",
     "output_type": "stream",
     "text": [
      "Total wholesale cost for 60 copies is:  $ 646.05\n"
     ]
    }
   ],
   "source": [
    "# prices are in $\n",
    "cover_price = 24.95\n",
    "bookstore_discount = 0.4\n",
    "first_delivery = 3\n",
    "others_delivery = 0.75\n",
    "total_copies = 60\n",
    "\n",
    "# calculate book cost and delivery cost\n",
    "book_cost = total_copies * cover_price * bookstore_discount\n",
    "delivery_cost = first_delivery + others_delivery * (total_copies - 1)\n",
    "\n",
    "# The overall wholesale price is the book price plus the delivery price\n",
    "total_cost = book_cost + delivery_cost\n",
    "\n",
    "# print the price\n",
    "print(\"Total wholesale cost for 60 copies is:  $\",round(total_wholesale_cost,2))"
   ]
  },
  {
   "cell_type": "code",
   "execution_count": 33,
   "id": "e717223e",
   "metadata": {
    "scrolled": true
   },
   "outputs": [
    {
     "name": "stdout",
     "output_type": "stream",
     "text": [
      "You arrive home for breakfast at 7:21:51 am.\n"
     ]
    }
   ],
   "source": [
    "# pace in seconds per mile\n",
    "easy_pace = 8 * 60 + 15\n",
    "tempo = 7 * 60 + 12\n",
    "\n",
    "# Departure time is 6:52 am\n",
    "departure_seconds = (6 * 60 + 52) * 60\n",
    "\n",
    "# calculate arrival time\n",
    "arrival_seconds = (departure + easy_pace * 1 + tempo * 3)\n",
    "m, s = divmod(arrival_seconds, 60)\n",
    "h, m = divmod(m, 60)\n",
    "arrival = (\"%d:%02d:%02d\" % (h, m, s))\n",
    "\n",
    "# am or pm\n",
    "if h > 12:\n",
    "    print(\"You arrive home for breakfast at %d:%02d:%02d\" % (h - 12, m, s), \"pm.\")\n",
    "else:\n",
    "    print(\"You arrive home for breakfast at\", arrival, \"am.\")"
   ]
  },
  {
   "cell_type": "markdown",
   "id": "a8c49858",
   "metadata": {},
   "source": [
    "## 2. Strings (exercises 1-5 of chapter 8)"
   ]
  },
  {
   "cell_type": "markdown",
   "id": "9343ae6c",
   "metadata": {},
   "source": [
    "### 2.1  \n",
    "Read the documentation of the string methods at http://docs.python.org/3/library/stdtypes.html#string-methods. You might want to experiment with some of them to make sure you understand how they work. `strip` and `replace` are particularly useful.\n",
    "\n",
    "The documentation uses a syntax that might be confusing. For example, in `find(sub[, start[, end]])`, the brackets indicate optional arguments. So `sub` is required, but `start` is optional, and if you include `start`, then `end` is optional.\n",
    "\n",
    "`str.strip([chars])`\n",
    "\n",
    "`str.replace(old, new[, count])`"
   ]
  },
  {
   "cell_type": "code",
   "execution_count": 42,
   "id": "92604c27",
   "metadata": {},
   "outputs": [
    {
     "data": {
      "text/plain": [
       "'space'"
      ]
     },
     "execution_count": 42,
     "metadata": {},
     "output_type": "execute_result"
    }
   ],
   "source": [
    "'  space  '.strip()"
   ]
  },
  {
   "cell_type": "code",
   "execution_count": 41,
   "id": "3cf5fa80",
   "metadata": {},
   "outputs": [
    {
     "data": {
      "text/plain": [
       "'google'"
      ]
     },
     "execution_count": 41,
     "metadata": {},
     "output_type": "execute_result"
    }
   ],
   "source": [
    "'www.google.com'.strip('wcom.')"
   ]
  },
  {
   "cell_type": "code",
   "execution_count": 47,
   "id": "38aa54af",
   "metadata": {},
   "outputs": [
    {
     "data": {
      "text/plain": [
       "'banana'"
      ]
     },
     "execution_count": 47,
     "metadata": {},
     "output_type": "execute_result"
    }
   ],
   "source": [
    "'benene'.replace('e','a')"
   ]
  },
  {
   "cell_type": "code",
   "execution_count": 46,
   "id": "fbf5b3fd",
   "metadata": {},
   "outputs": [
    {
     "data": {
      "text/plain": [
       "'banene'"
      ]
     },
     "execution_count": 46,
     "metadata": {},
     "output_type": "execute_result"
    }
   ],
   "source": [
    "'benene'.replace('e','a',1)"
   ]
  },
  {
   "cell_type": "markdown",
   "id": "b23a4a85",
   "metadata": {},
   "source": [
    "### 2.2  \n",
    "There is a string method called `count` that is similar to the function in Section 8.7. Read the documentation of this method and write an invocation that counts the number of a’s in 'banana'.\n",
    "\n",
    "`str.count(sub[, start[, end]])`"
   ]
  },
  {
   "cell_type": "code",
   "execution_count": 51,
   "id": "201ed080",
   "metadata": {},
   "outputs": [
    {
     "data": {
      "text/plain": [
       "3"
      ]
     },
     "execution_count": 51,
     "metadata": {},
     "output_type": "execute_result"
    }
   ],
   "source": [
    "'banana'.count('a',0,6)"
   ]
  },
  {
   "cell_type": "code",
   "execution_count": 50,
   "id": "4136dd8f",
   "metadata": {},
   "outputs": [
    {
     "data": {
      "text/plain": [
       "3"
      ]
     },
     "execution_count": 50,
     "metadata": {},
     "output_type": "execute_result"
    }
   ],
   "source": [
    "'banana'.count('a')"
   ]
  },
  {
   "cell_type": "markdown",
   "id": "92a35574",
   "metadata": {},
   "source": [
    "### 2.3  \n",
    "A string slice can take a third index that specifies the “step size”; that is, the number of spaces between successive characters. A step size of 2 means every other character; 3 means every third, etc.\n",
    "\n",
    "> \\>>> fruit = 'banana'\n",
    ">\n",
    "> \\>>> fruit[0:5:2]\n",
    ">\n",
    "> 'bnn'\n",
    "\n",
    "A step size of -1 goes through the word backwards, so the slice `[::-1]` generates a reversed string.\n",
    "\n",
    "Use this idiom to write a one-line version of `is_palindrome` from Exercise 3."
   ]
  },
  {
   "cell_type": "code",
   "execution_count": 57,
   "id": "2a02eb71",
   "metadata": {},
   "outputs": [
    {
     "data": {
      "text/plain": [
       "False"
      ]
     },
     "execution_count": 57,
     "metadata": {},
     "output_type": "execute_result"
    }
   ],
   "source": [
    "def is_palindrome(str): return True if str[::-1] == str else False\n",
    "\n",
    "is_palindrome('banana')"
   ]
  },
  {
   "cell_type": "code",
   "execution_count": 58,
   "id": "79c10e60",
   "metadata": {},
   "outputs": [
    {
     "data": {
      "text/plain": [
       "True"
      ]
     },
     "execution_count": 58,
     "metadata": {},
     "output_type": "execute_result"
    }
   ],
   "source": [
    "is_palindrome('noon')"
   ]
  },
  {
   "cell_type": "markdown",
   "id": "e65dcd60",
   "metadata": {},
   "source": [
    "### 2.4  \n",
    "The following functions are all intended to check whether a string contains any lowercase letters, but at least some of them are wrong. For each function, describe what the function actually does (assuming that the parameter is a string).\n",
    "```\n",
    "def any_lowercase1(s):\n",
    "    for c in s:\n",
    "        if c.islower():\n",
    "            return True\n",
    "        else:\n",
    "            return False\n",
    "\n",
    "def any_lowercase2(s):\n",
    "    for c in s:\n",
    "        if 'c'.islower():\n",
    "            return 'True'\n",
    "        else:\n",
    "            return 'False'\n",
    "\n",
    "def any_lowercase3(s):\n",
    "    for c in s:\n",
    "        flag = c.islower()\n",
    "    return flag\n",
    "\n",
    "def any_lowercase4(s):\n",
    "    flag = False\n",
    "    for c in s:\n",
    "        flag = flag or c.islower()\n",
    "    return flag\n",
    "\n",
    "def any_lowercase5(s):\n",
    "    for c in s:\n",
    "        if not c.islower():\n",
    "            return False\n",
    "    return True\n",
    "```"
   ]
  },
  {
   "cell_type": "markdown",
   "id": "b91162d6",
   "metadata": {},
   "source": [
    "- function 1: First letter tester.\n",
    ">    Returns True if the first letter of s is lower, returns False if the first letter of s is upper\n",
    "- function 2: Test nothing.\n",
    ">    Will always return 'True' because 'c' is a lowercase letter and it does not represent the element in s\n",
    "- function 3: Last letter tester.\n",
    ">    Returns True as long as s ends in a lowercase letter\n",
    "- function 4: Any lowercase tester.\n",
    ">    Returns True when s contains at least 1 lowercase letter\n",
    "- function 5: All lowercase tester.\n",
    ">    Returns True if all letters in s are lowercase"
   ]
  },
  {
   "cell_type": "markdown",
   "id": "70190b0b",
   "metadata": {},
   "source": [
    "### 2.5  \n",
    "A Caesar cypher is a weak form of encryption that involves “rotating” each letter by a fixed number of places. To rotate a letter means to shift it through the alphabet, wrapping around to the beginning if necessary, so ’A’ rotated by 3 is ’D’ and ’Z’ rotated by 1 is ’A’.\n",
    "\n",
    "To rotate a word, rotate each letter by the same amount. For example, “cheer” rotated by 7 is “jolly” and “melon” rotated by -10 is “cubed”. In the movie 2001: A Space Odyssey, the ship computer is called HAL, which is IBM rotated by -1.\n",
    "\n",
    "Write a function called rotate_word that takes a string and an integer as parameters, and returns a new string that contains the letters from the original string rotated by the given amount.\n",
    "\n",
    "You might want to use the built-in function ord, which converts a character to a numeric code, and chr, which converts numeric codes to characters. Letters of the alphabet are encoded in alphabetical order, so for example:\n",
    "\n",
    "> \\>>> ord('c') - ord('a')\n",
    ">\n",
    "> 2\n",
    "\n",
    "Because 'c' is the two-eth letter of the alphabet. But beware: the numeric codes for upper case letters are different.\n",
    "\n",
    "Potentially offensive jokes on the Internet are sometimes encoded in ROT13, which is a Caesar cypher with rotation 13. If you are not easily offended, find and decode some of them. Solution: http://thinkpython2.com/code/rotate.py."
   ]
  },
  {
   "cell_type": "code",
   "execution_count": 79,
   "id": "6c684ed3",
   "metadata": {},
   "outputs": [
    {
     "data": {
      "text/plain": [
       "'Proh dprqj xv, Whuplqdwh wkh wudqvdfwlrq.'"
      ]
     },
     "execution_count": 79,
     "metadata": {},
     "output_type": "execute_result"
    }
   ],
   "source": [
    "def rotate_word(word, n):\n",
    "    \"\"\"Rotates a word by n places.\n",
    "    word: string\n",
    "    n: int\n",
    "    Returns: string\n",
    "    \"\"\"\n",
    "    final = ''  # assign a string for final result\n",
    "    for c in word:  # Iterate through the string, rotate its letters by n places, and store the letters in final\n",
    "        if c.isupper():\n",
    "            c = chr((ord(c) - ord('A') + n) % 26 + ord('A'))\n",
    "        elif c.islower():\n",
    "            c = chr((ord(c) - ord('a') + n) % 26 + ord('a'))\n",
    "        else:\n",
    "            c = c\n",
    "        final += c\n",
    "    return final\n",
    "\n",
    "rotate_word('Mole among us, Terminate the transaction.', 3)"
   ]
  }
 ],
 "metadata": {
  "kernelspec": {
   "display_name": "Python 3 (ipykernel)",
   "language": "python",
   "name": "python3"
  },
  "language_info": {
   "codemirror_mode": {
    "name": "ipython",
    "version": 3
   },
   "file_extension": ".py",
   "mimetype": "text/x-python",
   "name": "python",
   "nbconvert_exporter": "python",
   "pygments_lexer": "ipython3",
   "version": "3.9.13"
  }
 },
 "nbformat": 4,
 "nbformat_minor": 5
}
