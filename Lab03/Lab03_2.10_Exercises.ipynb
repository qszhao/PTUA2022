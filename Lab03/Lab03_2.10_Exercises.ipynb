{
 "cells": [
  {
   "cell_type": "code",
   "execution_count": 15,
   "id": "7d18727c",
   "metadata": {},
   "outputs": [
    {
     "ename": "SyntaxError",
     "evalue": "cannot assign to literal (Temp/ipykernel_5712/3818031332.py, line 3)",
     "output_type": "error",
     "traceback": [
      "\u001b[1;36m  File \u001b[1;32m\"C:\\Users\\AWM-1\\AppData\\Local\\Temp/ipykernel_5712/3818031332.py\"\u001b[1;36m, line \u001b[1;32m3\u001b[0m\n\u001b[1;33m    42 = n\u001b[0m\n\u001b[1;37m    ^\u001b[0m\n\u001b[1;31mSyntaxError\u001b[0m\u001b[1;31m:\u001b[0m cannot assign to literal\n"
     ]
    }
   ],
   "source": [
    "# Exercise 1\n",
    "\n",
    "# We’ve seen that n = 42 is legal. What about 42 = n?\n",
    "\n",
    "42 = n\n",
    "\n",
    "# Is not legal.\n"
   ]
  },
  {
   "cell_type": "code",
   "execution_count": 19,
   "id": "1eabcac2",
   "metadata": {},
   "outputs": [
    {
     "data": {
      "text/plain": [
       "1"
      ]
     },
     "execution_count": 19,
     "metadata": {},
     "output_type": "execute_result"
    }
   ],
   "source": [
    "# How about x = y = 1?\n",
    "\n",
    "x = y = 1\n",
    "x\n",
    "\n",
    "# Is legal. "
   ]
  },
  {
   "cell_type": "code",
   "execution_count": 20,
   "id": "e135056b",
   "metadata": {},
   "outputs": [
    {
     "name": "stdout",
     "output_type": "stream",
     "text": [
      "Hello, world!\n"
     ]
    }
   ],
   "source": [
    "# In some languages every statement ends with a semi-colon, ;. What happens if you put a semi-colon at the end of a Python statement?\n",
    "# What if you put a period at the end of a statement?\n",
    "\n",
    "print('Hello, world!');\n",
    "\n",
    "# Statement still works."
   ]
  },
  {
   "cell_type": "code",
   "execution_count": 21,
   "id": "82f8cd7f",
   "metadata": {},
   "outputs": [
    {
     "ename": "NameError",
     "evalue": "name 'xy' is not defined",
     "output_type": "error",
     "traceback": [
      "\u001b[1;31m---------------------------------------------------------------------------\u001b[0m",
      "\u001b[1;31mNameError\u001b[0m                                 Traceback (most recent call last)",
      "\u001b[1;32m~\\AppData\\Local\\Temp/ipykernel_5712/66230204.py\u001b[0m in \u001b[0;36m<module>\u001b[1;34m\u001b[0m\n\u001b[0;32m      1\u001b[0m \u001b[1;31m# In math notation you can multiply x and y like this: x y. What happens if you try that in Python?\u001b[0m\u001b[1;33m\u001b[0m\u001b[1;33m\u001b[0m\u001b[0m\n\u001b[0;32m      2\u001b[0m \u001b[1;33m\u001b[0m\u001b[0m\n\u001b[1;32m----> 3\u001b[1;33m \u001b[0mxy\u001b[0m\u001b[1;33m\u001b[0m\u001b[1;33m\u001b[0m\u001b[0m\n\u001b[0m",
      "\u001b[1;31mNameError\u001b[0m: name 'xy' is not defined"
     ]
    }
   ],
   "source": [
    "# In math notation you can multiply x and y like this: x y. What happens if you try that in Python?\n",
    "\n",
    "xy\n",
    "\n",
    "# Does not work."
   ]
  },
  {
   "cell_type": "code",
   "execution_count": 25,
   "id": "97036adf",
   "metadata": {},
   "outputs": [
    {
     "name": "stdout",
     "output_type": "stream",
     "text": [
      "523.3333333333334\n"
     ]
    }
   ],
   "source": [
    "# Exercise 2\n",
    "\n",
    "\n",
    "\n",
    "# The volume of a sphere with radius r is 4/3 π r3. What is the volume of a sphere with radius 5?\n",
    "\n",
    "volume = (4/3) * 3.14 * 5**3 \n",
    "print(volume)\n"
   ]
  },
  {
   "cell_type": "code",
   "execution_count": 35,
   "id": "946de3fd",
   "metadata": {},
   "outputs": [
    {
     "name": "stdout",
     "output_type": "stream",
     "text": [
      "Total price =  $ 945.45\n"
     ]
    }
   ],
   "source": [
    "# Suppose the cover price of a book is $24.95, but bookstores get a 40% discount. \n",
    "# Shipping costs $3 for the first copy and 75 cents for each additional copy. \n",
    "# What is the total wholesale cost for 60 copies?\n",
    "\n",
    "price_books = (24.95 * 0.6) * 60\n",
    "price_shipping = 3 + (0.75 * 59)\n",
    "total_price = price_books + price_shipping\n",
    "\n",
    "total_price = \"{:.2f}\".format(total_price)\n",
    "\n",
    "\n",
    "print('Total price = ', '$', total_price)"
   ]
  },
  {
   "cell_type": "code",
   "execution_count": 43,
   "id": "99694701",
   "metadata": {},
   "outputs": [
    {
     "name": "stdout",
     "output_type": "stream",
     "text": [
      "37.66\n",
      "Time back for breakfast:  7:30:06\n"
     ]
    }
   ],
   "source": [
    "# If I leave my house at 6:52 am and run 1 mile at an easy pace (8:15 per mile), \n",
    "# then 3 miles at tempo (7:12 per mile) and 1 mile at easy pace again:\n",
    "# what time do I get home for breakfast?\n",
    "\n",
    "\n",
    "minutes_running = (2 * 8.15) + (3 * 7.12)\n",
    "\n",
    "print(minutes_running)\n",
    "\n",
    "print('Time back for breakfast: ', '7:30:06')\n",
    "\n",
    "# Working with time is incredibly challenging "
   ]
  },
  {
   "cell_type": "code",
   "execution_count": null,
   "id": "dbdf1c13",
   "metadata": {},
   "outputs": [],
   "source": []
  }
 ],
 "metadata": {
  "kernelspec": {
   "display_name": "Python 3 (ipykernel)",
   "language": "python",
   "name": "python3"
  },
  "language_info": {
   "codemirror_mode": {
    "name": "ipython",
    "version": 3
   },
   "file_extension": ".py",
   "mimetype": "text/x-python",
   "name": "python",
   "nbconvert_exporter": "python",
   "pygments_lexer": "ipython3",
   "version": "3.9.7"
  }
 },
 "nbformat": 4,
 "nbformat_minor": 5
}
