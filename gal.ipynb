{
 "cells": [
  {
   "cell_type": "code",
   "execution_count": 29,
   "id": "511600e9",
   "metadata": {},
   "outputs": [
    {
     "name": "stdout",
     "output_type": "stream",
     "text": [
      "{'1': ['2', '3'], '2': ['4', '3', '1'], '3': ['5', '4', '2', '1'], '4': ['8', '3', '5', '2'], '5': ['15', '11', '8', '9', '6', '3', '4'], '6': ['9', '5'], '7': ['14', '13', '8'], '8': ['12', '11', '5', '4', '7'], '9': ['26', '22', '15', '10', '6', '5'], '10': ['20', '17', '9'], '11': ['16', '12', '5', '8'], '12': ['16', '14', '13', '11', '8'], '13': ['14', '12', '7'], '14': ['19', '12', '13', '16', '18', '7'], '15': ['25', '16', '5', '9'], '16': ['25', '24', '18', '15', '11', '12', '14'], '17': ['23', '20', '10'], '18': ['24', '19', '16', '14'], '19': ['18', '24', '14'], '20': ['35', '33', '27', '22', '23', '32', '40', '17', '10'], '21': ['34', '24', '30', '9'], '22': ['28', '27', '26', '20', '9'], '23': ['32', '17', '20'], '24': ['30', '25', '16', '18', '21', '19'], '25': ['29', '15', '26', '16', '24'], '26': ['28', '22', '9', '25'], '27': ['33', '28', '20', '22'], '28': ['38', '29', '27', '33', '35', '22', '26'], '29': ['37', '30', '28', '25'], '30': ['37', '29', '24', '21'], '31': ['36', '34'], '32': ['41', '40', '23', '20'], '33': ['35', '20', '27', '28'], '34': ['42', '36', '21', '31'], '35': ['44', '38', '20', '33', '28'], '36': ['46', '39', '34', '42', '31'], '37': ['45', '38', '43', '29', '30'], '38': ['43', '35', '28', '37'], '39': ['46', '36'], '40': ['47', '41', '32', '20'], '41': ['47', '32', '40'], '42': ['34', '36'], '43': ['48', '45', '44', '38', '37'], '44': ['49', '48', '35', '43'], '45': ['48', '49', '37', '43'], '46': ['36', '39'], '47': ['40', '41'], '48': ['49', '44', '43', '45'], '49': ['44', '48', '45']}\n"
     ]
    }
   ],
   "source": [
    "#1\n",
    "#f = open(\"G:\\\\my_project\\PTUA2023\\Lab04\\Lab\\Lab04-1.gal\", \"r\")\n",
    "with open('G:\\\\my_project\\PTUA2023\\Lab04\\Lab\\Lab04-1.gal', mode='r', encoding='utf-8') as f:\n",
    "    lines = f.readlines()  # 读取文件\n",
    "    try:\n",
    "        lines = lines[1:] # 只读取第一行之后的内容\n",
    "        f.close()             # 关闭文件\n",
    "    except:\n",
    "        pass\n",
    "\n",
    "dic = {}\n",
    "i=1\n",
    "for line in lines:\n",
    "    \n",
    "    #line1\n",
    "    if i%2 == 1:      \n",
    "        list1 = line[:-1].split(' ')\n",
    "        key = list1[0]\n",
    "        num = int(list1[1])\n",
    "        i = i+1\n",
    "    #line2\n",
    "    elif i%2 == 0:\n",
    "        list2 = line[:-1].split(' ')\n",
    "        dic[key] = list2\n",
    "        i = i+1\n",
    "print(dic)\n"
   ]
  },
  {
   "cell_type": "code",
   "execution_count": 30,
   "id": "d2d0b29e",
   "metadata": {},
   "outputs": [
    {
     "name": "stdout",
     "output_type": "stream",
     "text": [
      "{2: ['40', '41'], 3: ['44', '48', '45'], 4: ['49', '44', '43', '45'], 7: ['38', '29', '27', '33', '35', '22', '26'], 5: ['48', '45', '44', '38', '37'], 6: ['30', '25', '16', '18', '21', '19'], 9: ['35', '33', '27', '22', '23', '32', '40', '17', '10']}\n"
     ]
    }
   ],
   "source": [
    "#2\n",
    "#f = open(\"G:\\\\my_project\\PTUA2023\\Lab04\\Lab\\Lab04-1.gal\", \"r\")\n",
    "with open('G:\\\\my_project\\PTUA2023\\Lab04\\Lab\\Lab04-1.gal', mode='r', encoding='utf-8') as f:\n",
    "    lines = f.readlines()  # 读取文件\n",
    "    try:\n",
    "        lines = lines[1:] # 只读取第一行之后的内容\n",
    "        f.close()             # 关闭文件\n",
    "    except:\n",
    "        pass\n",
    "\n",
    "dic = {}\n",
    "i=1\n",
    "for line in lines:\n",
    "    \n",
    "    #line1\n",
    "    if i%2 == 1:      \n",
    "        list1 = line[:-1].split(' ')\n",
    "        key = list1[0]\n",
    "        num = int(list1[1])\n",
    "        i = i+1\n",
    "    #line2\n",
    "    elif i%2 == 0:\n",
    "        list2 = line[:-1].split(' ')\n",
    "        dic[num] = list2\n",
    "        i = i+1\n",
    "print(dic)"
   ]
  },
  {
   "cell_type": "code",
   "execution_count": 39,
   "id": "04cb0df1",
   "metadata": {},
   "outputs": [
    {
     "name": "stdout",
     "output_type": "stream",
     "text": [
      "21 and 9 have a problematic neighbourhood relationship, the dictionary has asymmetry\n"
     ]
    }
   ],
   "source": [
    "#3\n",
    "#f = open(\"G:\\\\my_project\\PTUA2023\\Lab04\\Lab\\Lab04-1.gal\", \"r\")\n",
    "with open('G:\\\\my_project\\PTUA2023\\Lab04\\Lab\\Lab04-1.gal', mode='r', encoding='utf-8') as f:\n",
    "    lines = f.readlines()  # 读取文件\n",
    "    try:\n",
    "        lines = lines[1:] # 只读取第一行之后的内容\n",
    "        f.close()             # 关闭文件\n",
    "    except:\n",
    "        pass\n",
    "\n",
    "dic = {}\n",
    "i=1\n",
    "for line in lines:\n",
    "    \n",
    "    #line1\n",
    "    if i%2 == 1:      \n",
    "        list1 = line[:-1].split(' ')\n",
    "        key = list1[0]\n",
    "        num = int(list1[1])\n",
    "        i = i+1\n",
    "    #line2\n",
    "    elif i%2 == 0:\n",
    "        list2 = line[:-1].split(' ')\n",
    "        dic[key] = list2\n",
    "        i = i+1\n",
    "#print(dic)\n",
    "#The code above is to get the dictionary of question 1.\n",
    "\n",
    "x = 0\n",
    "for k in dic:\n",
    "    value_list = dic[k]\n",
    "    for value in value_list:\n",
    "        #judge if the list corresponding to 'value' contains 'k'\n",
    "        list = dic[value]\n",
    "        if list.count(k) == 1:\n",
    "            continue\n",
    "        else:\n",
    "            print('{} and {} have a problematic neighbourhood relationship, the dictionary has asymmetry'.format(k,value))\n",
    "            x = 1\n",
    "if x == 0:\n",
    "    print('There are no asymmetries in that dictionary')"
   ]
  },
  {
   "cell_type": "code",
   "execution_count": null,
   "id": "adddef02",
   "metadata": {},
   "outputs": [],
   "source": []
  }
 ],
 "metadata": {
  "kernelspec": {
   "display_name": "Python 3 (ipykernel)",
   "language": "python",
   "name": "python3"
  },
  "language_info": {
   "codemirror_mode": {
    "name": "ipython",
    "version": 3
   },
   "file_extension": ".py",
   "mimetype": "text/x-python",
   "name": "python",
   "nbconvert_exporter": "python",
   "pygments_lexer": "ipython3",
   "version": "3.9.13"
  }
 },
 "nbformat": 4,
 "nbformat_minor": 5
}
