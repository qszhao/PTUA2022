{
 "cells": [
  {
   "cell_type": "code",
   "execution_count": 4,
   "id": "12d3c016",
   "metadata": {},
   "outputs": [],
   "source": [
    "%matplotlib inline\n",
    "import pandas as pd, numpy as np, matplotlib.pyplot as plt"
   ]
  },
  {
   "cell_type": "code",
   "execution_count": 5,
   "id": "2fd68f68",
   "metadata": {},
   "outputs": [
    {
     "data": {
      "text/html": [
       "<div>\n",
       "<style scoped>\n",
       "    .dataframe tbody tr th:only-of-type {\n",
       "        vertical-align: middle;\n",
       "    }\n",
       "\n",
       "    .dataframe tbody tr th {\n",
       "        vertical-align: top;\n",
       "    }\n",
       "\n",
       "    .dataframe thead th {\n",
       "        text-align: right;\n",
       "    }\n",
       "</style>\n",
       "<table border=\"1\" class=\"dataframe\">\n",
       "  <thead>\n",
       "    <tr style=\"text-align: right;\">\n",
       "      <th></th>\n",
       "      <th>lat</th>\n",
       "      <th>lon</th>\n",
       "      <th>date</th>\n",
       "      <th>city</th>\n",
       "      <th>country</th>\n",
       "    </tr>\n",
       "  </thead>\n",
       "  <tbody>\n",
       "    <tr>\n",
       "      <th>0</th>\n",
       "      <td>51.481292</td>\n",
       "      <td>-0.451011</td>\n",
       "      <td>05/14/2014 09:07</td>\n",
       "      <td>West Drayton</td>\n",
       "      <td>United Kingdom</td>\n",
       "    </tr>\n",
       "    <tr>\n",
       "      <th>1</th>\n",
       "      <td>51.474005</td>\n",
       "      <td>-0.450999</td>\n",
       "      <td>05/14/2014 09:22</td>\n",
       "      <td>Hounslow</td>\n",
       "      <td>United Kingdom</td>\n",
       "    </tr>\n",
       "    <tr>\n",
       "      <th>2</th>\n",
       "      <td>51.478199</td>\n",
       "      <td>-0.446081</td>\n",
       "      <td>05/14/2014 10:51</td>\n",
       "      <td>Hounslow</td>\n",
       "      <td>United Kingdom</td>\n",
       "    </tr>\n",
       "    <tr>\n",
       "      <th>3</th>\n",
       "      <td>51.478199</td>\n",
       "      <td>-0.446081</td>\n",
       "      <td>05/14/2014 11:24</td>\n",
       "      <td>Hounslow</td>\n",
       "      <td>United Kingdom</td>\n",
       "    </tr>\n",
       "    <tr>\n",
       "      <th>4</th>\n",
       "      <td>51.474146</td>\n",
       "      <td>-0.451562</td>\n",
       "      <td>05/14/2014 11:38</td>\n",
       "      <td>Hounslow</td>\n",
       "      <td>United Kingdom</td>\n",
       "    </tr>\n",
       "  </tbody>\n",
       "</table>\n",
       "</div>"
      ],
      "text/plain": [
       "         lat       lon              date          city         country\n",
       "0  51.481292 -0.451011  05/14/2014 09:07  West Drayton  United Kingdom\n",
       "1  51.474005 -0.450999  05/14/2014 09:22      Hounslow  United Kingdom\n",
       "2  51.478199 -0.446081  05/14/2014 10:51      Hounslow  United Kingdom\n",
       "3  51.478199 -0.446081  05/14/2014 11:24      Hounslow  United Kingdom\n",
       "4  51.474146 -0.451562  05/14/2014 11:38      Hounslow  United Kingdom"
      ]
     },
     "execution_count": 5,
     "metadata": {},
     "output_type": "execute_result"
    }
   ],
   "source": [
    "df = pd.read_csv('data/summer-travel-gps-full.csv')\n",
    "df.head()"
   ]
  },
  {
   "cell_type": "code",
   "execution_count": 6,
   "id": "6b3fd73c",
   "metadata": {},
   "outputs": [
    {
     "name": "stdout",
     "output_type": "stream",
     "text": [
      "              city         country\n",
      "0     West Drayton  United Kingdom\n",
      "1         Hounslow  United Kingdom\n",
      "2         Hounslow  United Kingdom\n",
      "3         Hounslow  United Kingdom\n",
      "4         Hounslow  United Kingdom\n",
      "...            ...             ...\n",
      "1754        Munich         Germany\n",
      "1755        Munich         Germany\n",
      "1756        Munich         Germany\n",
      "1757        Munich         Germany\n",
      "1758        Munich         Germany\n",
      "\n",
      "[1759 rows x 2 columns]\n"
     ]
    }
   ],
   "source": [
    "# Q1: how to get 2 columns from the dataframe (city and country)?\n",
    "\n",
    "print(df[['city','country']])"
   ]
  },
  {
   "cell_type": "code",
   "execution_count": 7,
   "id": "2b04a402",
   "metadata": {},
   "outputs": [
    {
     "name": "stdout",
     "output_type": "stream",
     "text": [
      "0    West Drayton\n",
      "1        Hounslow\n",
      "2        Hounslow\n",
      "3        Hounslow\n",
      "4        Hounslow\n",
      "Name: city, dtype: object\n"
     ]
    }
   ],
   "source": [
    "# Q2: how to get the first 5 rows of the \"city\" column?\n",
    "\n",
    "print(df['city'].head())"
   ]
  },
  {
   "cell_type": "code",
   "execution_count": 8,
   "id": "8aa74e0b",
   "metadata": {},
   "outputs": [
    {
     "data": {
      "text/plain": [
       "lat               51.478199\n",
       "lon               -0.446081\n",
       "date       05/14/2014 11:24\n",
       "city               Hounslow\n",
       "country      United Kingdom\n",
       "Name: 3, dtype: object"
      ]
     },
     "execution_count": 8,
     "metadata": {},
     "output_type": "execute_result"
    }
   ],
   "source": [
    "# Q3: how to use .loc to select the third row of the dataframe?\n",
    "\n",
    "df.loc[3]"
   ]
  },
  {
   "cell_type": "code",
   "execution_count": 10,
   "id": "5799a935",
   "metadata": {},
   "outputs": [
    {
     "data": {
      "text/plain": [
       "'United Kingdom'"
      ]
     },
     "execution_count": 10,
     "metadata": {},
     "output_type": "execute_result"
    }
   ],
   "source": [
    "# Q4: how to use .loc to select the first row in \"country\" column?\n",
    "\n",
    "df.loc[1, 'country']"
   ]
  },
  {
   "cell_type": "code",
   "execution_count": 16,
   "id": "46c3c9bd",
   "metadata": {},
   "outputs": [
    {
     "data": {
      "text/html": [
       "<div>\n",
       "<style scoped>\n",
       "    .dataframe tbody tr th:only-of-type {\n",
       "        vertical-align: middle;\n",
       "    }\n",
       "\n",
       "    .dataframe tbody tr th {\n",
       "        vertical-align: top;\n",
       "    }\n",
       "\n",
       "    .dataframe thead th {\n",
       "        text-align: right;\n",
       "    }\n",
       "</style>\n",
       "<table border=\"1\" class=\"dataframe\">\n",
       "  <thead>\n",
       "    <tr style=\"text-align: right;\">\n",
       "      <th></th>\n",
       "      <th>city</th>\n",
       "      <th>date</th>\n",
       "    </tr>\n",
       "  </thead>\n",
       "  <tbody>\n",
       "    <tr>\n",
       "      <th>1</th>\n",
       "      <td>Hounslow</td>\n",
       "      <td>05/14/2014 09:22</td>\n",
       "    </tr>\n",
       "    <tr>\n",
       "      <th>2</th>\n",
       "      <td>Hounslow</td>\n",
       "      <td>05/14/2014 10:51</td>\n",
       "    </tr>\n",
       "    <tr>\n",
       "      <th>3</th>\n",
       "      <td>Hounslow</td>\n",
       "      <td>05/14/2014 11:24</td>\n",
       "    </tr>\n",
       "    <tr>\n",
       "      <th>4</th>\n",
       "      <td>Hounslow</td>\n",
       "      <td>05/14/2014 11:38</td>\n",
       "    </tr>\n",
       "  </tbody>\n",
       "</table>\n",
       "</div>"
      ],
      "text/plain": [
       "       city              date\n",
       "1  Hounslow  05/14/2014 09:22\n",
       "2  Hounslow  05/14/2014 10:51\n",
       "3  Hounslow  05/14/2014 11:24\n",
       "4  Hounslow  05/14/2014 11:38"
      ]
     },
     "execution_count": 16,
     "metadata": {},
     "output_type": "execute_result"
    }
   ],
   "source": [
    "# Q5: how to select the first 4 rows of ['city', 'date'] columns?\n",
    "\n",
    "df.loc[1:4, ['city', 'date']]"
   ]
  },
  {
   "cell_type": "code",
   "execution_count": 11,
   "id": "12ba17c2",
   "metadata": {},
   "outputs": [
    {
     "data": {
      "text/plain": [
       "city    Hounslow\n",
       "Name: 2, dtype: object"
      ]
     },
     "execution_count": 11,
     "metadata": {},
     "output_type": "execute_result"
    }
   ],
   "source": [
    "# Q6: how to get the value from the row in position 3 and the column in position 2\n",
    "\n",
    "df.iloc[2, [3]]"
   ]
  },
  {
   "cell_type": "code",
   "execution_count": 18,
   "id": "690efd6c",
   "metadata": {
    "scrolled": true
   },
   "outputs": [
    {
     "data": {
      "text/plain": [
       "lat               41.377091\n",
       "lon                2.151175\n",
       "date       05/20/2014 03:18\n",
       "city              Barcelona\n",
       "country               Spain\n",
       "Name: 300, dtype: object"
      ]
     },
     "execution_count": 18,
     "metadata": {},
     "output_type": "execute_result"
    }
   ],
   "source": [
    "# Q7: how to use iloc to select every 300th row from a data set\n",
    "\n",
    "df.iloc[300]"
   ]
  },
  {
   "cell_type": "code",
   "execution_count": 19,
   "id": "7e771722",
   "metadata": {},
   "outputs": [
    {
     "name": "stdout",
     "output_type": "stream",
     "text": [
      "0       False\n",
      "1       False\n",
      "2       False\n",
      "3       False\n",
      "4       False\n",
      "        ...  \n",
      "1754     True\n",
      "1755     True\n",
      "1756     True\n",
      "1757     True\n",
      "1758     True\n",
      "Name: city, Length: 1759, dtype: bool\n"
     ]
    }
   ],
   "source": [
    "# Q9: create a Series of true/false, indicating if each \"city\" row in the column is equal to \"Munich\"\n",
    "\n",
    "print(df['city'] == 'Munich')"
   ]
  },
  {
   "cell_type": "code",
   "execution_count": 23,
   "id": "e0493596",
   "metadata": {},
   "outputs": [
    {
     "name": "stdout",
     "output_type": "stream",
     "text": [
      "            lat       lon              date                     city country\n",
      "263   41.303911  2.105931  05/18/2014 22:35     El Prat de Llobregat   Spain\n",
      "264   41.292723  2.075583  05/18/2014 22:49               Viladecans   Spain\n",
      "265   41.289946  2.064590  05/18/2014 23:04               Viladecans   Spain\n",
      "266   41.294143  2.073177  05/18/2014 23:20               Viladecans   Spain\n",
      "267   41.320125  2.090935  05/18/2014 23:34     El Prat de Llobregat   Spain\n",
      "1012  41.306752  2.097624  06/12/2014 17:19     El Prat de Llobregat   Spain\n",
      "1013  41.312086  2.077921  06/12/2014 17:35     El Prat de Llobregat   Spain\n",
      "1014  41.304333  2.072728  06/12/2014 17:49     El Prat de Llobregat   Spain\n",
      "1015  41.354599  2.122235  06/12/2014 18:04  Hospitalet de Llobregat   Spain\n",
      "1033  41.359580  2.128153  06/13/2014 11:05  Hospitalet de Llobregat   Spain\n",
      "1034  41.359702  2.130125  06/13/2014 11:19  Hospitalet de Llobregat   Spain\n",
      "1035  41.358460  2.128701  06/13/2014 11:35  Hospitalet de Llobregat   Spain\n",
      "1360  41.294761  2.059722  06/20/2014 22:15               Viladecans   Spain\n",
      "1361  41.304421  2.062938  06/20/2014 23:14     El Prat de Llobregat   Spain\n"
     ]
    }
   ],
   "source": [
    "# Q10: what cities were visited in spain that were not barcelona? Create a dataframe for it. \n",
    "\n",
    "not_barca = df[(df['country'].isin(['Spain'])) & (df['city'] != 'Barcelona')]\n",
    "print(not_barca)"
   ]
  },
  {
   "cell_type": "code",
   "execution_count": 24,
   "id": "d155d13c",
   "metadata": {},
   "outputs": [
    {
     "name": "stdout",
     "output_type": "stream",
     "text": [
      "            lat        lon              date       city  country\n",
      "1362  44.821164  20.289821  06/21/2014 01:59   Belgrade   Serbia\n",
      "1363  44.814263  20.463396  06/21/2014 02:29   Belgrade   Serbia\n",
      "1364  44.814237  20.463395  06/21/2014 04:29   Belgrade   Serbia\n",
      "1365  44.814260  20.463441  06/21/2014 05:30   Belgrade   Serbia\n",
      "1366  44.814255  20.463413  06/21/2014 08:00   Belgrade   Serbia\n",
      "1367  44.814763  20.462994  06/21/2014 10:14   Belgrade   Serbia\n",
      "1368  44.814257  20.463436  06/21/2014 13:29   Belgrade   Serbia\n",
      "1369  44.814246  20.463423  06/21/2014 13:45   Belgrade   Serbia\n",
      "1370  44.814242  20.463396  06/21/2014 15:29   Belgrade   Serbia\n",
      "1371  44.817690  20.464091  06/21/2014 17:29   Belgrade   Serbia\n",
      "1372  44.820414  20.463465  06/21/2014 18:44   Belgrade   Serbia\n",
      "1373  44.814251  20.463413  06/21/2014 19:30   Belgrade   Serbia\n",
      "1374  44.814237  20.463392  06/21/2014 22:14   Belgrade   Serbia\n",
      "1375  44.814209  20.463401  06/22/2014 05:14   Belgrade   Serbia\n",
      "1376  44.761583  19.577904  06/22/2014 07:58  Slepčević   Serbia\n",
      "1753  48.356417  11.792155  07/09/2014 13:11     Munich  Germany\n",
      "1754  48.356013  11.791710  07/09/2014 13:13     Munich  Germany\n",
      "1755  48.356529  11.792183  07/09/2014 13:14     Munich  Germany\n",
      "1756  48.356285  11.791710  07/09/2014 13:17     Munich  Germany\n",
      "1757  48.355328  11.791710  07/09/2014 13:18     Munich  Germany\n",
      "1758  48.357110  11.791346  07/09/2014 13:20     Munich  Germany\n"
     ]
    }
   ],
   "source": [
    "# Q11: select rows where either the city is munich, or the country is serbia\n",
    "\n",
    "munich_or_serbia = df[(df['city'].isin(['Munich'])) | (df['country'] == 'Serbia')]\n",
    "\n",
    "print(munich_or_serbia)"
   ]
  },
  {
   "cell_type": "code",
   "execution_count": 25,
   "id": "f414f1ba",
   "metadata": {},
   "outputs": [
    {
     "name": "stdout",
     "output_type": "stream",
     "text": [
      "1496\n"
     ]
    }
   ],
   "source": [
    "# Q12: how many observations are west of the prime meridian?\n",
    "\n",
    "print(len(df[(df['lon'] >= 0)]))"
   ]
  },
  {
   "cell_type": "code",
   "execution_count": 13,
   "id": "780741e9",
   "metadata": {},
   "outputs": [
    {
     "name": "stdout",
     "output_type": "stream",
     "text": [
      "            lat        lon              date         city  country\n",
      "659   50.273632  18.729429  06/02/2014 06:39      Gliwice   Poland\n",
      "660   50.273632  18.729429  06/02/2014 06:55      Gliwice   Poland\n",
      "942   48.282940   8.199630  06/10/2014 13:33       Gutach  Germany\n",
      "943   48.389029   8.021342  06/10/2014 13:48   Gengenbach  Germany\n",
      "1575  40.187827  20.079304  07/04/2014 17:39  Gjirokastër  Albania\n",
      "1576  40.187825  20.079303  07/04/2014 17:42  Gjirokastër  Albania\n"
     ]
    }
   ],
   "source": [
    "# Q13: get all rows that contain a city that starts with the letter G\n",
    "\n",
    "print( df[df['city'].str[0] == 'G'])"
   ]
  },
  {
   "cell_type": "code",
   "execution_count": 20,
   "id": "fda1b1db",
   "metadata": {},
   "outputs": [
    {
     "name": "stdout",
     "output_type": "stream",
     "text": [
      "lat        1720\n",
      "lon        1720\n",
      "date       1758\n",
      "city        113\n",
      "country      15\n",
      "dtype: int64\n",
      "lat        0\n",
      "lon        0\n",
      "date       0\n",
      "city       0\n",
      "country    0\n",
      "dtype: int64\n"
     ]
    }
   ],
   "source": [
    "# Q14: how many unique cities and countries in the dataset? \n",
    "\n",
    "print(df.nunique())\n",
    "\n",
    "\n",
    "print(df.isnull().sum())\n",
    "\n",
    "# There are no missing values?\n",
    "\n",
    "# Also can you check missing values for the dataframe"
   ]
  },
  {
   "cell_type": "code",
   "execution_count": 26,
   "id": "bb69392a",
   "metadata": {},
   "outputs": [
    {
     "data": {
      "text/html": [
       "<div>\n",
       "<style scoped>\n",
       "    .dataframe tbody tr th:only-of-type {\n",
       "        vertical-align: middle;\n",
       "    }\n",
       "\n",
       "    .dataframe tbody tr th {\n",
       "        vertical-align: top;\n",
       "    }\n",
       "\n",
       "    .dataframe thead th {\n",
       "        text-align: right;\n",
       "    }\n",
       "</style>\n",
       "<table border=\"1\" class=\"dataframe\">\n",
       "  <thead>\n",
       "    <tr style=\"text-align: right;\">\n",
       "      <th></th>\n",
       "      <th></th>\n",
       "      <th>lat</th>\n",
       "      <th>lon</th>\n",
       "    </tr>\n",
       "    <tr>\n",
       "      <th>country</th>\n",
       "      <th>city</th>\n",
       "      <th></th>\n",
       "      <th></th>\n",
       "    </tr>\n",
       "  </thead>\n",
       "  <tbody>\n",
       "    <tr>\n",
       "      <th rowspan=\"2\" valign=\"top\">Albania</th>\n",
       "      <th>Berat</th>\n",
       "      <td>40.702196</td>\n",
       "      <td>19.946431</td>\n",
       "    </tr>\n",
       "    <tr>\n",
       "      <th>Gjirokastër</th>\n",
       "      <td>40.187827</td>\n",
       "      <td>20.079304</td>\n",
       "    </tr>\n",
       "    <tr>\n",
       "      <th rowspan=\"3\" valign=\"top\">Bosnia and Herzegovina</th>\n",
       "      <th>Herzegovina-Neretva Canton</th>\n",
       "      <td>42.911720</td>\n",
       "      <td>17.627780</td>\n",
       "    </tr>\n",
       "    <tr>\n",
       "      <th>Mostar</th>\n",
       "      <td>43.345760</td>\n",
       "      <td>17.811691</td>\n",
       "    </tr>\n",
       "    <tr>\n",
       "      <th>Sarajevo</th>\n",
       "      <td>43.859518</td>\n",
       "      <td>18.425945</td>\n",
       "    </tr>\n",
       "    <tr>\n",
       "      <th>...</th>\n",
       "      <th>...</th>\n",
       "      <td>...</td>\n",
       "      <td>...</td>\n",
       "    </tr>\n",
       "    <tr>\n",
       "      <th rowspan=\"2\" valign=\"top\">Spain</th>\n",
       "      <th>Hospitalet de Llobregat</th>\n",
       "      <td>41.354599</td>\n",
       "      <td>2.122235</td>\n",
       "    </tr>\n",
       "    <tr>\n",
       "      <th>Viladecans</th>\n",
       "      <td>41.292723</td>\n",
       "      <td>2.075583</td>\n",
       "    </tr>\n",
       "    <tr>\n",
       "      <th>Turkey</th>\n",
       "      <th>Istanbul</th>\n",
       "      <td>40.982352</td>\n",
       "      <td>28.815756</td>\n",
       "    </tr>\n",
       "    <tr>\n",
       "      <th rowspan=\"2\" valign=\"top\">United Kingdom</th>\n",
       "      <th>Hounslow</th>\n",
       "      <td>51.474005</td>\n",
       "      <td>-0.450999</td>\n",
       "    </tr>\n",
       "    <tr>\n",
       "      <th>West Drayton</th>\n",
       "      <td>51.481292</td>\n",
       "      <td>-0.451011</td>\n",
       "    </tr>\n",
       "  </tbody>\n",
       "</table>\n",
       "<p>113 rows × 2 columns</p>\n",
       "</div>"
      ],
      "text/plain": [
       "                                                         lat        lon\n",
       "country                city                                            \n",
       "Albania                Berat                       40.702196  19.946431\n",
       "                       Gjirokastër                 40.187827  20.079304\n",
       "Bosnia and Herzegovina Herzegovina-Neretva Canton  42.911720  17.627780\n",
       "                       Mostar                      43.345760  17.811691\n",
       "                       Sarajevo                    43.859518  18.425945\n",
       "...                                                      ...        ...\n",
       "Spain                  Hospitalet de Llobregat     41.354599   2.122235\n",
       "                       Viladecans                  41.292723   2.075583\n",
       "Turkey                 Istanbul                    40.982352  28.815756\n",
       "United Kingdom         Hounslow                    51.474005  -0.450999\n",
       "                       West Drayton                51.481292  -0.451011\n",
       "\n",
       "[113 rows x 2 columns]"
      ]
     },
     "execution_count": 26,
     "metadata": {},
     "output_type": "execute_result"
    }
   ],
   "source": [
    "# Q15: group by country name and show the city names in each of the country\n",
    "\n",
    "gdf = df.groupby(['country', 'city'])\n",
    "  \n",
    "# Print the first value in each group\n",
    "gdf.first(20)\n"
   ]
  },
  {
   "cell_type": "code",
   "execution_count": 27,
   "id": "2b7859b0",
   "metadata": {},
   "outputs": [
    {
     "data": {
      "text/html": [
       "<div>\n",
       "<style scoped>\n",
       "    .dataframe tbody tr th:only-of-type {\n",
       "        vertical-align: middle;\n",
       "    }\n",
       "\n",
       "    .dataframe tbody tr th {\n",
       "        vertical-align: top;\n",
       "    }\n",
       "\n",
       "    .dataframe thead th {\n",
       "        text-align: right;\n",
       "    }\n",
       "</style>\n",
       "<table border=\"1\" class=\"dataframe\">\n",
       "  <thead>\n",
       "    <tr style=\"text-align: right;\">\n",
       "      <th></th>\n",
       "      <th>lat</th>\n",
       "      <th>lon</th>\n",
       "      <th>city</th>\n",
       "      <th>country</th>\n",
       "    </tr>\n",
       "    <tr>\n",
       "      <th>date</th>\n",
       "      <th></th>\n",
       "      <th></th>\n",
       "      <th></th>\n",
       "      <th></th>\n",
       "    </tr>\n",
       "  </thead>\n",
       "  <tbody>\n",
       "    <tr>\n",
       "      <th>2014-05-14 09:07:00</th>\n",
       "      <td>51.481292</td>\n",
       "      <td>-0.451011</td>\n",
       "      <td>West Drayton</td>\n",
       "      <td>United Kingdom</td>\n",
       "    </tr>\n",
       "    <tr>\n",
       "      <th>2014-05-14 09:22:00</th>\n",
       "      <td>51.474005</td>\n",
       "      <td>-0.450999</td>\n",
       "      <td>Hounslow</td>\n",
       "      <td>United Kingdom</td>\n",
       "    </tr>\n",
       "    <tr>\n",
       "      <th>2014-05-14 10:51:00</th>\n",
       "      <td>51.478199</td>\n",
       "      <td>-0.446081</td>\n",
       "      <td>Hounslow</td>\n",
       "      <td>United Kingdom</td>\n",
       "    </tr>\n",
       "    <tr>\n",
       "      <th>2014-05-14 11:24:00</th>\n",
       "      <td>51.478199</td>\n",
       "      <td>-0.446081</td>\n",
       "      <td>Hounslow</td>\n",
       "      <td>United Kingdom</td>\n",
       "    </tr>\n",
       "    <tr>\n",
       "      <th>2014-05-14 11:38:00</th>\n",
       "      <td>51.474146</td>\n",
       "      <td>-0.451562</td>\n",
       "      <td>Hounslow</td>\n",
       "      <td>United Kingdom</td>\n",
       "    </tr>\n",
       "  </tbody>\n",
       "</table>\n",
       "</div>"
      ],
      "text/plain": [
       "                           lat       lon          city         country\n",
       "date                                                                  \n",
       "2014-05-14 09:07:00  51.481292 -0.451011  West Drayton  United Kingdom\n",
       "2014-05-14 09:22:00  51.474005 -0.450999      Hounslow  United Kingdom\n",
       "2014-05-14 10:51:00  51.478199 -0.446081      Hounslow  United Kingdom\n",
       "2014-05-14 11:24:00  51.478199 -0.446081      Hounslow  United Kingdom\n",
       "2014-05-14 11:38:00  51.474146 -0.451562      Hounslow  United Kingdom"
      ]
     },
     "execution_count": 27,
     "metadata": {},
     "output_type": "execute_result"
    }
   ],
   "source": [
    "# load the location data set, indexed by the date field\n",
    "# and, parse the dates so they're no longer strings but now rather Python datetime objects\n",
    "# this lets us do date and time based operations on the data set\n",
    "dt = pd.read_csv('data/summer-travel-gps-full.csv', index_col='date', parse_dates=True)\n",
    "dt.head()\n",
    "\n",
    "\n"
   ]
  },
  {
   "cell_type": "code",
   "execution_count": 3,
   "id": "0f1ded10",
   "metadata": {},
   "outputs": [],
   "source": [
    "# Q16: is the timestamp index unique? How can you use code to find it? "
   ]
  },
  {
   "cell_type": "code",
   "execution_count": 4,
   "id": "6b5b5145",
   "metadata": {},
   "outputs": [],
   "source": [
    "# Q17: drop duplicate index "
   ]
  },
  {
   "cell_type": "code",
   "execution_count": 5,
   "id": "1b8af8cd",
   "metadata": {},
   "outputs": [],
   "source": [
    "# Q18: create a weekday and a weekend dataframe"
   ]
  },
  {
   "cell_type": "code",
   "execution_count": null,
   "id": "438fe5a9",
   "metadata": {},
   "outputs": [],
   "source": [
    "# Q19: calculate and plot the number of observations each day of the week has"
   ]
  }
 ],
 "metadata": {
  "kernelspec": {
   "display_name": "Python 3 (ipykernel)",
   "language": "python",
   "name": "python3"
  },
  "language_info": {
   "codemirror_mode": {
    "name": "ipython",
    "version": 3
   },
   "file_extension": ".py",
   "mimetype": "text/x-python",
   "name": "python",
   "nbconvert_exporter": "python",
   "pygments_lexer": "ipython3",
   "version": "3.9.7"
  }
 },
 "nbformat": 4,
 "nbformat_minor": 5
}
