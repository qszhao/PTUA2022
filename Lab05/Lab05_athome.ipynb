{
 "cells": [
  {
   "cell_type": "code",
   "execution_count": 1,
   "id": "7e5bfa18",
   "metadata": {},
   "outputs": [
    {
     "data": {
      "text/html": [
       "<div>\n",
       "<style scoped>\n",
       "    .dataframe tbody tr th:only-of-type {\n",
       "        vertical-align: middle;\n",
       "    }\n",
       "\n",
       "    .dataframe tbody tr th {\n",
       "        vertical-align: top;\n",
       "    }\n",
       "\n",
       "    .dataframe thead th {\n",
       "        text-align: right;\n",
       "    }\n",
       "</style>\n",
       "<table border=\"1\" class=\"dataframe\">\n",
       "  <thead>\n",
       "    <tr style=\"text-align: right;\">\n",
       "      <th></th>\n",
       "      <th>lat</th>\n",
       "      <th>lon</th>\n",
       "      <th>date</th>\n",
       "      <th>city</th>\n",
       "      <th>country</th>\n",
       "    </tr>\n",
       "  </thead>\n",
       "  <tbody>\n",
       "    <tr>\n",
       "      <th>0</th>\n",
       "      <td>51.481292</td>\n",
       "      <td>-0.451011</td>\n",
       "      <td>05/14/2014 09:07</td>\n",
       "      <td>West Drayton</td>\n",
       "      <td>United Kingdom</td>\n",
       "    </tr>\n",
       "    <tr>\n",
       "      <th>1</th>\n",
       "      <td>51.474005</td>\n",
       "      <td>-0.450999</td>\n",
       "      <td>05/14/2014 09:22</td>\n",
       "      <td>Hounslow</td>\n",
       "      <td>United Kingdom</td>\n",
       "    </tr>\n",
       "    <tr>\n",
       "      <th>2</th>\n",
       "      <td>51.478199</td>\n",
       "      <td>-0.446081</td>\n",
       "      <td>05/14/2014 10:51</td>\n",
       "      <td>Hounslow</td>\n",
       "      <td>United Kingdom</td>\n",
       "    </tr>\n",
       "    <tr>\n",
       "      <th>3</th>\n",
       "      <td>51.478199</td>\n",
       "      <td>-0.446081</td>\n",
       "      <td>05/14/2014 11:24</td>\n",
       "      <td>Hounslow</td>\n",
       "      <td>United Kingdom</td>\n",
       "    </tr>\n",
       "    <tr>\n",
       "      <th>4</th>\n",
       "      <td>51.474146</td>\n",
       "      <td>-0.451562</td>\n",
       "      <td>05/14/2014 11:38</td>\n",
       "      <td>Hounslow</td>\n",
       "      <td>United Kingdom</td>\n",
       "    </tr>\n",
       "  </tbody>\n",
       "</table>\n",
       "</div>"
      ],
      "text/plain": [
       "         lat       lon              date          city         country\n",
       "0  51.481292 -0.451011  05/14/2014 09:07  West Drayton  United Kingdom\n",
       "1  51.474005 -0.450999  05/14/2014 09:22      Hounslow  United Kingdom\n",
       "2  51.478199 -0.446081  05/14/2014 10:51      Hounslow  United Kingdom\n",
       "3  51.478199 -0.446081  05/14/2014 11:24      Hounslow  United Kingdom\n",
       "4  51.474146 -0.451562  05/14/2014 11:38      Hounslow  United Kingdom"
      ]
     },
     "execution_count": 1,
     "metadata": {},
     "output_type": "execute_result"
    }
   ],
   "source": [
    "%matplotlib inline\n",
    "import pandas as pd, numpy as np, matplotlib.pyplot as plt\n"
   ]
  },
  {
   "cell_type": "code",
   "execution_count": 2,
   "id": "d4b98e3b",
   "metadata": {},
   "outputs": [
    {
     "data": {
      "text/html": [
       "<div>\n",
       "<style scoped>\n",
       "    .dataframe tbody tr th:only-of-type {\n",
       "        vertical-align: middle;\n",
       "    }\n",
       "\n",
       "    .dataframe tbody tr th {\n",
       "        vertical-align: top;\n",
       "    }\n",
       "\n",
       "    .dataframe thead th {\n",
       "        text-align: right;\n",
       "    }\n",
       "</style>\n",
       "<table border=\"1\" class=\"dataframe\">\n",
       "  <thead>\n",
       "    <tr style=\"text-align: right;\">\n",
       "      <th></th>\n",
       "      <th>lat</th>\n",
       "      <th>lon</th>\n",
       "      <th>date</th>\n",
       "      <th>city</th>\n",
       "      <th>country</th>\n",
       "    </tr>\n",
       "  </thead>\n",
       "  <tbody>\n",
       "    <tr>\n",
       "      <th>0</th>\n",
       "      <td>51.481292</td>\n",
       "      <td>-0.451011</td>\n",
       "      <td>05/14/2014 09:07</td>\n",
       "      <td>West Drayton</td>\n",
       "      <td>United Kingdom</td>\n",
       "    </tr>\n",
       "    <tr>\n",
       "      <th>1</th>\n",
       "      <td>51.474005</td>\n",
       "      <td>-0.450999</td>\n",
       "      <td>05/14/2014 09:22</td>\n",
       "      <td>Hounslow</td>\n",
       "      <td>United Kingdom</td>\n",
       "    </tr>\n",
       "    <tr>\n",
       "      <th>2</th>\n",
       "      <td>51.478199</td>\n",
       "      <td>-0.446081</td>\n",
       "      <td>05/14/2014 10:51</td>\n",
       "      <td>Hounslow</td>\n",
       "      <td>United Kingdom</td>\n",
       "    </tr>\n",
       "    <tr>\n",
       "      <th>3</th>\n",
       "      <td>51.478199</td>\n",
       "      <td>-0.446081</td>\n",
       "      <td>05/14/2014 11:24</td>\n",
       "      <td>Hounslow</td>\n",
       "      <td>United Kingdom</td>\n",
       "    </tr>\n",
       "    <tr>\n",
       "      <th>4</th>\n",
       "      <td>51.474146</td>\n",
       "      <td>-0.451562</td>\n",
       "      <td>05/14/2014 11:38</td>\n",
       "      <td>Hounslow</td>\n",
       "      <td>United Kingdom</td>\n",
       "    </tr>\n",
       "  </tbody>\n",
       "</table>\n",
       "</div>"
      ],
      "text/plain": [
       "         lat       lon              date          city         country\n",
       "0  51.481292 -0.451011  05/14/2014 09:07  West Drayton  United Kingdom\n",
       "1  51.474005 -0.450999  05/14/2014 09:22      Hounslow  United Kingdom\n",
       "2  51.478199 -0.446081  05/14/2014 10:51      Hounslow  United Kingdom\n",
       "3  51.478199 -0.446081  05/14/2014 11:24      Hounslow  United Kingdom\n",
       "4  51.474146 -0.451562  05/14/2014 11:38      Hounslow  United Kingdom"
      ]
     },
     "execution_count": 2,
     "metadata": {},
     "output_type": "execute_result"
    }
   ],
   "source": [
    "df = pd.read_csv('data/summer-travel-gps-full.csv')\n",
    "df.head()"
   ]
  },
  {
   "cell_type": "code",
   "execution_count": 3,
   "id": "c80be743",
   "metadata": {},
   "outputs": [],
   "source": [
    "summer_travel_gps_full = df"
   ]
  },
  {
   "cell_type": "code",
   "execution_count": 4,
   "id": "c6bac7f3",
   "metadata": {},
   "outputs": [
    {
     "data": {
      "text/html": [
       "<div>\n",
       "<style scoped>\n",
       "    .dataframe tbody tr th:only-of-type {\n",
       "        vertical-align: middle;\n",
       "    }\n",
       "\n",
       "    .dataframe tbody tr th {\n",
       "        vertical-align: top;\n",
       "    }\n",
       "\n",
       "    .dataframe thead th {\n",
       "        text-align: right;\n",
       "    }\n",
       "</style>\n",
       "<table border=\"1\" class=\"dataframe\">\n",
       "  <thead>\n",
       "    <tr style=\"text-align: right;\">\n",
       "      <th></th>\n",
       "      <th>lat</th>\n",
       "      <th>lon</th>\n",
       "      <th>date</th>\n",
       "      <th>city</th>\n",
       "      <th>country</th>\n",
       "    </tr>\n",
       "  </thead>\n",
       "  <tbody>\n",
       "    <tr>\n",
       "      <th>0</th>\n",
       "      <td>51.481292</td>\n",
       "      <td>-0.451011</td>\n",
       "      <td>05/14/2014 09:07</td>\n",
       "      <td>West Drayton</td>\n",
       "      <td>United Kingdom</td>\n",
       "    </tr>\n",
       "    <tr>\n",
       "      <th>1</th>\n",
       "      <td>51.474005</td>\n",
       "      <td>-0.450999</td>\n",
       "      <td>05/14/2014 09:22</td>\n",
       "      <td>Hounslow</td>\n",
       "      <td>United Kingdom</td>\n",
       "    </tr>\n",
       "    <tr>\n",
       "      <th>2</th>\n",
       "      <td>51.478199</td>\n",
       "      <td>-0.446081</td>\n",
       "      <td>05/14/2014 10:51</td>\n",
       "      <td>Hounslow</td>\n",
       "      <td>United Kingdom</td>\n",
       "    </tr>\n",
       "    <tr>\n",
       "      <th>3</th>\n",
       "      <td>51.478199</td>\n",
       "      <td>-0.446081</td>\n",
       "      <td>05/14/2014 11:24</td>\n",
       "      <td>Hounslow</td>\n",
       "      <td>United Kingdom</td>\n",
       "    </tr>\n",
       "    <tr>\n",
       "      <th>4</th>\n",
       "      <td>51.474146</td>\n",
       "      <td>-0.451562</td>\n",
       "      <td>05/14/2014 11:38</td>\n",
       "      <td>Hounslow</td>\n",
       "      <td>United Kingdom</td>\n",
       "    </tr>\n",
       "  </tbody>\n",
       "</table>\n",
       "</div>"
      ],
      "text/plain": [
       "         lat       lon              date          city         country\n",
       "0  51.481292 -0.451011  05/14/2014 09:07  West Drayton  United Kingdom\n",
       "1  51.474005 -0.450999  05/14/2014 09:22      Hounslow  United Kingdom\n",
       "2  51.478199 -0.446081  05/14/2014 10:51      Hounslow  United Kingdom\n",
       "3  51.478199 -0.446081  05/14/2014 11:24      Hounslow  United Kingdom\n",
       "4  51.474146 -0.451562  05/14/2014 11:38      Hounslow  United Kingdom"
      ]
     },
     "execution_count": 4,
     "metadata": {},
     "output_type": "execute_result"
    }
   ],
   "source": [
    "summer_travel_gps_full.head()"
   ]
  },
  {
   "cell_type": "markdown",
   "id": "453b078b",
   "metadata": {},
   "source": [
    "## q1"
   ]
  },
  {
   "cell_type": "code",
   "execution_count": 12,
   "id": "c6c3549f",
   "metadata": {},
   "outputs": [],
   "source": [
    "city_country_columns = summer_travel_gps_full.loc[:, ['city', 'country']]"
   ]
  },
  {
   "cell_type": "code",
   "execution_count": 13,
   "id": "cf13630f",
   "metadata": {},
   "outputs": [
    {
     "data": {
      "text/html": [
       "<div>\n",
       "<style scoped>\n",
       "    .dataframe tbody tr th:only-of-type {\n",
       "        vertical-align: middle;\n",
       "    }\n",
       "\n",
       "    .dataframe tbody tr th {\n",
       "        vertical-align: top;\n",
       "    }\n",
       "\n",
       "    .dataframe thead th {\n",
       "        text-align: right;\n",
       "    }\n",
       "</style>\n",
       "<table border=\"1\" class=\"dataframe\">\n",
       "  <thead>\n",
       "    <tr style=\"text-align: right;\">\n",
       "      <th></th>\n",
       "      <th>city</th>\n",
       "      <th>country</th>\n",
       "    </tr>\n",
       "  </thead>\n",
       "  <tbody>\n",
       "    <tr>\n",
       "      <th>0</th>\n",
       "      <td>West Drayton</td>\n",
       "      <td>United Kingdom</td>\n",
       "    </tr>\n",
       "    <tr>\n",
       "      <th>1</th>\n",
       "      <td>Hounslow</td>\n",
       "      <td>United Kingdom</td>\n",
       "    </tr>\n",
       "    <tr>\n",
       "      <th>2</th>\n",
       "      <td>Hounslow</td>\n",
       "      <td>United Kingdom</td>\n",
       "    </tr>\n",
       "    <tr>\n",
       "      <th>3</th>\n",
       "      <td>Hounslow</td>\n",
       "      <td>United Kingdom</td>\n",
       "    </tr>\n",
       "    <tr>\n",
       "      <th>4</th>\n",
       "      <td>Hounslow</td>\n",
       "      <td>United Kingdom</td>\n",
       "    </tr>\n",
       "  </tbody>\n",
       "</table>\n",
       "</div>"
      ],
      "text/plain": [
       "           city         country\n",
       "0  West Drayton  United Kingdom\n",
       "1      Hounslow  United Kingdom\n",
       "2      Hounslow  United Kingdom\n",
       "3      Hounslow  United Kingdom\n",
       "4      Hounslow  United Kingdom"
      ]
     },
     "execution_count": 13,
     "metadata": {},
     "output_type": "execute_result"
    }
   ],
   "source": [
    "city_country_columns.head()"
   ]
  },
  {
   "cell_type": "markdown",
   "id": "17766a15",
   "metadata": {},
   "source": [
    "## q2"
   ]
  },
  {
   "cell_type": "code",
   "execution_count": 22,
   "id": "e4eb5282",
   "metadata": {},
   "outputs": [
    {
     "data": {
      "text/plain": [
       "0    West Drayton\n",
       "1        Hounslow\n",
       "2        Hounslow\n",
       "3        Hounslow\n",
       "4        Hounslow\n",
       "Name: city, dtype: object"
      ]
     },
     "execution_count": 22,
     "metadata": {},
     "output_type": "execute_result"
    }
   ],
   "source": [
    "city_country_columns.loc[0:4, 'city']"
   ]
  },
  {
   "cell_type": "code",
   "execution_count": 25,
   "id": "20f790f6",
   "metadata": {},
   "outputs": [
    {
     "data": {
      "text/plain": [
       "0    West Drayton\n",
       "1        Hounslow\n",
       "2        Hounslow\n",
       "3        Hounslow\n",
       "4        Hounslow\n",
       "Name: city, dtype: object"
      ]
     },
     "execution_count": 25,
     "metadata": {},
     "output_type": "execute_result"
    }
   ],
   "source": [
    "summer_travel_gps_full['city'].head()\n"
   ]
  },
  {
   "cell_type": "code",
   "execution_count": 26,
   "id": "495adb84",
   "metadata": {},
   "outputs": [
    {
     "data": {
      "text/plain": [
       "0    West Drayton\n",
       "1        Hounslow\n",
       "2        Hounslow\n",
       "3        Hounslow\n",
       "Name: city, dtype: object"
      ]
     },
     "execution_count": 26,
     "metadata": {},
     "output_type": "execute_result"
    }
   ],
   "source": [
    "summer_travel_gps_full.city[0:4]\n"
   ]
  },
  {
   "cell_type": "code",
   "execution_count": 27,
   "id": "1a536044",
   "metadata": {},
   "outputs": [
    {
     "data": {
      "text/plain": [
       "0    West Drayton\n",
       "1        Hounslow\n",
       "2        Hounslow\n",
       "3        Hounslow\n",
       "Name: city, dtype: object"
      ]
     },
     "execution_count": 27,
     "metadata": {},
     "output_type": "execute_result"
    }
   ],
   "source": [
    "summer_travel_gps_full['city'][0:4]"
   ]
  },
  {
   "cell_type": "markdown",
   "id": "9cfd5e2c",
   "metadata": {},
   "source": [
    "## q3"
   ]
  },
  {
   "cell_type": "code",
   "execution_count": 21,
   "id": "7282f17d",
   "metadata": {},
   "outputs": [
    {
     "data": {
      "text/plain": [
       "lat               51.478199\n",
       "lon               -0.446081\n",
       "date       05/14/2014 11:24\n",
       "city               Hounslow\n",
       "country      United Kingdom\n",
       "Name: 3, dtype: object"
      ]
     },
     "execution_count": 21,
     "metadata": {},
     "output_type": "execute_result"
    }
   ],
   "source": [
    "summer_travel_gps_full.loc[3, :]"
   ]
  },
  {
   "cell_type": "markdown",
   "id": "ee4a4efc",
   "metadata": {},
   "source": [
    "### q4"
   ]
  },
  {
   "cell_type": "code",
   "execution_count": 23,
   "id": "d14e3b01",
   "metadata": {},
   "outputs": [
    {
     "data": {
      "text/plain": [
       "'United Kingdom'"
      ]
     },
     "execution_count": 23,
     "metadata": {},
     "output_type": "execute_result"
    }
   ],
   "source": [
    "summer_travel_gps_full.loc[1, \"country\"]"
   ]
  },
  {
   "cell_type": "markdown",
   "id": "b541dea8",
   "metadata": {},
   "source": [
    "### Q5: how to select the first 4 rows of ['city', 'date'] columns?\n"
   ]
  },
  {
   "cell_type": "code",
   "execution_count": 29,
   "id": "ed331e47",
   "metadata": {},
   "outputs": [
    {
     "data": {
      "text/html": [
       "<div>\n",
       "<style scoped>\n",
       "    .dataframe tbody tr th:only-of-type {\n",
       "        vertical-align: middle;\n",
       "    }\n",
       "\n",
       "    .dataframe tbody tr th {\n",
       "        vertical-align: top;\n",
       "    }\n",
       "\n",
       "    .dataframe thead th {\n",
       "        text-align: right;\n",
       "    }\n",
       "</style>\n",
       "<table border=\"1\" class=\"dataframe\">\n",
       "  <thead>\n",
       "    <tr style=\"text-align: right;\">\n",
       "      <th></th>\n",
       "      <th>lat</th>\n",
       "      <th>lon</th>\n",
       "      <th>date</th>\n",
       "      <th>city</th>\n",
       "      <th>country</th>\n",
       "    </tr>\n",
       "  </thead>\n",
       "  <tbody>\n",
       "    <tr>\n",
       "      <th>0</th>\n",
       "      <td>51.481292</td>\n",
       "      <td>-0.451011</td>\n",
       "      <td>05/14/2014 09:07</td>\n",
       "      <td>West Drayton</td>\n",
       "      <td>United Kingdom</td>\n",
       "    </tr>\n",
       "    <tr>\n",
       "      <th>1</th>\n",
       "      <td>51.474005</td>\n",
       "      <td>-0.450999</td>\n",
       "      <td>05/14/2014 09:22</td>\n",
       "      <td>Hounslow</td>\n",
       "      <td>United Kingdom</td>\n",
       "    </tr>\n",
       "    <tr>\n",
       "      <th>2</th>\n",
       "      <td>51.478199</td>\n",
       "      <td>-0.446081</td>\n",
       "      <td>05/14/2014 10:51</td>\n",
       "      <td>Hounslow</td>\n",
       "      <td>United Kingdom</td>\n",
       "    </tr>\n",
       "    <tr>\n",
       "      <th>3</th>\n",
       "      <td>51.478199</td>\n",
       "      <td>-0.446081</td>\n",
       "      <td>05/14/2014 11:24</td>\n",
       "      <td>Hounslow</td>\n",
       "      <td>United Kingdom</td>\n",
       "    </tr>\n",
       "    <tr>\n",
       "      <th>4</th>\n",
       "      <td>51.474146</td>\n",
       "      <td>-0.451562</td>\n",
       "      <td>05/14/2014 11:38</td>\n",
       "      <td>Hounslow</td>\n",
       "      <td>United Kingdom</td>\n",
       "    </tr>\n",
       "  </tbody>\n",
       "</table>\n",
       "</div>"
      ],
      "text/plain": [
       "         lat       lon              date          city         country\n",
       "0  51.481292 -0.451011  05/14/2014 09:07  West Drayton  United Kingdom\n",
       "1  51.474005 -0.450999  05/14/2014 09:22      Hounslow  United Kingdom\n",
       "2  51.478199 -0.446081  05/14/2014 10:51      Hounslow  United Kingdom\n",
       "3  51.478199 -0.446081  05/14/2014 11:24      Hounslow  United Kingdom\n",
       "4  51.474146 -0.451562  05/14/2014 11:38      Hounslow  United Kingdom"
      ]
     },
     "execution_count": 29,
     "metadata": {},
     "output_type": "execute_result"
    }
   ],
   "source": [
    "summer_travel_gps_full.head()"
   ]
  },
  {
   "cell_type": "code",
   "execution_count": 33,
   "id": "9a624007",
   "metadata": {},
   "outputs": [
    {
     "data": {
      "text/plain": [
       "pandas.core.frame.DataFrame"
      ]
     },
     "execution_count": 33,
     "metadata": {},
     "output_type": "execute_result"
    }
   ],
   "source": [
    "summer_travel_gps_full.loc[0:4, [\"city\",\"date\"]]"
   ]
  },
  {
   "cell_type": "code",
   "execution_count": 34,
   "id": "59fb1905",
   "metadata": {},
   "outputs": [
    {
     "data": {
      "text/html": [
       "<div>\n",
       "<style scoped>\n",
       "    .dataframe tbody tr th:only-of-type {\n",
       "        vertical-align: middle;\n",
       "    }\n",
       "\n",
       "    .dataframe tbody tr th {\n",
       "        vertical-align: top;\n",
       "    }\n",
       "\n",
       "    .dataframe thead th {\n",
       "        text-align: right;\n",
       "    }\n",
       "</style>\n",
       "<table border=\"1\" class=\"dataframe\">\n",
       "  <thead>\n",
       "    <tr style=\"text-align: right;\">\n",
       "      <th></th>\n",
       "      <th>city</th>\n",
       "      <th>date</th>\n",
       "    </tr>\n",
       "  </thead>\n",
       "  <tbody>\n",
       "    <tr>\n",
       "      <th>0</th>\n",
       "      <td>West Drayton</td>\n",
       "      <td>05/14/2014 09:07</td>\n",
       "    </tr>\n",
       "    <tr>\n",
       "      <th>1</th>\n",
       "      <td>Hounslow</td>\n",
       "      <td>05/14/2014 09:22</td>\n",
       "    </tr>\n",
       "    <tr>\n",
       "      <th>2</th>\n",
       "      <td>Hounslow</td>\n",
       "      <td>05/14/2014 10:51</td>\n",
       "    </tr>\n",
       "    <tr>\n",
       "      <th>3</th>\n",
       "      <td>Hounslow</td>\n",
       "      <td>05/14/2014 11:24</td>\n",
       "    </tr>\n",
       "    <tr>\n",
       "      <th>4</th>\n",
       "      <td>Hounslow</td>\n",
       "      <td>05/14/2014 11:38</td>\n",
       "    </tr>\n",
       "  </tbody>\n",
       "</table>\n",
       "</div>"
      ],
      "text/plain": [
       "           city              date\n",
       "0  West Drayton  05/14/2014 09:07\n",
       "1      Hounslow  05/14/2014 09:22\n",
       "2      Hounslow  05/14/2014 10:51\n",
       "3      Hounslow  05/14/2014 11:24\n",
       "4      Hounslow  05/14/2014 11:38"
      ]
     },
     "execution_count": 34,
     "metadata": {},
     "output_type": "execute_result"
    }
   ],
   "source": [
    "summer_travel_gps_full.loc[0:4, [\"city\",\"date\"]]"
   ]
  },
  {
   "cell_type": "code",
   "execution_count": null,
   "id": "b8b9cd30",
   "metadata": {},
   "outputs": [],
   "source": [
    "city = pd.DataFrame({'city_stats' : [632, 1638, 569, 115],\n",
    "                         'other_feature' : [438, 833, 234, 298]},\n",
    "                         index=['Glasgow', 'Edinburgh', 'London', 'Bristol'])\n",
    "\n",
    "\n",
    "#key is city_stats and other_feature ; 1 dictionary {}, column name is index which is 0,1,2,3 if it is not there"
   ]
  },
  {
   "cell_type": "markdown",
   "id": "4f0670d7",
   "metadata": {},
   "source": [
    "\n",
    "### use .iloc for integer position based indexing\n",
    "### Q6: how to get the value from the row in position 3 and the column in position 2"
   ]
  },
  {
   "cell_type": "code",
   "execution_count": 35,
   "id": "d2e041a8",
   "metadata": {},
   "outputs": [
    {
     "data": {
      "text/plain": [
       "'05/14/2014 11:24'"
      ]
     },
     "execution_count": 35,
     "metadata": {},
     "output_type": "execute_result"
    }
   ],
   "source": [
    "summer_travel_gps_full.iloc[3,2]"
   ]
  },
  {
   "cell_type": "markdown",
   "id": "2e1be02c",
   "metadata": {},
   "source": [
    "### Q7: how to use iloc to select every 300th row from a data set\n"
   ]
  },
  {
   "cell_type": "code",
   "execution_count": 44,
   "id": "e0f0e5b3",
   "metadata": {},
   "outputs": [
    {
     "name": "stdout",
     "output_type": "stream",
     "text": [
      "city        West Drayton\n",
      "date    05/14/2014 09:07\n",
      "Name: 0, dtype: object\n",
      "city           Barcelona\n",
      "date    05/20/2014 03:18\n",
      "Name: 300, dtype: object\n",
      "city              Krakow\n",
      "date    05/31/2014 21:10\n",
      "Name: 600, dtype: object\n",
      "city            Tübingen\n",
      "date    06/09/2014 15:12\n",
      "Name: 900, dtype: object\n",
      "city           Barcelona\n",
      "date    06/17/2014 16:37\n",
      "Name: 1200, dtype: object\n",
      "city             Prizren\n",
      "date    06/30/2014 08:27\n",
      "Name: 1500, dtype: object\n"
     ]
    }
   ],
   "source": [
    "every_300th_panda = pd.DataFrame()\n",
    "\n",
    "every_300th_list = []\n",
    "for i in range(0,len(summer_travel_gps_full), 300):\n",
    "    every_300th_list.append(summer_travel_gps_full.loc[i, [\"city\",\"date\"]])\n",
    "    print(summer_travel_gps_full.loc[i, [\"city\",\"date\"]])"
   ]
  },
  {
   "cell_type": "code",
   "execution_count": 45,
   "id": "66e4a8b4",
   "metadata": {},
   "outputs": [
    {
     "data": {
      "text/plain": [
       "[city        West Drayton\n",
       " date    05/14/2014 09:07\n",
       " Name: 0, dtype: object,\n",
       " city           Barcelona\n",
       " date    05/20/2014 03:18\n",
       " Name: 300, dtype: object,\n",
       " city              Krakow\n",
       " date    05/31/2014 21:10\n",
       " Name: 600, dtype: object,\n",
       " city            Tübingen\n",
       " date    06/09/2014 15:12\n",
       " Name: 900, dtype: object,\n",
       " city           Barcelona\n",
       " date    06/17/2014 16:37\n",
       " Name: 1200, dtype: object,\n",
       " city             Prizren\n",
       " date    06/30/2014 08:27\n",
       " Name: 1500, dtype: object]"
      ]
     },
     "execution_count": 45,
     "metadata": {},
     "output_type": "execute_result"
    }
   ],
   "source": [
    "every_300th_list"
   ]
  },
  {
   "cell_type": "code",
   "execution_count": 46,
   "id": "407aa513",
   "metadata": {},
   "outputs": [
    {
     "data": {
      "text/html": [
       "<div>\n",
       "<style scoped>\n",
       "    .dataframe tbody tr th:only-of-type {\n",
       "        vertical-align: middle;\n",
       "    }\n",
       "\n",
       "    .dataframe tbody tr th {\n",
       "        vertical-align: top;\n",
       "    }\n",
       "\n",
       "    .dataframe thead th {\n",
       "        text-align: right;\n",
       "    }\n",
       "</style>\n",
       "<table border=\"1\" class=\"dataframe\">\n",
       "  <thead>\n",
       "    <tr style=\"text-align: right;\">\n",
       "      <th></th>\n",
       "      <th>lat</th>\n",
       "      <th>lon</th>\n",
       "      <th>date</th>\n",
       "      <th>city</th>\n",
       "      <th>country</th>\n",
       "    </tr>\n",
       "  </thead>\n",
       "  <tbody>\n",
       "    <tr>\n",
       "      <th>173</th>\n",
       "      <td>41.044556</td>\n",
       "      <td>28.983286</td>\n",
       "      <td>07/08/2014 16:44</td>\n",
       "      <td>Istanbul</td>\n",
       "      <td>Turkey</td>\n",
       "    </tr>\n",
       "    <tr>\n",
       "      <th>174</th>\n",
       "      <td>41.008992</td>\n",
       "      <td>28.968268</td>\n",
       "      <td>07/08/2014 20:03</td>\n",
       "      <td>Istanbul</td>\n",
       "      <td>Turkey</td>\n",
       "    </tr>\n",
       "    <tr>\n",
       "      <th>175</th>\n",
       "      <td>41.043487</td>\n",
       "      <td>28.985488</td>\n",
       "      <td>07/08/2014 22:18</td>\n",
       "      <td>Istanbul</td>\n",
       "      <td>Turkey</td>\n",
       "    </tr>\n",
       "    <tr>\n",
       "      <th>176</th>\n",
       "      <td>40.977637</td>\n",
       "      <td>28.823879</td>\n",
       "      <td>07/09/2014 09:03</td>\n",
       "      <td>Istanbul</td>\n",
       "      <td>Turkey</td>\n",
       "    </tr>\n",
       "    <tr>\n",
       "      <th>177</th>\n",
       "      <td>48.357110</td>\n",
       "      <td>11.791346</td>\n",
       "      <td>07/09/2014 13:20</td>\n",
       "      <td>Munich</td>\n",
       "      <td>Germany</td>\n",
       "    </tr>\n",
       "  </tbody>\n",
       "</table>\n",
       "</div>"
      ],
      "text/plain": [
       "           lat        lon              date      city  country\n",
       "173  41.044556  28.983286  07/08/2014 16:44  Istanbul   Turkey\n",
       "174  41.008992  28.968268  07/08/2014 20:03  Istanbul   Turkey\n",
       "175  41.043487  28.985488  07/08/2014 22:18  Istanbul   Turkey\n",
       "176  40.977637  28.823879  07/09/2014 09:03  Istanbul   Turkey\n",
       "177  48.357110  11.791346  07/09/2014 13:20    Munich  Germany"
      ]
     },
     "execution_count": 46,
     "metadata": {},
     "output_type": "execute_result"
    }
   ],
   "source": [
    "# load a reduced set of gps data\n",
    "simplified = pd.read_csv('data/summer-travel-gps-simplified.csv')\n",
    "simplified.tail()"
   ]
  },
  {
   "cell_type": "markdown",
   "id": "f61cabe1",
   "metadata": {},
   "source": [
    "### Q9: create a Series of true/false, indicating if each \"city\" row in the column is equal to \"Munich\"\n"
   ]
  },
  {
   "cell_type": "code",
   "execution_count": 48,
   "id": "942b4795",
   "metadata": {},
   "outputs": [
    {
     "data": {
      "text/plain": [
       "Barcelona                 28\n",
       "Istanbul                  12\n",
       "Prague                    10\n",
       "Lisbon                     9\n",
       "Dytiki Ellada              6\n",
       "                          ..\n",
       "Tarnowskie Góry County     1\n",
       "Gliwice                    1\n",
       "Ruda Slaska                1\n",
       "Imielin                    1\n",
       "Munich                     1\n",
       "Name: city, Length: 91, dtype: int64"
      ]
     },
     "execution_count": 48,
     "metadata": {},
     "output_type": "execute_result"
    }
   ],
   "source": [
    "simplified['city'].value_counts()\n"
   ]
  },
  {
   "cell_type": "code",
   "execution_count": 50,
   "id": "bb89cea4",
   "metadata": {},
   "outputs": [
    {
     "data": {
      "text/plain": [
       "0      False\n",
       "1      False\n",
       "2      False\n",
       "3      False\n",
       "4      False\n",
       "       ...  \n",
       "173    False\n",
       "174    False\n",
       "175    False\n",
       "176    False\n",
       "177     True\n",
       "Name: city, Length: 178, dtype: bool"
      ]
     },
     "execution_count": 50,
     "metadata": {},
     "output_type": "execute_result"
    }
   ],
   "source": [
    "simplified['city'].isin(['Munich'])"
   ]
  },
  {
   "cell_type": "markdown",
   "id": "16dc3e4d",
   "metadata": {},
   "source": [
    "#### pandas logical operators are: | for or, & for and, ~ for not\n",
    "#### these must be grouped by using parentheses\n",
    "#### Q10: what cities were visited in spain that were not barcelona? Create a dataframe for it. "
   ]
  },
  {
   "cell_type": "code",
   "execution_count": 57,
   "id": "eeba6648",
   "metadata": {},
   "outputs": [
    {
     "data": {
      "text/html": [
       "<div>\n",
       "<style scoped>\n",
       "    .dataframe tbody tr th:only-of-type {\n",
       "        vertical-align: middle;\n",
       "    }\n",
       "\n",
       "    .dataframe tbody tr th {\n",
       "        vertical-align: top;\n",
       "    }\n",
       "\n",
       "    .dataframe thead th {\n",
       "        text-align: right;\n",
       "    }\n",
       "</style>\n",
       "<table border=\"1\" class=\"dataframe\">\n",
       "  <thead>\n",
       "    <tr style=\"text-align: right;\">\n",
       "      <th></th>\n",
       "      <th>lat</th>\n",
       "      <th>lon</th>\n",
       "      <th>date</th>\n",
       "      <th>city</th>\n",
       "      <th>country</th>\n",
       "    </tr>\n",
       "  </thead>\n",
       "  <tbody>\n",
       "    <tr>\n",
       "      <th>0</th>\n",
       "      <td>51.481292</td>\n",
       "      <td>-0.451011</td>\n",
       "      <td>05/14/2014 09:07</td>\n",
       "      <td>West Drayton</td>\n",
       "      <td>United Kingdom</td>\n",
       "    </tr>\n",
       "    <tr>\n",
       "      <th>1</th>\n",
       "      <td>38.781775</td>\n",
       "      <td>-9.137544</td>\n",
       "      <td>05/14/2014 15:11</td>\n",
       "      <td>Lisbon</td>\n",
       "      <td>Portugal</td>\n",
       "    </tr>\n",
       "    <tr>\n",
       "      <th>2</th>\n",
       "      <td>38.711050</td>\n",
       "      <td>-9.139739</td>\n",
       "      <td>05/14/2014 16:40</td>\n",
       "      <td>Lisbon</td>\n",
       "      <td>Portugal</td>\n",
       "    </tr>\n",
       "    <tr>\n",
       "      <th>3</th>\n",
       "      <td>38.715637</td>\n",
       "      <td>-9.120558</td>\n",
       "      <td>05/14/2014 18:25</td>\n",
       "      <td>Lisbon</td>\n",
       "      <td>Portugal</td>\n",
       "    </tr>\n",
       "    <tr>\n",
       "      <th>4</th>\n",
       "      <td>38.711977</td>\n",
       "      <td>-9.141788</td>\n",
       "      <td>05/14/2014 19:26</td>\n",
       "      <td>Lisbon</td>\n",
       "      <td>Portugal</td>\n",
       "    </tr>\n",
       "  </tbody>\n",
       "</table>\n",
       "</div>"
      ],
      "text/plain": [
       "         lat       lon              date          city         country\n",
       "0  51.481292 -0.451011  05/14/2014 09:07  West Drayton  United Kingdom\n",
       "1  38.781775 -9.137544  05/14/2014 15:11        Lisbon        Portugal\n",
       "2  38.711050 -9.139739  05/14/2014 16:40        Lisbon        Portugal\n",
       "3  38.715637 -9.120558  05/14/2014 18:25        Lisbon        Portugal\n",
       "4  38.711977 -9.141788  05/14/2014 19:26        Lisbon        Portugal"
      ]
     },
     "execution_count": 57,
     "metadata": {},
     "output_type": "execute_result"
    }
   ],
   "source": [
    "simplified.head()"
   ]
  },
  {
   "cell_type": "code",
   "execution_count": 58,
   "id": "3d9c9d3b",
   "metadata": {},
   "outputs": [],
   "source": [
    "spain_not_barcelona = simplified[(simplified['country'] == 'Spain') &\n",
    "                     (simplified['city'] != 'Barcelona')]"
   ]
  },
  {
   "cell_type": "code",
   "execution_count": 60,
   "id": "8c81854e",
   "metadata": {},
   "outputs": [
    {
     "data": {
      "text/plain": [
       "6"
      ]
     },
     "execution_count": 60,
     "metadata": {},
     "output_type": "execute_result"
    }
   ],
   "source": [
    "len(spain_not_barcelona)"
   ]
  },
  {
   "cell_type": "code",
   "execution_count": 61,
   "id": "71dd7983",
   "metadata": {},
   "outputs": [
    {
     "data": {
      "text/html": [
       "<div>\n",
       "<style scoped>\n",
       "    .dataframe tbody tr th:only-of-type {\n",
       "        vertical-align: middle;\n",
       "    }\n",
       "\n",
       "    .dataframe tbody tr th {\n",
       "        vertical-align: top;\n",
       "    }\n",
       "\n",
       "    .dataframe thead th {\n",
       "        text-align: right;\n",
       "    }\n",
       "</style>\n",
       "<table border=\"1\" class=\"dataframe\">\n",
       "  <thead>\n",
       "    <tr style=\"text-align: right;\">\n",
       "      <th></th>\n",
       "      <th>lat</th>\n",
       "      <th>lon</th>\n",
       "      <th>date</th>\n",
       "      <th>city</th>\n",
       "      <th>country</th>\n",
       "    </tr>\n",
       "  </thead>\n",
       "  <tbody>\n",
       "    <tr>\n",
       "      <th>24</th>\n",
       "      <td>41.303911</td>\n",
       "      <td>2.105931</td>\n",
       "      <td>05/18/2014 22:35</td>\n",
       "      <td>El Prat de Llobregat</td>\n",
       "      <td>Spain</td>\n",
       "    </tr>\n",
       "    <tr>\n",
       "      <th>25</th>\n",
       "      <td>41.289946</td>\n",
       "      <td>2.064590</td>\n",
       "      <td>05/18/2014 23:04</td>\n",
       "      <td>Viladecans</td>\n",
       "      <td>Spain</td>\n",
       "    </tr>\n",
       "    <tr>\n",
       "      <th>126</th>\n",
       "      <td>41.306752</td>\n",
       "      <td>2.097624</td>\n",
       "      <td>06/12/2014 17:19</td>\n",
       "      <td>El Prat de Llobregat</td>\n",
       "      <td>Spain</td>\n",
       "    </tr>\n",
       "    <tr>\n",
       "      <th>127</th>\n",
       "      <td>41.304333</td>\n",
       "      <td>2.072728</td>\n",
       "      <td>06/12/2014 17:49</td>\n",
       "      <td>El Prat de Llobregat</td>\n",
       "      <td>Spain</td>\n",
       "    </tr>\n",
       "    <tr>\n",
       "      <th>131</th>\n",
       "      <td>41.358460</td>\n",
       "      <td>2.128701</td>\n",
       "      <td>06/13/2014 11:35</td>\n",
       "      <td>Hospitalet de Llobregat</td>\n",
       "      <td>Spain</td>\n",
       "    </tr>\n",
       "    <tr>\n",
       "      <th>138</th>\n",
       "      <td>41.294761</td>\n",
       "      <td>2.059722</td>\n",
       "      <td>06/20/2014 22:15</td>\n",
       "      <td>Viladecans</td>\n",
       "      <td>Spain</td>\n",
       "    </tr>\n",
       "  </tbody>\n",
       "</table>\n",
       "</div>"
      ],
      "text/plain": [
       "           lat       lon              date                     city country\n",
       "24   41.303911  2.105931  05/18/2014 22:35     El Prat de Llobregat   Spain\n",
       "25   41.289946  2.064590  05/18/2014 23:04               Viladecans   Spain\n",
       "126  41.306752  2.097624  06/12/2014 17:19     El Prat de Llobregat   Spain\n",
       "127  41.304333  2.072728  06/12/2014 17:49     El Prat de Llobregat   Spain\n",
       "131  41.358460  2.128701  06/13/2014 11:35  Hospitalet de Llobregat   Spain\n",
       "138  41.294761  2.059722  06/20/2014 22:15               Viladecans   Spain"
      ]
     },
     "execution_count": 61,
     "metadata": {},
     "output_type": "execute_result"
    }
   ],
   "source": [
    "spain_not_barcelona"
   ]
  },
  {
   "cell_type": "code",
   "execution_count": 62,
   "id": "697234cb",
   "metadata": {},
   "outputs": [
    {
     "data": {
      "text/html": [
       "<div>\n",
       "<style scoped>\n",
       "    .dataframe tbody tr th:only-of-type {\n",
       "        vertical-align: middle;\n",
       "    }\n",
       "\n",
       "    .dataframe tbody tr th {\n",
       "        vertical-align: top;\n",
       "    }\n",
       "\n",
       "    .dataframe thead th {\n",
       "        text-align: right;\n",
       "    }\n",
       "</style>\n",
       "<table border=\"1\" class=\"dataframe\">\n",
       "  <thead>\n",
       "    <tr style=\"text-align: right;\">\n",
       "      <th></th>\n",
       "      <th>lat</th>\n",
       "      <th>lon</th>\n",
       "      <th>date</th>\n",
       "      <th>city</th>\n",
       "      <th>country</th>\n",
       "    </tr>\n",
       "  </thead>\n",
       "  <tbody>\n",
       "    <tr>\n",
       "      <th>0</th>\n",
       "      <td>51.481292</td>\n",
       "      <td>-0.451011</td>\n",
       "      <td>05/14/2014 09:07</td>\n",
       "      <td>West Drayton</td>\n",
       "      <td>United Kingdom</td>\n",
       "    </tr>\n",
       "    <tr>\n",
       "      <th>1</th>\n",
       "      <td>51.474005</td>\n",
       "      <td>-0.450999</td>\n",
       "      <td>05/14/2014 09:22</td>\n",
       "      <td>Hounslow</td>\n",
       "      <td>United Kingdom</td>\n",
       "    </tr>\n",
       "    <tr>\n",
       "      <th>2</th>\n",
       "      <td>51.478199</td>\n",
       "      <td>-0.446081</td>\n",
       "      <td>05/14/2014 10:51</td>\n",
       "      <td>Hounslow</td>\n",
       "      <td>United Kingdom</td>\n",
       "    </tr>\n",
       "    <tr>\n",
       "      <th>3</th>\n",
       "      <td>51.478199</td>\n",
       "      <td>-0.446081</td>\n",
       "      <td>05/14/2014 11:24</td>\n",
       "      <td>Hounslow</td>\n",
       "      <td>United Kingdom</td>\n",
       "    </tr>\n",
       "    <tr>\n",
       "      <th>4</th>\n",
       "      <td>51.474146</td>\n",
       "      <td>-0.451562</td>\n",
       "      <td>05/14/2014 11:38</td>\n",
       "      <td>Hounslow</td>\n",
       "      <td>United Kingdom</td>\n",
       "    </tr>\n",
       "  </tbody>\n",
       "</table>\n",
       "</div>"
      ],
      "text/plain": [
       "         lat       lon              date          city         country\n",
       "0  51.481292 -0.451011  05/14/2014 09:07  West Drayton  United Kingdom\n",
       "1  51.474005 -0.450999  05/14/2014 09:22      Hounslow  United Kingdom\n",
       "2  51.478199 -0.446081  05/14/2014 10:51      Hounslow  United Kingdom\n",
       "3  51.478199 -0.446081  05/14/2014 11:24      Hounslow  United Kingdom\n",
       "4  51.474146 -0.451562  05/14/2014 11:38      Hounslow  United Kingdom"
      ]
     },
     "execution_count": 62,
     "metadata": {},
     "output_type": "execute_result"
    }
   ],
   "source": [
    "summer_travel_gps_full.head()"
   ]
  },
  {
   "cell_type": "code",
   "execution_count": 64,
   "id": "375f789b",
   "metadata": {},
   "outputs": [],
   "source": [
    "spain_full = pd.DataFrame"
   ]
  },
  {
   "cell_type": "code",
   "execution_count": 65,
   "id": "ab073a39",
   "metadata": {},
   "outputs": [
    {
     "data": {
      "text/html": [
       "<div>\n",
       "<style scoped>\n",
       "    .dataframe tbody tr th:only-of-type {\n",
       "        vertical-align: middle;\n",
       "    }\n",
       "\n",
       "    .dataframe tbody tr th {\n",
       "        vertical-align: top;\n",
       "    }\n",
       "\n",
       "    .dataframe thead th {\n",
       "        text-align: right;\n",
       "    }\n",
       "</style>\n",
       "<table border=\"1\" class=\"dataframe\">\n",
       "  <thead>\n",
       "    <tr style=\"text-align: right;\">\n",
       "      <th></th>\n",
       "      <th>lat_x</th>\n",
       "      <th>lon_x</th>\n",
       "      <th>date_x</th>\n",
       "      <th>city_x</th>\n",
       "      <th>country</th>\n",
       "      <th>lat_y</th>\n",
       "      <th>lon_y</th>\n",
       "      <th>date_y</th>\n",
       "      <th>city_y</th>\n",
       "    </tr>\n",
       "  </thead>\n",
       "  <tbody>\n",
       "    <tr>\n",
       "      <th>0</th>\n",
       "      <td>51.481292</td>\n",
       "      <td>-0.451011</td>\n",
       "      <td>05/14/2014 09:07</td>\n",
       "      <td>West Drayton</td>\n",
       "      <td>United Kingdom</td>\n",
       "      <td>51.481292</td>\n",
       "      <td>-0.451011</td>\n",
       "      <td>05/14/2014 09:07</td>\n",
       "      <td>West Drayton</td>\n",
       "    </tr>\n",
       "    <tr>\n",
       "      <th>1</th>\n",
       "      <td>51.474005</td>\n",
       "      <td>-0.450999</td>\n",
       "      <td>05/14/2014 09:22</td>\n",
       "      <td>Hounslow</td>\n",
       "      <td>United Kingdom</td>\n",
       "      <td>51.481292</td>\n",
       "      <td>-0.451011</td>\n",
       "      <td>05/14/2014 09:07</td>\n",
       "      <td>West Drayton</td>\n",
       "    </tr>\n",
       "    <tr>\n",
       "      <th>2</th>\n",
       "      <td>51.478199</td>\n",
       "      <td>-0.446081</td>\n",
       "      <td>05/14/2014 10:51</td>\n",
       "      <td>Hounslow</td>\n",
       "      <td>United Kingdom</td>\n",
       "      <td>51.481292</td>\n",
       "      <td>-0.451011</td>\n",
       "      <td>05/14/2014 09:07</td>\n",
       "      <td>West Drayton</td>\n",
       "    </tr>\n",
       "    <tr>\n",
       "      <th>3</th>\n",
       "      <td>51.478199</td>\n",
       "      <td>-0.446081</td>\n",
       "      <td>05/14/2014 11:24</td>\n",
       "      <td>Hounslow</td>\n",
       "      <td>United Kingdom</td>\n",
       "      <td>51.481292</td>\n",
       "      <td>-0.451011</td>\n",
       "      <td>05/14/2014 09:07</td>\n",
       "      <td>West Drayton</td>\n",
       "    </tr>\n",
       "    <tr>\n",
       "      <th>4</th>\n",
       "      <td>51.474146</td>\n",
       "      <td>-0.451562</td>\n",
       "      <td>05/14/2014 11:38</td>\n",
       "      <td>Hounslow</td>\n",
       "      <td>United Kingdom</td>\n",
       "      <td>51.481292</td>\n",
       "      <td>-0.451011</td>\n",
       "      <td>05/14/2014 09:07</td>\n",
       "      <td>West Drayton</td>\n",
       "    </tr>\n",
       "    <tr>\n",
       "      <th>...</th>\n",
       "      <td>...</td>\n",
       "      <td>...</td>\n",
       "      <td>...</td>\n",
       "      <td>...</td>\n",
       "      <td>...</td>\n",
       "      <td>...</td>\n",
       "      <td>...</td>\n",
       "      <td>...</td>\n",
       "      <td>...</td>\n",
       "    </tr>\n",
       "    <tr>\n",
       "      <th>43532</th>\n",
       "      <td>40.977637</td>\n",
       "      <td>28.823926</td>\n",
       "      <td>07/09/2014 09:18</td>\n",
       "      <td>Istanbul</td>\n",
       "      <td>Turkey</td>\n",
       "      <td>41.015594</td>\n",
       "      <td>28.962900</td>\n",
       "      <td>07/08/2014 11:45</td>\n",
       "      <td>Istanbul</td>\n",
       "    </tr>\n",
       "    <tr>\n",
       "      <th>43533</th>\n",
       "      <td>40.977637</td>\n",
       "      <td>28.823926</td>\n",
       "      <td>07/09/2014 09:18</td>\n",
       "      <td>Istanbul</td>\n",
       "      <td>Turkey</td>\n",
       "      <td>41.044556</td>\n",
       "      <td>28.983286</td>\n",
       "      <td>07/08/2014 16:44</td>\n",
       "      <td>Istanbul</td>\n",
       "    </tr>\n",
       "    <tr>\n",
       "      <th>43534</th>\n",
       "      <td>40.977637</td>\n",
       "      <td>28.823926</td>\n",
       "      <td>07/09/2014 09:18</td>\n",
       "      <td>Istanbul</td>\n",
       "      <td>Turkey</td>\n",
       "      <td>41.008992</td>\n",
       "      <td>28.968268</td>\n",
       "      <td>07/08/2014 20:03</td>\n",
       "      <td>Istanbul</td>\n",
       "    </tr>\n",
       "    <tr>\n",
       "      <th>43535</th>\n",
       "      <td>40.977637</td>\n",
       "      <td>28.823926</td>\n",
       "      <td>07/09/2014 09:18</td>\n",
       "      <td>Istanbul</td>\n",
       "      <td>Turkey</td>\n",
       "      <td>41.043487</td>\n",
       "      <td>28.985488</td>\n",
       "      <td>07/08/2014 22:18</td>\n",
       "      <td>Istanbul</td>\n",
       "    </tr>\n",
       "    <tr>\n",
       "      <th>43536</th>\n",
       "      <td>40.977637</td>\n",
       "      <td>28.823926</td>\n",
       "      <td>07/09/2014 09:18</td>\n",
       "      <td>Istanbul</td>\n",
       "      <td>Turkey</td>\n",
       "      <td>40.977637</td>\n",
       "      <td>28.823879</td>\n",
       "      <td>07/09/2014 09:03</td>\n",
       "      <td>Istanbul</td>\n",
       "    </tr>\n",
       "  </tbody>\n",
       "</table>\n",
       "<p>43537 rows × 9 columns</p>\n",
       "</div>"
      ],
      "text/plain": [
       "           lat_x      lon_x            date_x        city_x         country  \\\n",
       "0      51.481292  -0.451011  05/14/2014 09:07  West Drayton  United Kingdom   \n",
       "1      51.474005  -0.450999  05/14/2014 09:22      Hounslow  United Kingdom   \n",
       "2      51.478199  -0.446081  05/14/2014 10:51      Hounslow  United Kingdom   \n",
       "3      51.478199  -0.446081  05/14/2014 11:24      Hounslow  United Kingdom   \n",
       "4      51.474146  -0.451562  05/14/2014 11:38      Hounslow  United Kingdom   \n",
       "...          ...        ...               ...           ...             ...   \n",
       "43532  40.977637  28.823926  07/09/2014 09:18      Istanbul          Turkey   \n",
       "43533  40.977637  28.823926  07/09/2014 09:18      Istanbul          Turkey   \n",
       "43534  40.977637  28.823926  07/09/2014 09:18      Istanbul          Turkey   \n",
       "43535  40.977637  28.823926  07/09/2014 09:18      Istanbul          Turkey   \n",
       "43536  40.977637  28.823926  07/09/2014 09:18      Istanbul          Turkey   \n",
       "\n",
       "           lat_y      lon_y            date_y        city_y  \n",
       "0      51.481292  -0.451011  05/14/2014 09:07  West Drayton  \n",
       "1      51.481292  -0.451011  05/14/2014 09:07  West Drayton  \n",
       "2      51.481292  -0.451011  05/14/2014 09:07  West Drayton  \n",
       "3      51.481292  -0.451011  05/14/2014 09:07  West Drayton  \n",
       "4      51.481292  -0.451011  05/14/2014 09:07  West Drayton  \n",
       "...          ...        ...               ...           ...  \n",
       "43532  41.015594  28.962900  07/08/2014 11:45      Istanbul  \n",
       "43533  41.044556  28.983286  07/08/2014 16:44      Istanbul  \n",
       "43534  41.008992  28.968268  07/08/2014 20:03      Istanbul  \n",
       "43535  41.043487  28.985488  07/08/2014 22:18      Istanbul  \n",
       "43536  40.977637  28.823879  07/09/2014 09:03      Istanbul  \n",
       "\n",
       "[43537 rows x 9 columns]"
      ]
     },
     "execution_count": 65,
     "metadata": {},
     "output_type": "execute_result"
    }
   ],
   "source": [
    "spain_full.merge(summer_travel_gps_full, simplified, left_on='country', right_on='country')\n"
   ]
  },
  {
   "cell_type": "markdown",
   "id": "edfec8be",
   "metadata": {},
   "source": [
    "### Q11: select rows where either the city is munich, or the country is serbia\n"
   ]
  },
  {
   "cell_type": "code",
   "execution_count": 69,
   "id": "290012ba",
   "metadata": {},
   "outputs": [
    {
     "data": {
      "text/html": [
       "<div>\n",
       "<style scoped>\n",
       "    .dataframe tbody tr th:only-of-type {\n",
       "        vertical-align: middle;\n",
       "    }\n",
       "\n",
       "    .dataframe tbody tr th {\n",
       "        vertical-align: top;\n",
       "    }\n",
       "\n",
       "    .dataframe thead th {\n",
       "        text-align: right;\n",
       "    }\n",
       "</style>\n",
       "<table border=\"1\" class=\"dataframe\">\n",
       "  <thead>\n",
       "    <tr style=\"text-align: right;\">\n",
       "      <th></th>\n",
       "      <th>lat</th>\n",
       "      <th>lon</th>\n",
       "      <th>date</th>\n",
       "      <th>city</th>\n",
       "      <th>country</th>\n",
       "    </tr>\n",
       "  </thead>\n",
       "  <tbody>\n",
       "    <tr>\n",
       "      <th>0</th>\n",
       "      <td>51.481292</td>\n",
       "      <td>-0.451011</td>\n",
       "      <td>05/14/2014 09:07</td>\n",
       "      <td>West Drayton</td>\n",
       "      <td>United Kingdom</td>\n",
       "    </tr>\n",
       "    <tr>\n",
       "      <th>1</th>\n",
       "      <td>38.781775</td>\n",
       "      <td>-9.137544</td>\n",
       "      <td>05/14/2014 15:11</td>\n",
       "      <td>Lisbon</td>\n",
       "      <td>Portugal</td>\n",
       "    </tr>\n",
       "    <tr>\n",
       "      <th>2</th>\n",
       "      <td>38.711050</td>\n",
       "      <td>-9.139739</td>\n",
       "      <td>05/14/2014 16:40</td>\n",
       "      <td>Lisbon</td>\n",
       "      <td>Portugal</td>\n",
       "    </tr>\n",
       "    <tr>\n",
       "      <th>3</th>\n",
       "      <td>38.715637</td>\n",
       "      <td>-9.120558</td>\n",
       "      <td>05/14/2014 18:25</td>\n",
       "      <td>Lisbon</td>\n",
       "      <td>Portugal</td>\n",
       "    </tr>\n",
       "    <tr>\n",
       "      <th>4</th>\n",
       "      <td>38.711977</td>\n",
       "      <td>-9.141788</td>\n",
       "      <td>05/14/2014 19:26</td>\n",
       "      <td>Lisbon</td>\n",
       "      <td>Portugal</td>\n",
       "    </tr>\n",
       "  </tbody>\n",
       "</table>\n",
       "</div>"
      ],
      "text/plain": [
       "         lat       lon              date          city         country\n",
       "0  51.481292 -0.451011  05/14/2014 09:07  West Drayton  United Kingdom\n",
       "1  38.781775 -9.137544  05/14/2014 15:11        Lisbon        Portugal\n",
       "2  38.711050 -9.139739  05/14/2014 16:40        Lisbon        Portugal\n",
       "3  38.715637 -9.120558  05/14/2014 18:25        Lisbon        Portugal\n",
       "4  38.711977 -9.141788  05/14/2014 19:26        Lisbon        Portugal"
      ]
     },
     "execution_count": 69,
     "metadata": {},
     "output_type": "execute_result"
    }
   ],
   "source": [
    "simplified.head()"
   ]
  },
  {
   "cell_type": "code",
   "execution_count": 83,
   "id": "326e688a",
   "metadata": {},
   "outputs": [],
   "source": [
    "munich_serbia = simplified[(simplified['city'] == 'Munich') |\n",
    "                     (simplified['country'] == 'Serbia')]"
   ]
  },
  {
   "cell_type": "code",
   "execution_count": 84,
   "id": "8c7f5bc0",
   "metadata": {},
   "outputs": [
    {
     "data": {
      "text/plain": [
       "4"
      ]
     },
     "execution_count": 84,
     "metadata": {},
     "output_type": "execute_result"
    }
   ],
   "source": [
    "len(munich_serbia)"
   ]
  },
  {
   "cell_type": "markdown",
   "id": "e3e2a8db",
   "metadata": {},
   "source": [
    "### Q12: how many observations are west of the prime meridian?\n"
   ]
  },
  {
   "cell_type": "code",
   "execution_count": 93,
   "id": "0b415c9a",
   "metadata": {},
   "outputs": [],
   "source": [
    "west_prime_meridian = (simplified[\"lon\"] < 0).count()\n"
   ]
  },
  {
   "cell_type": "code",
   "execution_count": 94,
   "id": "73295588",
   "metadata": {},
   "outputs": [
    {
     "data": {
      "text/plain": [
       "178"
      ]
     },
     "execution_count": 94,
     "metadata": {},
     "output_type": "execute_result"
    }
   ],
   "source": [
    "west_prime_meridian"
   ]
  },
  {
   "cell_type": "code",
   "execution_count": 96,
   "id": "4bbd7bea",
   "metadata": {},
   "outputs": [],
   "source": [
    "west_prime_meridian_values = simplified[simplified[\"lon\"]<0]"
   ]
  },
  {
   "cell_type": "code",
   "execution_count": 97,
   "id": "6423c5a6",
   "metadata": {},
   "outputs": [
    {
     "data": {
      "text/plain": [
       "24"
      ]
     },
     "execution_count": 97,
     "metadata": {},
     "output_type": "execute_result"
    }
   ],
   "source": [
    "len(west_prime_meridian_values)"
   ]
  },
  {
   "cell_type": "code",
   "execution_count": 98,
   "id": "730ba879",
   "metadata": {},
   "outputs": [
    {
     "data": {
      "text/html": [
       "<div>\n",
       "<style scoped>\n",
       "    .dataframe tbody tr th:only-of-type {\n",
       "        vertical-align: middle;\n",
       "    }\n",
       "\n",
       "    .dataframe tbody tr th {\n",
       "        vertical-align: top;\n",
       "    }\n",
       "\n",
       "    .dataframe thead th {\n",
       "        text-align: right;\n",
       "    }\n",
       "</style>\n",
       "<table border=\"1\" class=\"dataframe\">\n",
       "  <thead>\n",
       "    <tr style=\"text-align: right;\">\n",
       "      <th></th>\n",
       "      <th>lat</th>\n",
       "      <th>lon</th>\n",
       "      <th>date</th>\n",
       "      <th>city</th>\n",
       "      <th>country</th>\n",
       "    </tr>\n",
       "  </thead>\n",
       "  <tbody>\n",
       "    <tr>\n",
       "      <th>0</th>\n",
       "      <td>51.481292</td>\n",
       "      <td>-0.451011</td>\n",
       "      <td>05/14/2014 09:07</td>\n",
       "      <td>West Drayton</td>\n",
       "      <td>United Kingdom</td>\n",
       "    </tr>\n",
       "    <tr>\n",
       "      <th>1</th>\n",
       "      <td>38.781775</td>\n",
       "      <td>-9.137544</td>\n",
       "      <td>05/14/2014 15:11</td>\n",
       "      <td>Lisbon</td>\n",
       "      <td>Portugal</td>\n",
       "    </tr>\n",
       "    <tr>\n",
       "      <th>2</th>\n",
       "      <td>38.711050</td>\n",
       "      <td>-9.139739</td>\n",
       "      <td>05/14/2014 16:40</td>\n",
       "      <td>Lisbon</td>\n",
       "      <td>Portugal</td>\n",
       "    </tr>\n",
       "    <tr>\n",
       "      <th>3</th>\n",
       "      <td>38.715637</td>\n",
       "      <td>-9.120558</td>\n",
       "      <td>05/14/2014 18:25</td>\n",
       "      <td>Lisbon</td>\n",
       "      <td>Portugal</td>\n",
       "    </tr>\n",
       "    <tr>\n",
       "      <th>4</th>\n",
       "      <td>38.711977</td>\n",
       "      <td>-9.141788</td>\n",
       "      <td>05/14/2014 19:26</td>\n",
       "      <td>Lisbon</td>\n",
       "      <td>Portugal</td>\n",
       "    </tr>\n",
       "    <tr>\n",
       "      <th>5</th>\n",
       "      <td>38.723108</td>\n",
       "      <td>-9.113374</td>\n",
       "      <td>05/15/2014 11:34</td>\n",
       "      <td>Lisbon</td>\n",
       "      <td>Portugal</td>\n",
       "    </tr>\n",
       "    <tr>\n",
       "      <th>6</th>\n",
       "      <td>38.691944</td>\n",
       "      <td>-9.215561</td>\n",
       "      <td>05/15/2014 14:50</td>\n",
       "      <td>Lisbon</td>\n",
       "      <td>Portugal</td>\n",
       "    </tr>\n",
       "    <tr>\n",
       "      <th>7</th>\n",
       "      <td>38.708487</td>\n",
       "      <td>-9.136022</td>\n",
       "      <td>05/15/2014 16:49</td>\n",
       "      <td>Lisbon</td>\n",
       "      <td>Portugal</td>\n",
       "    </tr>\n",
       "    <tr>\n",
       "      <th>8</th>\n",
       "      <td>38.797558</td>\n",
       "      <td>-9.341000</td>\n",
       "      <td>05/16/2014 10:58</td>\n",
       "      <td>Algueirão-Mem Martins</td>\n",
       "      <td>Portugal</td>\n",
       "    </tr>\n",
       "    <tr>\n",
       "      <th>9</th>\n",
       "      <td>38.801171</td>\n",
       "      <td>-9.425103</td>\n",
       "      <td>05/16/2014 13:43</td>\n",
       "      <td>Sintra</td>\n",
       "      <td>Portugal</td>\n",
       "    </tr>\n",
       "    <tr>\n",
       "      <th>10</th>\n",
       "      <td>38.793071</td>\n",
       "      <td>-9.285825</td>\n",
       "      <td>05/16/2014 15:13</td>\n",
       "      <td>Sintra</td>\n",
       "      <td>Portugal</td>\n",
       "    </tr>\n",
       "    <tr>\n",
       "      <th>11</th>\n",
       "      <td>38.816611</td>\n",
       "      <td>-9.408500</td>\n",
       "      <td>05/16/2014 16:13</td>\n",
       "      <td>Sintra</td>\n",
       "      <td>Portugal</td>\n",
       "    </tr>\n",
       "    <tr>\n",
       "      <th>12</th>\n",
       "      <td>38.788205</td>\n",
       "      <td>-9.388018</td>\n",
       "      <td>05/16/2014 16:28</td>\n",
       "      <td>Sintra</td>\n",
       "      <td>Portugal</td>\n",
       "    </tr>\n",
       "    <tr>\n",
       "      <th>13</th>\n",
       "      <td>38.711024</td>\n",
       "      <td>-9.137398</td>\n",
       "      <td>05/16/2014 23:24</td>\n",
       "      <td>Lisbon</td>\n",
       "      <td>Portugal</td>\n",
       "    </tr>\n",
       "    <tr>\n",
       "      <th>14</th>\n",
       "      <td>38.742018</td>\n",
       "      <td>-9.169380</td>\n",
       "      <td>05/17/2014 09:24</td>\n",
       "      <td>Lisbon</td>\n",
       "      <td>Portugal</td>\n",
       "    </tr>\n",
       "    <tr>\n",
       "      <th>15</th>\n",
       "      <td>39.118383</td>\n",
       "      <td>-8.913738</td>\n",
       "      <td>05/17/2014 11:12</td>\n",
       "      <td>Azambuja</td>\n",
       "      <td>Portugal</td>\n",
       "    </tr>\n",
       "    <tr>\n",
       "      <th>16</th>\n",
       "      <td>39.272876</td>\n",
       "      <td>-8.712187</td>\n",
       "      <td>05/17/2014 11:27</td>\n",
       "      <td>Santarém</td>\n",
       "      <td>Portugal</td>\n",
       "    </tr>\n",
       "    <tr>\n",
       "      <th>17</th>\n",
       "      <td>39.476522</td>\n",
       "      <td>-8.634345</td>\n",
       "      <td>05/17/2014 11:42</td>\n",
       "      <td>Zibreira</td>\n",
       "      <td>Portugal</td>\n",
       "    </tr>\n",
       "    <tr>\n",
       "      <th>18</th>\n",
       "      <td>39.628772</td>\n",
       "      <td>-8.695136</td>\n",
       "      <td>05/17/2014 12:12</td>\n",
       "      <td>São Mamede</td>\n",
       "      <td>Portugal</td>\n",
       "    </tr>\n",
       "    <tr>\n",
       "      <th>19</th>\n",
       "      <td>39.841086</td>\n",
       "      <td>-8.718608</td>\n",
       "      <td>05/17/2014 12:28</td>\n",
       "      <td>Leiria District</td>\n",
       "      <td>Portugal</td>\n",
       "    </tr>\n",
       "    <tr>\n",
       "      <th>20</th>\n",
       "      <td>40.210869</td>\n",
       "      <td>-8.481383</td>\n",
       "      <td>05/17/2014 12:58</td>\n",
       "      <td>Coimbra Municipality</td>\n",
       "      <td>Portugal</td>\n",
       "    </tr>\n",
       "    <tr>\n",
       "      <th>21</th>\n",
       "      <td>40.609111</td>\n",
       "      <td>-8.544819</td>\n",
       "      <td>05/17/2014 13:28</td>\n",
       "      <td>Aveiro District</td>\n",
       "      <td>Portugal</td>\n",
       "    </tr>\n",
       "    <tr>\n",
       "      <th>22</th>\n",
       "      <td>41.062147</td>\n",
       "      <td>-8.575820</td>\n",
       "      <td>05/17/2014 13:58</td>\n",
       "      <td>Vila Nova de Gaia</td>\n",
       "      <td>Portugal</td>\n",
       "    </tr>\n",
       "    <tr>\n",
       "      <th>23</th>\n",
       "      <td>41.237205</td>\n",
       "      <td>-8.672173</td>\n",
       "      <td>05/18/2014 19:55</td>\n",
       "      <td>Maia</td>\n",
       "      <td>Portugal</td>\n",
       "    </tr>\n",
       "  </tbody>\n",
       "</table>\n",
       "</div>"
      ],
      "text/plain": [
       "          lat       lon              date                   city  \\\n",
       "0   51.481292 -0.451011  05/14/2014 09:07           West Drayton   \n",
       "1   38.781775 -9.137544  05/14/2014 15:11                 Lisbon   \n",
       "2   38.711050 -9.139739  05/14/2014 16:40                 Lisbon   \n",
       "3   38.715637 -9.120558  05/14/2014 18:25                 Lisbon   \n",
       "4   38.711977 -9.141788  05/14/2014 19:26                 Lisbon   \n",
       "5   38.723108 -9.113374  05/15/2014 11:34                 Lisbon   \n",
       "6   38.691944 -9.215561  05/15/2014 14:50                 Lisbon   \n",
       "7   38.708487 -9.136022  05/15/2014 16:49                 Lisbon   \n",
       "8   38.797558 -9.341000  05/16/2014 10:58  Algueirão-Mem Martins   \n",
       "9   38.801171 -9.425103  05/16/2014 13:43                 Sintra   \n",
       "10  38.793071 -9.285825  05/16/2014 15:13                 Sintra   \n",
       "11  38.816611 -9.408500  05/16/2014 16:13                 Sintra   \n",
       "12  38.788205 -9.388018  05/16/2014 16:28                 Sintra   \n",
       "13  38.711024 -9.137398  05/16/2014 23:24                 Lisbon   \n",
       "14  38.742018 -9.169380  05/17/2014 09:24                 Lisbon   \n",
       "15  39.118383 -8.913738  05/17/2014 11:12               Azambuja   \n",
       "16  39.272876 -8.712187  05/17/2014 11:27               Santarém   \n",
       "17  39.476522 -8.634345  05/17/2014 11:42               Zibreira   \n",
       "18  39.628772 -8.695136  05/17/2014 12:12             São Mamede   \n",
       "19  39.841086 -8.718608  05/17/2014 12:28        Leiria District   \n",
       "20  40.210869 -8.481383  05/17/2014 12:58   Coimbra Municipality   \n",
       "21  40.609111 -8.544819  05/17/2014 13:28        Aveiro District   \n",
       "22  41.062147 -8.575820  05/17/2014 13:58      Vila Nova de Gaia   \n",
       "23  41.237205 -8.672173  05/18/2014 19:55                   Maia   \n",
       "\n",
       "           country  \n",
       "0   United Kingdom  \n",
       "1         Portugal  \n",
       "2         Portugal  \n",
       "3         Portugal  \n",
       "4         Portugal  \n",
       "5         Portugal  \n",
       "6         Portugal  \n",
       "7         Portugal  \n",
       "8         Portugal  \n",
       "9         Portugal  \n",
       "10        Portugal  \n",
       "11        Portugal  \n",
       "12        Portugal  \n",
       "13        Portugal  \n",
       "14        Portugal  \n",
       "15        Portugal  \n",
       "16        Portugal  \n",
       "17        Portugal  \n",
       "18        Portugal  \n",
       "19        Portugal  \n",
       "20        Portugal  \n",
       "21        Portugal  \n",
       "22        Portugal  \n",
       "23        Portugal  "
      ]
     },
     "execution_count": 98,
     "metadata": {},
     "output_type": "execute_result"
    }
   ],
   "source": [
    "west_prime_meridian_values"
   ]
  },
  {
   "cell_type": "markdown",
   "id": "2b3daa90",
   "metadata": {},
   "source": [
    "### Q13: get all rows that contain a city that starts with the letter G\n"
   ]
  },
  {
   "cell_type": "code",
   "execution_count": null,
   "id": "c7fabb94",
   "metadata": {},
   "outputs": [],
   "source": []
  }
 ],
 "metadata": {
  "kernelspec": {
   "display_name": "Python 3 (ipykernel)",
   "language": "python",
   "name": "python3"
  },
  "language_info": {
   "codemirror_mode": {
    "name": "ipython",
    "version": 3
   },
   "file_extension": ".py",
   "mimetype": "text/x-python",
   "name": "python",
   "nbconvert_exporter": "python",
   "pygments_lexer": "ipython3",
   "version": "3.9.13"
  }
 },
 "nbformat": 4,
 "nbformat_minor": 5
}
