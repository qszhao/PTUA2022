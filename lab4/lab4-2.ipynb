{
 "cells": [
  {
   "cell_type": "code",
   "execution_count": 11,
   "metadata": {},
   "outputs": [],
   "source": [
    "from OpenGal import OpenGal\n",
    "from statistics import mean\n",
    "from GalValue import GalValue\n",
    "from adjacency import adjacency"
   ]
  },
  {
   "cell_type": "code",
   "execution_count": 12,
   "metadata": {},
   "outputs": [],
   "source": [
    "dictionary1= {}\n",
    "a = OpenGal(\"Lab04-1.gal\",dictionary1)\n",
    "dictionary1 = a.open()"
   ]
  },
  {
   "cell_type": "code",
   "execution_count": 13,
   "metadata": {},
   "outputs": [],
   "source": [
    "b = GalValue(dictionary1)\n",
    "dictionary2 = b.ValueLen()"
   ]
  },
  {
   "cell_type": "code",
   "execution_count": 14,
   "metadata": {},
   "outputs": [],
   "source": [
    "c = adjacency(dictionary1, dictionary2)"
   ]
  },
  {
   "cell_type": "code",
   "execution_count": 15,
   "metadata": {},
   "outputs": [
    {
     "name": "stdout",
     "output_type": "stream",
     "text": [
      "Average connectivity:  4.1020408163265305\n",
      "Maximum connectivity: 9\n",
      "Node objects and their neighbourhoods having maximum connectivity: {20: [35, 33, 27, 22, 23, 32, 40, 17, 10]}\n",
      "Minimum connectivity: 2\n",
      "Node objects and their neighbourhoods having minimum connectivity: {1: [2, 3], 6: [9, 5], 31: [36, 34], 39: [46, 36], 42: [34, 36], 46: [36, 39], 47: [40, 41]}\n"
     ]
    },
    {
     "data": {
      "text/plain": [
       "'There are no islands.'"
      ]
     },
     "execution_count": 15,
     "metadata": {},
     "output_type": "execute_result"
    }
   ],
   "source": [
    "print(\"Average connectivity: \",  c.average_len())\n",
    "\n",
    "print(\"Maximum connectivity:\", c.max_len())\n",
    "print(\"Node objects and their neighbourhoods having maximum connectivity:\", c.max_key_value())\n",
    "print(\"Minimum connectivity:\", c.min_len())\n",
    "print(\"Node objects and their neighbourhoods having minimum connectivity:\", c.min_key_value())\n",
    "\n",
    "c.island()"
   ]
  },
  {
   "cell_type": "code",
   "execution_count": null,
   "metadata": {},
   "outputs": [],
   "source": []
  }
 ],
 "metadata": {
  "kernelspec": {
   "display_name": "Python 3",
   "language": "python",
   "name": "python3"
  },
  "language_info": {
   "codemirror_mode": {
    "name": "ipython",
    "version": 3
   },
   "file_extension": ".py",
   "mimetype": "text/x-python",
   "name": "python",
   "nbconvert_exporter": "python",
   "pygments_lexer": "ipython3",
   "version": "3.8.3"
  }
 },
 "nbformat": 4,
 "nbformat_minor": 4
}
