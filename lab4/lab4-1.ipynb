{
 "cells": [
  {
   "cell_type": "markdown",
   "metadata": {},
   "source": [
    "## Qusetion 1\n",
    "Return a Python dictionary where the key is the id of a spatial unit and the value is a list of the ids of its neighbors."
   ]
  },
  {
   "cell_type": "code",
   "execution_count": 6,
   "metadata": {},
   "outputs": [],
   "source": [
    "listing = open(\"Lab04-1.gal\", \"r\")\n",
    "listline = listing.readlines()"
   ]
  },
  {
   "cell_type": "code",
   "execution_count": 7,
   "metadata": {},
   "outputs": [
    {
     "data": {
      "text/plain": [
       "{1: [2, 3],\n",
       " 2: [4, 3, 1],\n",
       " 3: [5, 4, 2, 1],\n",
       " 4: [8, 3, 5, 2],\n",
       " 5: [15, 11, 8, 9, 6, 3, 4],\n",
       " 6: [9, 5],\n",
       " 7: [14, 13, 8],\n",
       " 8: [12, 11, 5, 4, 7],\n",
       " 9: [26, 22, 15, 10, 6, 5],\n",
       " 10: [20, 17, 9],\n",
       " 11: [16, 12, 5, 8],\n",
       " 12: [16, 14, 13, 11, 8],\n",
       " 13: [14, 12, 7],\n",
       " 14: [19, 12, 13, 16, 18, 7],\n",
       " 15: [25, 16, 5, 9],\n",
       " 16: [25, 24, 18, 15, 11, 12, 14],\n",
       " 17: [23, 20, 10],\n",
       " 18: [24, 19, 16, 14],\n",
       " 19: [18, 24, 14],\n",
       " 20: [35, 33, 27, 22, 23, 32, 40, 17, 10],\n",
       " 21: [34, 24, 30, 9],\n",
       " 22: [28, 27, 26, 20, 9],\n",
       " 23: [32, 17, 20],\n",
       " 24: [30, 25, 16, 18, 21, 19],\n",
       " 25: [29, 15, 26, 16, 24],\n",
       " 26: [28, 22, 9, 25],\n",
       " 27: [33, 28, 20, 22],\n",
       " 28: [38, 29, 27, 33, 35, 22, 26],\n",
       " 29: [37, 30, 28, 25],\n",
       " 30: [37, 29, 24, 21],\n",
       " 31: [36, 34],\n",
       " 32: [41, 40, 23, 20],\n",
       " 33: [35, 20, 27, 28],\n",
       " 34: [42, 36, 21, 31],\n",
       " 35: [44, 38, 20, 33, 28],\n",
       " 36: [46, 39, 34, 42, 31],\n",
       " 37: [45, 38, 43, 29, 30],\n",
       " 38: [43, 35, 28, 37],\n",
       " 39: [46, 36],\n",
       " 40: [47, 41, 32, 20],\n",
       " 41: [47, 32, 40],\n",
       " 42: [34, 36],\n",
       " 43: [48, 45, 44, 38, 37],\n",
       " 44: [49, 48, 35, 43],\n",
       " 45: [48, 49, 37, 43],\n",
       " 46: [36, 39],\n",
       " 47: [40, 41],\n",
       " 48: [49, 44, 43, 45],\n",
       " 49: [44, 48, 45]}"
      ]
     },
     "execution_count": 7,
     "metadata": {},
     "output_type": "execute_result"
    }
   ],
   "source": [
    "n = 1\n",
    "m = 1\n",
    "dictionary1 = {}\n",
    "while n < 99:\n",
    "    listline1 = listline[n].replace(\"\\n\", \"\").replace(\"\\r\", \"\")\n",
    "    array = listline1.split(' ')\n",
    "    if n % 2 != 0:\n",
    "        dictionary1[int(array[0])] = 0\n",
    "    n += 1\n",
    "\n",
    "while m < 99:\n",
    "    listline2 = listline[m].replace(\"\\n\", \"\").replace(\"\\r\", \"\")\n",
    "    array = listline2.split(' ')\n",
    "    str1 = ','.join(array)\n",
    "    result = list(map(int, str1.split(',')))\n",
    "    if m%2 == 0:\n",
    "        dictionary1[m/2] = result\n",
    "    m += 1\n",
    "dictionary1\n"
   ]
  },
  {
   "cell_type": "markdown",
   "metadata": {},
   "source": [
    "## Question 2\n",
    "Take a gal dictionary from 1 and return a second dictionary that has the histogram for the neighbor cardinalities. In the second dictionary, the key is the number of neighbors and the value is the list of ids that have key neighbors. It is up to you if you want to draw the histogram."
   ]
  },
  {
   "cell_type": "code",
   "execution_count": 8,
   "metadata": {},
   "outputs": [
    {
     "data": {
      "text/plain": [
       "{2: [1, 6, 31, 39, 42, 46, 47],\n",
       " 3: [2, 7, 10, 13, 17, 19, 23, 41, 49],\n",
       " 4: [3, 4, 11, 15, 18, 21, 26, 27, 29, 30, 32, 33, 34, 38, 40, 44, 45, 48],\n",
       " 5: [8, 12, 22, 25, 35, 36, 37, 43],\n",
       " 6: [9, 14, 24],\n",
       " 7: [5, 16, 28],\n",
       " 9: [20]}"
      ]
     },
     "execution_count": 8,
     "metadata": {},
     "output_type": "execute_result"
    }
   ],
   "source": [
    "from collections import defaultdict\n",
    "\n",
    "dictionary2 = {}\n",
    "dictionary2 = defaultdict(list)\n",
    "i = 1\n",
    "while i < len(dictionary1)+1:\n",
    "    dictionary2[len(dictionary1[i])].append(i)\n",
    "    i = i + 1\n",
    "dict(sorted(dictionary2.items(), key=lambda x: x[0]))"
   ]
  },
  {
   "cell_type": "markdown",
   "metadata": {},
   "source": [
    "## Question 3\n",
    "Take a gal dictionary from 1 and test if there are any asymmetries. An asymmetry occurs when i says j is a neighbor of i, but j does not say i is a neighbor of j."
   ]
  },
  {
   "cell_type": "code",
   "execution_count": 9,
   "metadata": {},
   "outputs": [
    {
     "name": "stdout",
     "output_type": "stream",
     "text": [
      "1 is not a neighbor of 5\n",
      "5 is not a neighbor of 1\n",
      "1 and 5 are not asymmetries\n"
     ]
    }
   ],
   "source": [
    "i = 1\n",
    "j = 5\n",
    "a = 0\n",
    "b = 0\n",
    "neighbor1 = 0\n",
    "neighbor2 = 0\n",
    "if i < 1 or i > len(dictionary1) or j < 1 or j > len(dictionary1):\n",
    "    print(\"Please enter a value within the correct range.\")\n",
    "else:\n",
    "    while a < len(dictionary1[j]):\n",
    "        if i == dictionary1[j][a]:\n",
    "            neighbor1 = 1\n",
    "            print(\"%d is a neighbor of %d\" %(i,j))\n",
    "            break\n",
    "        a += 1\n",
    "    if neighbor1 == 0:\n",
    "        print(\"%d is not a neighbor of %d\" %(i,j))\n",
    "    \n",
    "    while b < len(dictionary1[i]):\n",
    "        if j == dictionary1[i][b]:\n",
    "            neighbor2 = 1\n",
    "            print(\"%d is a neighbor of %d\" %(j,i))\n",
    "            break\n",
    "        b += 1\n",
    "    if neighbor2 == 0:\n",
    "        print(\"%d is not a neighbor of %d\" %(j,i))\n",
    "    \n",
    "    if neighbor1 == 0 and neighbor2 == 0 or neighbor1 == 1 and neighbor2 == 1:\n",
    "        print(\"%d and %d are not asymmetries\" %(i,j))\n",
    "    else:\n",
    "        print(\"%d and %d are asymmetries\" %(i,j))"
   ]
  },
  {
   "cell_type": "code",
   "execution_count": null,
   "metadata": {},
   "outputs": [],
   "source": []
  }
 ],
 "metadata": {
  "kernelspec": {
   "display_name": "Python 3",
   "language": "python",
   "name": "python3"
  },
  "language_info": {
   "codemirror_mode": {
    "name": "ipython",
    "version": 3
   },
   "file_extension": ".py",
   "mimetype": "text/x-python",
   "name": "python",
   "nbconvert_exporter": "python",
   "pygments_lexer": "ipython3",
   "version": "3.8.3"
  }
 },
 "nbformat": 4,
 "nbformat_minor": 4
}
