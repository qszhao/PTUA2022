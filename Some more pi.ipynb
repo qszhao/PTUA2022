{
 "cells": [
  {
   "cell_type": "markdown",
   "id": "cd84ad7c",
   "metadata": {},
   "source": [
    "## Lab03-2 Some more pi\n",
    "\n",
    "2. In a second notebook write code does the following experiment\n",
    " \n",
    "  - For different values of the convergence criteria [0.01, 0.001, 0.0001, 0.00001] generate 10 estimates of Pi.\n",
    "  - For the four different convergence criteria have your script print the following statistics\n",
    "    - average number of draws required from the 10 runs\n",
    "    - standard deviation of the number of draws required from the 10 runs.\n",
    "\n",
    "For this second program do not use a sentinel to cap the number of draws.\n"
   ]
  },
  {
   "cell_type": "code",
   "execution_count": 78,
   "id": "2d28b7c5",
   "metadata": {},
   "outputs": [],
   "source": [
    "import random\n",
    "import math\n",
    "import matplotlib.pyplot as plt\n",
    "import numpy as np"
   ]
  },
  {
   "cell_type": "code",
   "execution_count": 79,
   "id": "2ac44280",
   "metadata": {},
   "outputs": [],
   "source": [
    "pi = math.pi "
   ]
  },
  {
   "cell_type": "code",
   "execution_count": 80,
   "id": "dd10d63c",
   "metadata": {},
   "outputs": [
    {
     "data": {
      "text/plain": [
       "3.141592653589793"
      ]
     },
     "execution_count": 80,
     "metadata": {},
     "output_type": "execute_result"
    }
   ],
   "source": [
    "pi"
   ]
  },
  {
   "cell_type": "code",
   "execution_count": 107,
   "id": "0412960a",
   "metadata": {},
   "outputs": [
    {
     "name": "stdout",
     "output_type": "stream",
     "text": [
      "The required runs for convergence criterion 0.01 were [0]\n",
      "A convergence criterion of 0.01 resulted in average in 0 runs with a standard deviation of 0.0\n"
     ]
    }
   ],
   "source": [
    "result = 0\n",
    "\n",
    "result_list = [0]\n",
    "\n",
    "for x in range(0):\n",
    "    convergence_crit=0.01\n",
    "    n = 0 # number of points falling in the unit circle\n",
    "    d = 0 # number of points falling in the unit square\n",
    "    simulating = True # use as a sentinel\n",
    "    while simulating:\n",
    "        x = random.random()\n",
    "        y = random.random()\n",
    "        if x**2 + y**2 <= 1.0:\n",
    "            n += 1\n",
    "        d += 1\n",
    "        ratio = 4 * n * 1./d\n",
    "        if abs(ratio-pi) / pi * 100 <=  convergence_crit:\n",
    "            break\n",
    "    result_list.append(d)\n",
    "\n",
    "print(\"The required runs for convergence criterion\", convergence_crit ,\"were\", result_list)\n",
    "\n",
    "result_array= np.array(result_list)\n",
    "average = round(np.mean(result_array))\n",
    "sd = round(np.std(result_array),2)\n",
    "\n",
    "print('A convergence criterion of', convergence_crit, 'resulted in average in', average, 'runs with a standard deviation of',sd)"
   ]
  },
  {
   "cell_type": "markdown",
   "id": "c055bbde",
   "metadata": {},
   "source": [
    "Answer:\n",
    "\n",
    "The required runs for convergence criterion 0.01 were [629, 1146, 191, 1878, 424, 932, 9391, 191, 233, 191]\n",
    "A convergence criterion of 0.01 resulted in average in 1382 runs with a standard deviation of 2587.01.\n",
    "\n",
    "The required runs for convergence criterion 0.001 were [3164, 28093, 2451, 890, 1766, 890, 918, 890, 16253, 44588]\n",
    "A convergence criterion of 0.001 resulted in average in 9082 runs with a standard deviation of 14001.6.\n",
    "\n",
    "The required runs for convergence criterion 0.0001 were [7684, 9958, 8341, 10149, 27628, 19231, 16738, 26696, 106127, 107767]\n",
    "A convergence criterion of 0.0001 resulted in average in 30938 runs with a standard deviation of 36686.14.\n",
    "\n",
    "The required runs for convergence criterion 1e-05 were [1356, 22600, 904, 47446, 4520, 21915, 4068, 63704, 16272, 84291]\n",
    "A convergence criterion of 1e-05 resulted in average in 24280 runs with a standard deviation of 27344.98"
   ]
  }
 ],
 "metadata": {
  "kernelspec": {
   "display_name": "Python 3 (ipykernel)",
   "language": "python",
   "name": "python3"
  },
  "language_info": {
   "codemirror_mode": {
    "name": "ipython",
    "version": 3
   },
   "file_extension": ".py",
   "mimetype": "text/x-python",
   "name": "python",
   "nbconvert_exporter": "python",
   "pygments_lexer": "ipython3",
   "version": "3.9.13"
  }
 },
 "nbformat": 4,
 "nbformat_minor": 5
}
