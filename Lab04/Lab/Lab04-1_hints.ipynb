{
 "cells": [
  {
   "cell_type": "code",
   "execution_count": 4,
   "metadata": {
    "collapsed": false,
    "deletable": true,
    "editable": true,
    "jupyter": {
     "outputs_hidden": false
    }
   },
   "outputs": [],
   "source": [
    "import random"
   ]
  },
  {
   "cell_type": "code",
   "execution_count": 5,
   "metadata": {
    "collapsed": false,
    "deletable": true,
    "editable": true,
    "jupyter": {
     "outputs_hidden": false
    }
   },
   "outputs": [],
   "source": [
    "m = [random.randint(1,11) for i in range(20) ]"
   ]
  },
  {
   "cell_type": "code",
   "execution_count": 6,
   "metadata": {
    "collapsed": false,
    "deletable": true,
    "editable": true,
    "jupyter": {
     "outputs_hidden": false
    }
   },
   "outputs": [
    {
     "data": {
      "text/plain": [
       "[7, 1, 2, 8, 4, 5, 2, 5, 11, 1, 9, 4, 7, 7, 4, 6, 2, 11, 8, 7]"
      ]
     },
     "execution_count": 6,
     "metadata": {},
     "output_type": "execute_result"
    }
   ],
   "source": [
    "m"
   ]
  },
  {
   "cell_type": "code",
   "execution_count": 7,
   "metadata": {
    "collapsed": false,
    "deletable": true,
    "editable": true,
    "jupyter": {
     "outputs_hidden": false
    }
   },
   "outputs": [],
   "source": [
    "sm = set(m)"
   ]
  },
  {
   "cell_type": "code",
   "execution_count": 8,
   "metadata": {
    "collapsed": false,
    "deletable": true,
    "editable": true,
    "jupyter": {
     "outputs_hidden": false
    }
   },
   "outputs": [
    {
     "data": {
      "text/plain": [
       "{1, 2, 4, 5, 6, 7, 8, 9, 11}"
      ]
     },
     "execution_count": 8,
     "metadata": {},
     "output_type": "execute_result"
    }
   ],
   "source": [
    "sm"
   ]
  },
  {
   "cell_type": "code",
   "execution_count": 9,
   "metadata": {
    "collapsed": false,
    "deletable": true,
    "editable": true,
    "jupyter": {
     "outputs_hidden": false
    }
   },
   "outputs": [
    {
     "name": "stdout",
     "output_type": "stream",
     "text": [
      "1 2\n",
      "2 3\n",
      "4 3\n",
      "5 2\n",
      "6 1\n",
      "7 4\n",
      "8 2\n",
      "9 1\n",
      "11 2\n"
     ]
    }
   ],
   "source": [
    "for val in sm:\n",
    "    print(val, m.count(val))"
   ]
  },
  {
   "cell_type": "code",
   "execution_count": 10,
   "metadata": {
    "collapsed": false,
    "deletable": true,
    "editable": true,
    "jupyter": {
     "outputs_hidden": false
    }
   },
   "outputs": [
    {
     "name": "stdout",
     "output_type": "stream",
     "text": [
      "0 7\n",
      "1 1\n",
      "2 2\n",
      "3 8\n",
      "4 4\n",
      "5 5\n",
      "6 2\n",
      "7 5\n",
      "8 11\n",
      "9 1\n",
      "10 9\n",
      "11 4\n",
      "12 7\n",
      "13 7\n",
      "14 4\n",
      "15 6\n",
      "16 2\n",
      "17 11\n",
      "18 8\n",
      "19 7\n"
     ]
    }
   ],
   "source": [
    "h = {}\n",
    "for i,val in enumerate(m):\n",
    "    if val not in h:\n",
    "        h[val] = []\n",
    "    h[val].append(i)\n",
    "    print(i, val)"
   ]
  },
  {
   "cell_type": "code",
   "execution_count": 11,
   "metadata": {
    "collapsed": false,
    "deletable": true,
    "editable": true,
    "jupyter": {
     "outputs_hidden": false
    }
   },
   "outputs": [
    {
     "data": {
      "text/plain": [
       "{7: [0, 12, 13, 19],\n",
       " 1: [1, 9],\n",
       " 2: [2, 6, 16],\n",
       " 8: [3, 18],\n",
       " 4: [4, 11, 14],\n",
       " 5: [5, 7],\n",
       " 11: [8, 17],\n",
       " 9: [10],\n",
       " 6: [15]}"
      ]
     },
     "execution_count": 11,
     "metadata": {},
     "output_type": "execute_result"
    }
   ],
   "source": [
    "h"
   ]
  },
  {
   "cell_type": "code",
   "execution_count": 12,
   "metadata": {
    "collapsed": false,
    "deletable": true,
    "editable": true,
    "jupyter": {
     "outputs_hidden": false
    }
   },
   "outputs": [],
   "source": [
    "w = {}\n",
    "w['a'] = ['b', 'c']\n",
    "w['b'] = ['a', 'c', 'd']\n",
    "w['c'] = ['a', 'b', 'd']\n",
    "w['d'] = ['a', 'b', 'c']"
   ]
  },
  {
   "cell_type": "code",
   "execution_count": 13,
   "metadata": {
    "collapsed": false,
    "deletable": true,
    "editable": true,
    "jupyter": {
     "outputs_hidden": false
    }
   },
   "outputs": [
    {
     "data": {
      "text/plain": [
       "{'a': ['b', 'c'],\n",
       " 'b': ['a', 'c', 'd'],\n",
       " 'c': ['a', 'b', 'd'],\n",
       " 'd': ['a', 'b', 'c']}"
      ]
     },
     "execution_count": 13,
     "metadata": {},
     "output_type": "execute_result"
    }
   ],
   "source": [
    "w\n"
   ]
  },
  {
   "cell_type": "code",
   "execution_count": 14,
   "metadata": {
    "collapsed": false,
    "deletable": true,
    "editable": true,
    "jupyter": {
     "outputs_hidden": false
    }
   },
   "outputs": [
    {
     "name": "stdout",
     "output_type": "stream",
     "text": [
      "a ['b', 'c']\n",
      "a  says  b is a neighbor\n",
      "ok\n",
      "a  says  c is a neighbor\n",
      "ok\n",
      "b ['a', 'c', 'd']\n",
      "b  says  a is a neighbor\n",
      "ok\n",
      "b  says  c is a neighbor\n",
      "ok\n",
      "b  says  d is a neighbor\n",
      "ok\n",
      "c ['a', 'b', 'd']\n",
      "c  says  a is a neighbor\n",
      "ok\n",
      "c  says  b is a neighbor\n",
      "ok\n",
      "c  says  d is a neighbor\n",
      "ok\n",
      "d ['a', 'b', 'c']\n",
      "d  says  a is a neighbor\n",
      "not ok\n",
      "because  a  says that  d is not a neighbor\n",
      "d  says  b is a neighbor\n",
      "ok\n",
      "d  says  c is a neighbor\n",
      "ok\n"
     ]
    }
   ],
   "source": [
    "for key in w:\n",
    "    print(key, w[key])\n",
    "    for neighbor in w[key]:\n",
    "        print(key,' says ',neighbor, 'is a neighbor')\n",
    "        if key in w[neighbor]:\n",
    "            print('ok')\n",
    "        else:\n",
    "            print('not ok')\n",
    "            print('because ', neighbor, ' says that ', key, 'is not a neighbor')\n",
    "        "
   ]
  },
  {
   "cell_type": "code",
   "execution_count": 15,
   "metadata": {
    "collapsed": false,
    "deletable": true,
    "editable": true,
    "jupyter": {
     "outputs_hidden": false
    }
   },
   "outputs": [
    {
     "data": {
      "text/plain": [
       "['b', 'c']"
      ]
     },
     "execution_count": 15,
     "metadata": {},
     "output_type": "execute_result"
    }
   ],
   "source": [
    "w['a']"
   ]
  },
  {
   "cell_type": "code",
   "execution_count": 16,
   "metadata": {
    "collapsed": false,
    "deletable": true,
    "editable": true,
    "jupyter": {
     "outputs_hidden": false
    }
   },
   "outputs": [
    {
     "data": {
      "text/plain": [
       "['a', 'b', 'd']"
      ]
     },
     "execution_count": 16,
     "metadata": {},
     "output_type": "execute_result"
    }
   ],
   "source": [
    "w['c']"
   ]
  },
  {
   "cell_type": "code",
   "execution_count": null,
   "metadata": {},
   "outputs": [],
   "source": []
  }
 ],
 "metadata": {
  "kernelspec": {
   "display_name": "Python 3",
   "language": "python",
   "name": "python3"
  },
  "language_info": {
   "codemirror_mode": {
    "name": "ipython",
    "version": 3
   },
   "file_extension": ".py",
   "mimetype": "text/x-python",
   "name": "python",
   "nbconvert_exporter": "python",
   "pygments_lexer": "ipython3",
   "version": "3.10.4 (main, Jan 25 2023, 00:13:50) [GCC 9.4.0]"
  },
  "vscode": {
   "interpreter": {
    "hash": "3ad933181bd8a04b432d3370b9dc3b0662ad032c4dfaa4e4f1596c548f763858"
   }
  }
 },
 "nbformat": 4,
 "nbformat_minor": 4
}
