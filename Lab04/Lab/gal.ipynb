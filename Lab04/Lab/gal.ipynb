{
 "cells": [
  {
   "cell_type": "code",
   "execution_count": 2,
   "id": "ebc3e305",
   "metadata": {},
   "outputs": [
    {
     "name": "stdout",
     "output_type": "stream",
     "text": [
      "Please enter the file path: C:/Users/Angle Lu/PTUA2023/Lab04/Lab/Lab04-1.gal\n",
      "{'1': ['2', '3'], '2': ['4', '3', '1'], '3': ['5', '4', '2', '1'], '4': ['8', '3', '5', '2'], '5': ['15', '11', '8', '9', '6', '3', '4'], '6': ['9', '5'], '7': ['14', '13', '8'], '8': ['12', '11', '5', '4', '7'], '9': ['26', '22', '15', '10', '6', '5'], '10': ['20', '17', '9'], '11': ['16', '12', '5', '8'], '12': ['16', '14', '13', '11', '8'], '13': ['14', '12', '7'], '14': ['19', '12', '13', '16', '18', '7'], '15': ['25', '16', '5', '9'], '16': ['25', '24', '18', '15', '11', '12', '14'], '17': ['23', '20', '10'], '18': ['24', '19', '16', '14'], '19': ['18', '24', '14'], '20': ['35', '33', '27', '22', '23', '32', '40', '17', '10'], '21': ['34', '24', '30', '9'], '22': ['28', '27', '26', '20', '9'], '23': ['32', '17', '20'], '24': ['30', '25', '16', '18', '21', '19'], '25': ['29', '15', '26', '16', '24'], '26': ['28', '22', '9', '25'], '27': ['33', '28', '20', '22'], '28': ['38', '29', '27', '33', '35', '22', '26'], '29': ['37', '30', '28', '25'], '30': ['37', '29', '24', '21'], '31': ['36', '34'], '32': ['41', '40', '23', '20'], '33': ['35', '20', '27', '28'], '34': ['42', '36', '21', '31'], '35': ['44', '38', '20', '33', '28'], '36': ['46', '39', '34', '42', '31'], '37': ['45', '38', '43', '29', '30'], '38': ['43', '35', '28', '37'], '39': ['46', '36'], '40': ['47', '41', '32', '20'], '41': ['47', '32', '40'], '42': ['34', '36'], '43': ['48', '45', '44', '38', '37'], '44': ['49', '48', '35', '43'], '45': ['48', '49', '37', '43'], '46': ['36', '39'], '47': ['40', '41'], '48': ['49', '44', '43', '45'], '49': ['44', '48', '45']}\n"
     ]
    }
   ],
   "source": [
    "#Exercise 1\n",
    "def gal ():\n",
    "    #read the file\n",
    "    url = input(\"Please enter the file path: \")\n",
    "    f = open(url,\"r\")\n",
    "    \n",
    "    listings = []\n",
    "    dic = {}\n",
    "    for x in f:\n",
    "        listings.append(x)\n",
    "        #print(listings)\n",
    "    for n in range(1,len(listings),2):\n",
    "        key = listings[n].split(' ')[0]\n",
    "        value = listings[n+1].split(' ')\n",
    "        value[-1] = value[-1][:-1]\n",
    "        dic[key] = value\n",
    "    f.close()\n",
    "    return dic\n",
    "\n",
    "gal1 = gal()\n",
    "print(gal1)\n"
   ]
  },
  {
   "cell_type": "code",
   "execution_count": 19,
   "id": "5767d6e3",
   "metadata": {},
   "outputs": [
    {
     "name": "stdout",
     "output_type": "stream",
     "text": [
      "Please enter the file path: C:/Users/Angle Lu/PTUA2023/Lab04/Lab/Lab04-1.gal\n",
      "{2: ['1', '6', '31', '39', '42', '46', '47'], 3: ['2', '7', '10', '13', '17', '19', '23', '41', '49'], 4: ['3', '4', '11', '15', '18', '21', '26', '27', '29', '30', '32', '33', '34', '38', '40', '44', '45', '48'], 5: ['8', '12', '22', '25', '35', '36', '37', '43'], 6: ['9', '14', '24'], 7: ['5', '16', '28'], 9: ['20']}\n"
     ]
    }
   ],
   "source": [
    "#Exercise 2\n",
    "def gal2():\n",
    "    list2 = []\n",
    "    key2 = []\n",
    "    dic2 = {}\n",
    "    gal1 = gal()\n",
    "    for value in gal1.values():\n",
    "        if len(value) in list2:\n",
    "            pass\n",
    "        list2.append(len(value))\n",
    "    list2.sort()\n",
    "    for n in list2:\n",
    "        dic2[n] = []\n",
    "        for key in gal1.keys():\n",
    "            if len(gal1[key]) == n:\n",
    "                dic2[n].append(key)\n",
    "    return dic2\n",
    "\n",
    "gal2_2 = gal2()\n",
    "print(gal2_2)"
   ]
  },
  {
   "cell_type": "code",
   "execution_count": 4,
   "id": "c6d6f981",
   "metadata": {},
   "outputs": [
    {
     "name": "stdout",
     "output_type": "stream",
     "text": [
      "Please enter the file path: C:/Users/Angle Lu/PTUA2023/Lab04/Lab/Lab04-1.gal\n",
      "There is an asymmertry in this gal dictionary. 9 is a neighbour of 21, but 21 is not the neighbour of 9.\n"
     ]
    }
   ],
   "source": [
    "#Exercise 3\n",
    "def gal3():\n",
    "    gal1 = gal()\n",
    "    for key in gal1.keys():\n",
    "        for value in gal1[key]:\n",
    "            if key in gal1[value]:\n",
    "                pass\n",
    "            else:\n",
    "                print(\"There is an asymmertry in this gal dictionary. %s is a neighbour of %s, but %s is not the neighbour of %s.\"%(value, key, key, value))\n",
    "                #break\n",
    "gal3()\n",
    "    "
   ]
  },
  {
   "cell_type": "markdown",
   "id": "f3a866e8",
   "metadata": {},
   "source": [
    "Reference List:<br>\n",
    "Exercise 1:<br>\n",
    "https://blog.csdn.net/weixin_39695323/article/details/110241277<br>\n",
    "https://blog.csdn.net/weixin_39524048/article/details/110243240<br>\n",
    "https://blog.csdn.net/weixin_43718786/article/details/114102454<br>\n",
    "https://blog.csdn.net/weixin_41803874/article/details/91395492<br>\n",
    "https://www.runoob.com/python/python-dictionary.html<br>\n",
    "https://www.runoob.com/python/python-lists.html<br>\n",
    "Exercise 2:<br>\n",
    "https://blog.csdn.net/Jarry_cm/article/details/99684387<br>\n",
    "https://blog.csdn.net/qq_43391414/article/details/112323971<br>\n",
    "https://www.runoob.com/python/att-list-sort.html<br>\n"
   ]
  }
 ],
 "metadata": {
  "kernelspec": {
   "display_name": "Python 3 (ipykernel)",
   "language": "python",
   "name": "python3"
  },
  "language_info": {
   "codemirror_mode": {
    "name": "ipython",
    "version": 3
   },
   "file_extension": ".py",
   "mimetype": "text/x-python",
   "name": "python",
   "nbconvert_exporter": "python",
   "pygments_lexer": "ipython3",
   "version": "3.9.13"
  }
 },
 "nbformat": 4,
 "nbformat_minor": 5
}
