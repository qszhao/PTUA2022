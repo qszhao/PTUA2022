{
 "cells": [
  {
   "cell_type": "markdown",
   "metadata": {},
   "source": [
    "# PTUA-Lecture 4 Object Oriented Programming"
   ]
  },
  {
   "attachments": {},
   "cell_type": "markdown",
   "metadata": {},
   "source": [
    "Two types of Python programs you have done\n",
    "- Procedural: The program moves through a linear series of instructions.\n",
    "- Functional: The program moves from one function to another.\n",
    "- 一个是ipython等\n",
    "- 一个是调用函数"
   ]
  },
  {
   "cell_type": "code",
   "execution_count": 16,
   "metadata": {},
   "outputs": [
    {
     "name": "stdout",
     "output_type": "stream",
     "text": [
      "freshmen\n",
      "Sophomore\n",
      "Junior\n",
      "Senior\n",
      "这里是换成y的啦\n",
      "freshmen\n",
      "Sophomore\n",
      "Junior\n",
      "Senior\n"
     ]
    }
   ],
   "source": [
    "# Procedural programming\n",
    "# Print each student in a students list:\n",
    "students = [\"freshmen\", \"Sophomore\", \"Junior\", \"Senior\"]\n",
    "#其实这里的x就是形参，占用了数组等默认的参数位置，指代内部的数据，所以说换成x，name都行的\n",
    "for x in students:\n",
    "  print(x)\n",
    "print('这里是换成y的啦')\n",
    "for y in students:\n",
    "  print(y)"
   ]
  },
  {
   "cell_type": "code",
   "execution_count": 17,
   "metadata": {},
   "outputs": [
    {
     "name": "stdout",
     "output_type": "stream",
     "text": [
      "9\n",
      "100\n"
     ]
    }
   ],
   "source": [
    "# Functional programming 函数式编程\n",
    "#这里设置的默认的参数值\n",
    "def square(x=10):\n",
    "  return x*x\n",
    "\n",
    "print(square(3))\n",
    "print(square())"
   ]
  },
  {
   "cell_type": "markdown",
   "metadata": {
    "deletable": true,
    "editable": true
   },
   "source": [
    "You have used random module in the last session. Recall how to call libraries - packages/modules written by others."
   ]
  },
  {
   "cell_type": "code",
   "execution_count": 18,
   "metadata": {
    "collapsed": false,
    "deletable": true,
    "editable": true,
    "jupyter": {
     "outputs_hidden": false
    }
   },
   "outputs": [
    {
     "data": {
      "text/plain": [
       "(2, 0.3375705104447376)"
      ]
     },
     "execution_count": 18,
     "metadata": {},
     "output_type": "execute_result"
    }
   ],
   "source": [
    "#random 是一个python库，产生的数字可以默认是随机的\n",
    "import random\n",
    "rand_int=random.randint(1,5)\n",
    "rand_flt=random.random()\n",
    "rand_int,rand_flt"
   ]
  },
  {
   "cell_type": "markdown",
   "metadata": {},
   "source": [
    "Out of curiosity, what’s **inside** of random module? How we acutally ask the computers to generate random numbers?\n",
    "\n",
    "Luckily, unlike other similar commercial software such as Matlab, we can see the source code of random module directly: https://github.com/python/cpython/blob/3.8/Lib/random.py\n",
    "\n",
    "If this is your first time to see the real source code, you may feel it is a bit difficult to understand, with many functions in the python script under **Class** \"random\".\n",
    "\n",
    "### So this random module has been written by object-oriented programming(OOP). "
   ]
  },
  {
   "cell_type": "markdown",
   "metadata": {},
   "source": []
  },
  {
   "cell_type": "markdown",
   "metadata": {},
   "source": [
    "Then, what is OOP? \n",
    "\n",
    "Object-oriented programming (OOP) is a programming language model that organizes software design around **data**, or **objects**, rather than functions and logic. An object can be defined as a data field that has unique attributes and behavior.  \n"
   ]
  },
  {
   "cell_type": "markdown",
   "metadata": {},
   "source": [
    "### Why we need to use OOP?"
   ]
  },
  {
   "attachments": {},
   "cell_type": "markdown",
   "metadata": {},
   "source": [
    "A real-world example:\n",
    "- Let’s consider a physical object: a light bulb. A light (usually) has two possible states: on and off. \n",
    "- It also has functionality that allows you to change its state: you can turn it on and you can turn it off. \n",
    "- Thankfully, you don’t need to know electrical engineering to use the light! You only need to know how to interact with it.\n",
    "- 状态：开，关\n",
    "- 功能：打开，关闭\n",
    "- 有封装，我们不需要知道它的实际实现方式，只需要知道他的使用方式"
   ]
  },
  {
   "cell_type": "markdown",
   "metadata": {},
   "source": [
    "### Same as the light bulb, we do not always need to know the details of a specific module "
   ]
  },
  {
   "cell_type": "markdown",
   "metadata": {},
   "source": [
    "- Object-oriented programming (OOP) is a programming paradigm that allows you to package together data states and functionality to modify those data states, **while keeping the details hidden away** (like with the lightbulb). \n",
    "- As a result, code with OOP design is flexible, modular, and abstract. This makes it particularly useful when you create **larger programs**."
   ]
  },
  {
   "cell_type": "markdown",
   "metadata": {},
   "source": [
    "### Four major benefits of OOP"
   ]
  },
  {
   "attachments": {},
   "cell_type": "markdown",
   "metadata": {},
   "source": [
    "- **Encapsulation**: 封装in OOP, you bundle code into a single unit where you can determine the scope of each piece of data.\n",
    "- **Abstraction**: 抽象by using classes, you are able to generalize your object types, **simplifying** 简化your program.\n",
    "- **Inheritance**:继承 because a class can inherit attributes and behaviors from another class, you are able to **reuse** 复用more code.\n",
    "- **Polymorphism**: 多态one class can be used to create many objects, all from the same flexible piece of code.其实就是调用一次，就生成一个实例\n",
    "\n",
    "\n"
   ]
  },
  {
   "cell_type": "markdown",
   "metadata": {
    "deletable": true,
    "editable": true
   },
   "source": [
    "### Let's look at a real example of OOP"
   ]
  },
  {
   "cell_type": "markdown",
   "metadata": {
    "deletable": true,
    "editable": true
   },
   "source": [
    "Procedural vs Functional vs OOP to turn on/off the light bulb"
   ]
  },
  {
   "cell_type": "markdown",
   "metadata": {},
   "source": [
    "- Procedural"
   ]
  },
  {
   "cell_type": "code",
   "execution_count": 19,
   "metadata": {
    "collapsed": false,
    "deletable": true,
    "editable": true,
    "jupyter": {
     "outputs_hidden": false
    }
   },
   "outputs": [
    {
     "name": "stdout",
     "output_type": "stream",
     "text": [
      "True\n",
      "False\n",
      "True\n"
     ]
    }
   ],
   "source": [
    "#这种手动调节其实很不舒服\n",
    "b1_switch=True\n",
    "print(b1_switch)\n",
    "b1_switch=False\n",
    "print(b1_switch)\n",
    "b1_switch=True\n",
    "print(b1_switch)"
   ]
  },
  {
   "cell_type": "markdown",
   "metadata": {
    "deletable": true,
    "editable": true
   },
   "source": [
    "- Functional"
   ]
  },
  {
   "cell_type": "code",
   "execution_count": 20,
   "metadata": {
    "collapsed": false,
    "deletable": true,
    "editable": true,
    "jupyter": {
     "outputs_hidden": false
    }
   },
   "outputs": [
    {
     "name": "stdout",
     "output_type": "stream",
     "text": [
      "False\n",
      "True\n",
      "True\n",
      "False\n"
     ]
    }
   ],
   "source": [
    "# 引用函数之后会显得比较简洁，同时可以自定义，\n",
    "# 但是需要一个问题就是需要自己设置名称之类的\n",
    "# True: light on\n",
    "# Flase: light off\n",
    "\n",
    "def bulb_switch(b):\n",
    "    if b==True:\n",
    "        return(False)\n",
    "    if b==False:\n",
    "        return(True)\n",
    "bulb1=False\n",
    "print(bulb1)\n",
    "print(bulb_switch(bulb1))\n",
    "\n",
    "bulb2=True\n",
    "print(bulb2)\n",
    "print (bulb_switch(bulb2))\n"
   ]
  },
  {
   "cell_type": "markdown",
   "metadata": {},
   "source": [
    "- OOP"
   ]
  },
  {
   "cell_type": "markdown",
   "metadata": {
    "deletable": true,
    "editable": true
   },
   "source": [
    "Using module concept, we transform the code into the following logic. A light bulb object has a switch, we can turn it on. we also can report it's status. \n",
    "\n",
    "Note the main() function to \n",
    "- (a) instaintiate a light bulb object \n",
    "- (b) call the method to turn it on etc. \n",
    "\n",
    "ALSO,  the __name__ variable tells python shell the execution point. With this stucture, if we copy this cell to a .py file, you can execute it as a standalone python file."
   ]
  },
  {
   "cell_type": "code",
   "execution_count": 21,
   "metadata": {
    "collapsed": false,
    "deletable": true,
    "editable": true,
    "jupyter": {
     "outputs_hidden": false
    }
   },
   "outputs": [],
   "source": [
    "# 这里是定义 \n",
    "class bulb():\n",
    "    \n",
    "    'here is a test of defining bulb'\n",
    "# 我们可以看到他其实没有对b.switch 进行预先定义，而是准备接受b，但是调用了b.switch\n",
    "# 检测开关状态\n",
    "def print_onoff(b):\n",
    "    if b.switch==True:\n",
    "        print ('this bulb is on')\n",
    "    else:\n",
    "        print ('this bulb is off')\n",
    "# 调整开关到打开状态\n",
    "def bulb_switch_on(b):\n",
    "    # 如果是开的 那就过\n",
    "    if b.switch==True:\n",
    "        pass\n",
    "    # 如果是关闭的，那就开\n",
    "    if  b.switch==False:\n",
    "        b.switch=True"
   ]
  },
  {
   "cell_type": "code",
   "execution_count": 22,
   "metadata": {},
   "outputs": [
    {
     "name": "stdout",
     "output_type": "stream",
     "text": [
      "__main__\n",
      "False\n",
      "this bulb is off\n",
      "True\n",
      "this bulb is on\n"
     ]
    }
   ],
   "source": [
    "# 主程序入口\n",
    "def main():\n",
    "# b1 is a bulb object, so it will have 2 functions (print_onoff, bulb_switch_on) you can use.\n",
    "# 这里是b1的声明，也就是在生命周期的初始化\n",
    "    b1=bulb()\n",
    "# set b1 as off\n",
    "    b1.switch=False\n",
    "    print(b1.switch)\n",
    "# show the current status\n",
    "    print_onoff(b1)\n",
    "# switch on the bulb\n",
    "    bulb_switch_on(b1)\n",
    "    print(b1.switch)\n",
    "# show the current status\n",
    "    print_onoff(b1)\n",
    "\n",
    "if __name__=='__main__':\n",
    "    print (__name__)\n",
    "    main()"
   ]
  },
  {
   "attachments": {},
   "cell_type": "markdown",
   "metadata": {
    "deletable": true,
    "editable": true
   },
   "source": [
    "The following structure make the module more clear. We use __init__ function to declare variables that are bulb's switch status (default is false i.e. off) and bulb_name. Note the indentation of the 'functions'. They are nested into the module and becomes the 'methods' of a bulb. Also, note the way any bulb referring to 'self'! \n",
    "\n",
    "这里就是设置初始化相关内容。"
   ]
  },
  {
   "cell_type": "code",
   "execution_count": 28,
   "metadata": {
    "collapsed": false,
    "deletable": true,
    "editable": true,
    "jupyter": {
     "outputs_hidden": false
    }
   },
   "outputs": [],
   "source": [
    "class bulb():\n",
    "    'here is a test of defining bulb'\n",
    "    #注意这里多了初始化，self其实是可以换成任何的，但是所有的__init__需要的参数，第一个都是self，也就是自指代，指代自己的这一个实例\n",
    "    def __init__(self, bulb_status=False,bulb_name='PTUA2021_bulb'):\n",
    "        self.switch=bulb_status #定义了开关状态\n",
    "        self.bulb_name=bulb_name # 定义了灯泡名称\n",
    "    # 打印当前开关状态\n",
    "    def print_onoff(self):\n",
    "#         print (__name__)\n",
    "\n",
    "        # 这里就是判断switch的对错\n",
    "        if self.switch==True:\n",
    "            print ('this is %s. I am on'%self.bulb_name)\n",
    "        else:\n",
    "            print ('this is %s. I am off'%self.bulb_name)\n",
    "    # 动作，设置灯泡状态-->打开 如果已经开了就没事\n",
    "    def bulb_switch_on(self):\n",
    "\n",
    "        if self.switch==True:\n",
    "            pass\n",
    "        if self.switch==False:\n",
    "            self.switch=True\n",
    "    # 动作，设置状态为关\n",
    "    def bulb_switch_off(self):\n",
    "\n",
    "        if self.switch==False:\n",
    "            pass\n",
    "        if self.switch==True:\n",
    "            self.switch=False"
   ]
  },
  {
   "cell_type": "code",
   "execution_count": 34,
   "metadata": {},
   "outputs": [
    {
     "name": "stdout",
     "output_type": "stream",
     "text": [
      "<class '__main__.bulb'>\n",
      "False\n",
      "PTUA2021_bulb\n",
      "PTUA2021_bulb\n",
      "PTUA2021_bulb\n",
      "PTUA2021_bulb\n"
     ]
    }
   ],
   "source": [
    "b1=bulb()\n",
    "# 测试b1的类型\n",
    "print(type(b1))\n",
    "# 检查初始化后的状态\n",
    "print(b1.switch)\n",
    "print(b1.bulb_name)\n",
    "print(b1.bulb_name)\n",
    "print(b1.bulb_name)\n",
    "print(b1.bulb_name)\n"
   ]
  },
  {
   "cell_type": "code",
   "execution_count": 25,
   "metadata": {},
   "outputs": [
    {
     "name": "stdout",
     "output_type": "stream",
     "text": [
      "False\n",
      "PTUA 2021 bulb2\n",
      "this is PTUA 2021 bulb2. I am off\n",
      "this is PTUA 2021 bulb2. I am on\n",
      "this is PTUA 2021 bulb2. I am off\n"
     ]
    }
   ],
   "source": [
    "# 这里就是自定义参数啦\n",
    "b2=bulb(bulb_status=False,bulb_name='PTUA 2021 bulb2')\n",
    "\n",
    "print(b2.switch)\n",
    "print(b2.bulb_name)\n",
    "\n",
    "# print current bulb status\n",
    "b2.print_onoff()\n",
    "\n",
    "# switch the bulb on\n",
    "b2.bulb_switch_on()\n",
    "b2.print_onoff()\n",
    "\n",
    "# switch the bulb off\n",
    "b2.bulb_switch_off()\n",
    "b2.print_onoff()\n"
   ]
  },
  {
   "attachments": {},
   "cell_type": "markdown",
   "metadata": {
    "deletable": true,
    "editable": true
   },
   "source": [
    "The above way of defining a moduel can be imported just as previous 'random' library. Try to copy the class, store it as bulb.py file (**you will import the module with the same name**) in the same folder of your jupyter notebook. You can import the bulb module and instanticate it without worry about the details of defining it. \n",
    "上面的函数其实已经定义了一个模块，可以正常引用了。引用方式就是文件名称。"
   ]
  },
  {
   "cell_type": "code",
   "execution_count": 26,
   "metadata": {
    "collapsed": false,
    "deletable": true,
    "editable": true,
    "jupyter": {
     "outputs_hidden": false
    }
   },
   "outputs": [
    {
     "name": "stdout",
     "output_type": "stream",
     "text": [
      "__main__\n",
      "<bulb.bulb object at 0x7f9ed05e1570>\n",
      "False\n",
      "this is b3. I am off\n",
      "this is b3. I am on\n",
      "this is b3. I am off\n"
     ]
    }
   ],
   "source": [
    "from importlib import reload\n",
    "import bulb\n",
    "reload(bulb)\n",
    "\n",
    "print(__name__)\n",
    "b3=bulb.bulb(bulb_name='b3')\n",
    "# 大部分类型在经过print输出时显得有些晦涩----它输出一个字符串，包含一个十六进制数表示对象的内存地址\n",
    "print(b3)\n",
    "\n",
    "# 下面开关了三次，就测试了三次状态\n",
    "print(b3.switch) # 这里是先看了一下当前状态，默认是off\n",
    "b3.print_onoff()\n",
    "\n",
    "b3.bulb_switch_on()\n",
    "b3.print_onoff()\n",
    "\n",
    "b3.bulb_switch_off()\n",
    "b3.print_onoff()"
   ]
  },
  {
   "cell_type": "code",
   "execution_count": null,
   "metadata": {},
   "outputs": [],
   "source": []
  }
 ],
 "metadata": {
  "kernelspec": {
   "display_name": "Python 3",
   "language": "python",
   "name": "python3"
  },
  "language_info": {
   "codemirror_mode": {
    "name": "ipython",
    "version": 3
   },
   "file_extension": ".py",
   "mimetype": "text/x-python",
   "name": "python",
   "nbconvert_exporter": "python",
   "pygments_lexer": "ipython3",
   "version": "3.10.4"
  },
  "vscode": {
   "interpreter": {
    "hash": "3ad933181bd8a04b432d3370b9dc3b0662ad032c4dfaa4e4f1596c548f763858"
   }
  }
 },
 "nbformat": 4,
 "nbformat_minor": 4
}
