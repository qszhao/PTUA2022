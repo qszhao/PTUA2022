{
 "cells": [
  {
   "cell_type": "code",
   "execution_count": 94,
   "metadata": {},
   "outputs": [],
   "source": [
    "import random\n",
    "import math\n",
    "import matplotlib.pyplot as plt\n",
    "import statistics"
   ]
  },
  {
   "cell_type": "code",
   "execution_count": 95,
   "metadata": {},
   "outputs": [],
   "source": [
    "pi = math.pi"
   ]
  },
  {
   "cell_type": "code",
   "execution_count": 96,
   "metadata": {},
   "outputs": [
    {
     "data": {
      "text/plain": [
       "3.141592653589793"
      ]
     },
     "execution_count": 96,
     "metadata": {},
     "output_type": "execute_result"
    }
   ],
   "source": [
    "pi"
   ]
  },
  {
   "cell_type": "markdown",
   "metadata": {},
   "source": [
    "Values of the convergence criteria is 0.01:"
   ]
  },
  {
   "cell_type": "code",
   "execution_count": 97,
   "metadata": {},
   "outputs": [
    {
     "name": "stdout",
     "output_type": "stream",
     "text": [
      "Number: 1\n",
      "Estimate of Pi: 3.142857142857143\n",
      "Number of draws required: 14\n",
      "Number: 2\n",
      "Estimate of Pi: 3.111111111111111\n",
      "Number of draws required: 4\n",
      "Number: 3\n",
      "Estimate of Pi: 3.1578947368421053\n",
      "Number of draws required: 1\n",
      "Number: 4\n",
      "Estimate of Pi: 3.1578947368421053\n",
      "Number of draws required: 19\n",
      "Number: 5\n",
      "Estimate of Pi: 3.1219512195121952\n",
      "Number of draws required: 3\n",
      "Number: 6\n",
      "Estimate of Pi: 3.142857142857143\n",
      "Number of draws required: 1\n",
      "Number: 7\n",
      "Estimate of Pi: 3.1627906976744184\n",
      "Number of draws required: 1\n",
      "Number: 8\n",
      "Estimate of Pi: 3.130434782608696\n",
      "Number of draws required: 3\n",
      "Number: 9\n",
      "Estimate of Pi: 3.148936170212766\n",
      "Number of draws required: 1\n",
      "Number: 10\n",
      "Estimate of Pi: 3.12\n",
      "Number of draws required: 3\n",
      "Total number of draws required from the 10 runs: 50\n",
      "Average number of draws required from the 10 runs: 5.0\n",
      "Standard deviation of the number of draws required from the 10 runs: 6.27162924074226\n"
     ]
    }
   ],
   "source": [
    "n = 0 # number of points falling in the unit circle\n",
    "d = 0 # number of points falling in the unit square\n",
    "i = 1\n",
    "a = 0\n",
    "b = 0\n",
    "data = [0,0,0,0,0,0,0,0,0,0]\n",
    "while d < 1000000:\n",
    "    x = random.random()\n",
    "    y = random.random()\n",
    "    if x**2 + y**2 <= 1.0:\n",
    "        n += 1\n",
    "    d += 1\n",
    "    a += 1\n",
    "    ratio = 4 * n * 1./d\n",
    "    if abs(ratio-pi) / pi <= 0.01:\n",
    "        print(\"Number:\", i)\n",
    "        print(\"Estimate of Pi:\", ratio)\n",
    "        print(\"Number of draws required:\", a)\n",
    "        data[i-1] = a\n",
    "        i +=1\n",
    "        b = b + a\n",
    "        a = 0\n",
    "    if i > 10:\n",
    "        print(\"Total number of draws required from the 10 runs:\", d)\n",
    "        b = b/10\n",
    "        print(\"Average number of draws required from the 10 runs:\", b)\n",
    "        print(\"Standard deviation of the number of draws required from the 10 runs:\", statistics.stdev(data))\n",
    "        break"
   ]
  },
  {
   "cell_type": "markdown",
   "metadata": {},
   "source": [
    "Values of the convergence criteria is 0.001:"
   ]
  },
  {
   "cell_type": "code",
   "execution_count": 98,
   "metadata": {},
   "outputs": [
    {
     "name": "stdout",
     "output_type": "stream",
     "text": [
      "Number: 1\n",
      "Estimate of Pi: 3.142857142857143\n",
      "Number of draws required: 42\n",
      "Number: 2\n",
      "Estimate of Pi: 3.142857142857143\n",
      "Number of draws required: 14\n",
      "Number: 3\n",
      "Estimate of Pi: 3.1384615384615384\n",
      "Number of draws required: 74\n",
      "Number: 4\n",
      "Estimate of Pi: 3.139784946236559\n",
      "Number of draws required: 56\n",
      "Number: 5\n",
      "Estimate of Pi: 3.144385026737968\n",
      "Number of draws required: 1\n",
      "Number: 6\n",
      "Estimate of Pi: 3.1446111869031377\n",
      "Number of draws required: 8609\n",
      "Number: 7\n",
      "Estimate of Pi: 3.144253722860066\n",
      "Number of draws required: 1\n",
      "Number: 8\n",
      "Estimate of Pi: 3.1443509888611048\n",
      "Number of draws required: 1\n",
      "Number: 9\n",
      "Estimate of Pi: 3.144448232753722\n",
      "Number of draws required: 1\n",
      "Number: 10\n",
      "Estimate of Pi: 3.1445454545454545\n",
      "Number of draws required: 1\n",
      "Total number of draws required from the 10 runs: 8800\n",
      "Average number of draws required from the 10 runs: 880.0\n",
      "Standard deviation of the number of draws required from the 10 runs: 2715.8272322729877\n"
     ]
    }
   ],
   "source": [
    "n = 0 # number of points falling in the unit circle\n",
    "d = 0 # number of points falling in the unit square\n",
    "i = 1\n",
    "a = 0\n",
    "b = 0\n",
    "data = [0,0,0,0,0,0,0,0,0,0]\n",
    "while d < 1000000:\n",
    "    x = random.random()\n",
    "    y = random.random()\n",
    "    if x**2 + y**2 <= 1.0:\n",
    "        n += 1\n",
    "    d += 1\n",
    "    a += 1\n",
    "    ratio = 4 * n * 1./d\n",
    "    if abs(ratio-pi) / pi <= 0.001:\n",
    "        print(\"Number:\", i)\n",
    "        print(\"Estimate of Pi:\", ratio)\n",
    "        print(\"Number of draws required:\", a)\n",
    "        data[i-1] = a\n",
    "        i +=1\n",
    "        b = b + a\n",
    "        a = 0\n",
    "    if i > 10:\n",
    "        print(\"Total number of draws required from the 10 runs:\", d)\n",
    "        b = b/10\n",
    "        print(\"Average number of draws required from the 10 runs:\", b)\n",
    "        print(\"Standard deviation of the number of draws required from the 10 runs:\", statistics.stdev(data))\n",
    "        break"
   ]
  },
  {
   "cell_type": "markdown",
   "metadata": {},
   "source": [
    "Values of the convergence criteria is 0.0001:"
   ]
  },
  {
   "cell_type": "code",
   "execution_count": 99,
   "metadata": {},
   "outputs": [
    {
     "name": "stdout",
     "output_type": "stream",
     "text": [
      "Number: 1\n",
      "Estimate of Pi: 3.1418785677218475\n",
      "Number of draws required: 9635\n",
      "Number: 2\n",
      "Estimate of Pi: 3.141552511415525\n",
      "Number of draws required: 1\n",
      "Number: 3\n",
      "Estimate of Pi: 3.14164158970634\n",
      "Number of draws required: 1\n",
      "Number: 4\n",
      "Estimate of Pi: 3.141315625648475\n",
      "Number of draws required: 1\n",
      "Number: 5\n",
      "Estimate of Pi: 3.141404710032161\n",
      "Number of draws required: 1\n",
      "Number: 6\n",
      "Estimate of Pi: 3.14149377593361\n",
      "Number of draws required: 1\n",
      "Number: 7\n",
      "Estimate of Pi: 3.141582823358573\n",
      "Number of draws required: 1\n",
      "Number: 8\n",
      "Estimate of Pi: 3.141671852312798\n",
      "Number of draws required: 1\n",
      "Number: 9\n",
      "Estimate of Pi: 3.1417608628020326\n",
      "Number of draws required: 1\n",
      "Number: 10\n",
      "Estimate of Pi: 3.14184985483202\n",
      "Number of draws required: 1\n",
      "Total number of draws required from the 10 runs: 9644\n",
      "Average number of draws required from the 10 runs: 964.4\n",
      "Standard deviation of the number of draws required from the 10 runs: 3046.5382978062166\n"
     ]
    }
   ],
   "source": [
    "n = 0 # number of points falling in the unit circle\n",
    "d = 0 # number of points falling in the unit square\n",
    "i = 1\n",
    "a = 0\n",
    "b = 0\n",
    "data = [0,0,0,0,0,0,0,0,0,0]\n",
    "while d < 1000000:\n",
    "    x = random.random()\n",
    "    y = random.random()\n",
    "    if x**2 + y**2 <= 1.0:\n",
    "        n += 1\n",
    "    d += 1\n",
    "    a += 1\n",
    "    ratio = 4 * n * 1./d\n",
    "    if abs(ratio-pi) / pi <= 0.0001:\n",
    "        print(\"Number:\", i)\n",
    "        print(\"Estimate of Pi:\", ratio)\n",
    "        print(\"Number of draws required:\", a)\n",
    "        data[i-1] = a\n",
    "        i +=1\n",
    "        b = b + a\n",
    "        a = 0\n",
    "    if i > 10:\n",
    "        print(\"Total number of draws required from the 10 runs:\", d)\n",
    "        b = b/10\n",
    "        print(\"Average number of draws required from the 10 runs:\", b)\n",
    "        print(\"Standard deviation of the number of draws required from the 10 runs:\", statistics.stdev(data))\n",
    "        break"
   ]
  },
  {
   "cell_type": "markdown",
   "metadata": {},
   "source": [
    "Values of the convergence criteria is 0.00001:"
   ]
  },
  {
   "cell_type": "code",
   "execution_count": 100,
   "metadata": {},
   "outputs": [
    {
     "name": "stdout",
     "output_type": "stream",
     "text": [
      "Number: 1\n",
      "Estimate of Pi: 3.141594182232996\n",
      "Number of draws required: 7013\n",
      "Number: 2\n",
      "Estimate of Pi: 3.141614035087719\n",
      "Number of draws required: 112\n",
      "Number: 3\n",
      "Estimate of Pi: 3.1415748674010606\n",
      "Number of draws required: 228\n",
      "Number: 4\n",
      "Estimate of Pi: 3.1416145691764066\n",
      "Number of draws required: 5\n",
      "Number: 5\n",
      "Estimate of Pi: 3.14157730419438\n",
      "Number of draws required: 9\n",
      "Number: 6\n",
      "Estimate of Pi: 3.14158215010142\n",
      "Number of draws required: 28\n",
      "Number: 7\n",
      "Estimate of Pi: 3.1415845593197465\n",
      "Number of draws required: 14\n",
      "Number: 8\n",
      "Estimate of Pi: 3.1415742208135233\n",
      "Number of draws required: 163\n",
      "Number: 9\n",
      "Estimate of Pi: 3.1416150704781978\n",
      "Number of draws required: 19\n",
      "Number: 10\n",
      "Estimate of Pi: 3.1416173570019725\n",
      "Number of draws required: 14\n",
      "Total number of draws required from the 10 runs: 7605\n",
      "Average number of draws required from the 10 runs: 760.5\n",
      "Standard deviation of the number of draws required from the 10 runs: 2198.264631223659\n"
     ]
    }
   ],
   "source": [
    "n = 0 # number of points falling in the unit circle\n",
    "d = 0 # number of points falling in the unit square\n",
    "i = 1\n",
    "a = 0\n",
    "b = 0\n",
    "data = [0,0,0,0,0,0,0,0,0,0]\n",
    "while d < 1000000:\n",
    "    x = random.random()\n",
    "    y = random.random()\n",
    "    if x**2 + y**2 <= 1.0:\n",
    "        n += 1\n",
    "    d += 1\n",
    "    a += 1\n",
    "    ratio = 4 * n * 1./d\n",
    "    if abs(ratio-pi) / pi <= 0.00001:\n",
    "        print(\"Number:\", i)\n",
    "        print(\"Estimate of Pi:\", ratio)\n",
    "        print(\"Number of draws required:\", a)\n",
    "        data[i-1] = a\n",
    "        i +=1\n",
    "        b = b + a\n",
    "        a = 0\n",
    "    if i > 10:\n",
    "        print(\"Total number of draws required from the 10 runs:\", d)\n",
    "        b = b/10\n",
    "        print(\"Average number of draws required from the 10 runs:\", b)\n",
    "        print(\"Standard deviation of the number of draws required from the 10 runs:\", statistics.stdev(data))\n",
    "        break"
   ]
  },
  {
   "cell_type": "code",
   "execution_count": null,
   "metadata": {},
   "outputs": [],
   "source": []
  }
 ],
 "metadata": {
  "kernelspec": {
   "display_name": "Python 3",
   "language": "python",
   "name": "python3"
  },
  "language_info": {
   "codemirror_mode": {
    "name": "ipython",
    "version": 3
   },
   "file_extension": ".py",
   "mimetype": "text/x-python",
   "name": "python",
   "nbconvert_exporter": "python",
   "pygments_lexer": "ipython3",
   "version": "3.8.3"
  }
 },
 "nbformat": 4,
 "nbformat_minor": 4
}
