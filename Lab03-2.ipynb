{
 "cells": [
  {
   "cell_type": "code",
   "execution_count": 6,
   "id": "507758d6",
   "metadata": {},
   "outputs": [],
   "source": [
    "import random\n",
    "import statistics\n",
    "import math\n",
    "import matplotlib.pyplot as plt"
   ]
  },
  {
   "cell_type": "code",
   "execution_count": 7,
   "id": "9004ac0d",
   "metadata": {},
   "outputs": [],
   "source": [
    "pi = math.pi # our benchmark that we want to estimate using simulation"
   ]
  },
  {
   "cell_type": "code",
   "execution_count": 18,
   "id": "c7131d75",
   "metadata": {},
   "outputs": [
    {
     "name": "stdout",
     "output_type": "stream",
     "text": [
      "Number: 1\n",
      "Estimate of Pi: 3.111111111111111\n",
      "Number of draws required: 18\n",
      "Number: 2\n",
      "Estimate of Pi: 3.1578947368421053\n",
      "Number of draws required: 1\n",
      "Number: 3\n",
      "Estimate of Pi: 3.1724137931034484\n",
      "Number of draws required: 10\n",
      "Number: 4\n",
      "Estimate of Pi: 3.111111111111111\n",
      "Number of draws required: 7\n",
      "Number: 5\n",
      "Estimate of Pi: 3.1147540983606556\n",
      "Number of draws required: 86\n",
      "Number: 6\n",
      "Estimate of Pi: 3.111111111111111\n",
      "Number of draws required: 4\n",
      "Number: 7\n",
      "Estimate of Pi: 3.112781954887218\n",
      "Number of draws required: 140\n",
      "Number: 8\n",
      "Estimate of Pi: 3.1161048689138577\n",
      "Number of draws required: 1\n",
      "Number: 9\n",
      "Estimate of Pi: 3.1194029850746268\n",
      "Number of draws required: 1\n",
      "Number: 10\n",
      "Estimate of Pi: 3.111111111111111\n",
      "Number of draws required: 2\n",
      "draw limit was exceeded.\n",
      "The percentage difference between the current estimate of Pi and the true value: 0.9749875773985281 %\n",
      "Average number of draws required from the 10 runs: 27.0\n",
      "Standard deviation of the number of draws required from the 10 runs: 47.37791327893902\n"
     ]
    }
   ],
   "source": [
    "n = 0 # number of points falling in the unit circle\n",
    "d = 0 # number of points falling in the unit square\n",
    "i = 1\n",
    "a = 0\n",
    "b = 0\n",
    "data = [0,0,0,0,0,0,0,0,0,0]\n",
    "while d < 1000000:\n",
    "    x = random.random()\n",
    "    y = random.random()\n",
    "    if x**2 + y**2 <= 1.0:\n",
    "        n += 1\n",
    "    d += 1\n",
    "    a += 1\n",
    "    ratio = 4 * n * 1./d\n",
    "    if abs(ratio-pi) / pi <= 0.01:\n",
    "        print(\"Number:\", i)\n",
    "        print(\"Estimate of Pi:\", ratio)\n",
    "        print(\"Number of draws required:\", a)\n",
    "        data[i-1] = a\n",
    "        i +=1\n",
    "        b = b + a\n",
    "        a = 0\n",
    "    if i > 10:\n",
    "        print(\"draw limit was exceeded.\")\n",
    "        m=100 * (pi - ratio) / ((ratio + pi) / 2)\n",
    "        print(\"The percentage difference between the current estimate of Pi and the true value:\", m,\"%\")\n",
    "        b = b/10\n",
    "        print(\"Average number of draws required from the 10 runs:\", b)\n",
    "        print(\"Standard deviation of the number of draws required from the 10 runs:\", statistics.stdev(data))\n",
    "        break"
   ]
  }
 ],
 "metadata": {
  "kernelspec": {
   "display_name": "Python 3 (ipykernel)",
   "language": "python",
   "name": "python3"
  },
  "language_info": {
   "codemirror_mode": {
    "name": "ipython",
    "version": 3
   },
   "file_extension": ".py",
   "mimetype": "text/x-python",
   "name": "python",
   "nbconvert_exporter": "python",
   "pygments_lexer": "ipython3",
   "version": "3.9.7"
  }
 },
 "nbformat": 4,
 "nbformat_minor": 5
}
