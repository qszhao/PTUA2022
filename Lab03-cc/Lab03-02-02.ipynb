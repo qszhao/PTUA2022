{
 "cells": [
  {
   "cell_type": "markdown",
   "id": "efa5dd30",
   "metadata": {},
   "source": [
    "### For different values of the convergence criteria [0.01, 0.001, 0.0001, 0.00001] generate 10 estimates of Pi."
   ]
  },
  {
   "cell_type": "code",
   "execution_count": 16,
   "id": "422b1482",
   "metadata": {},
   "outputs": [],
   "source": [
    "import random #注意这个不是numpy的random，是random这个packge的random\n",
    "import math\n",
    "pi = math.pi"
   ]
  },
  {
   "cell_type": "code",
   "execution_count": 24,
   "id": "ac2d0697",
   "metadata": {},
   "outputs": [
    {
     "name": "stdout",
     "output_type": "stream",
     "text": [
      "4.0\n",
      "4.0\n",
      "2.6666666666666665\n",
      "3.0\n",
      "3.2\n",
      "3.3333333333333335\n",
      "2.857142857142857\n",
      "2.5\n",
      "2.6666666666666665\n",
      "2.8\n",
      "2.5454545454545454\n",
      "2.6666666666666665\n",
      "2.769230769230769\n",
      "2.857142857142857\n",
      "2.933333333333333\n",
      "3.0\n",
      "3.0588235294117645\n",
      "3.111111111111111\n",
      "Draws needed:  18\n"
     ]
    }
   ],
   "source": [
    "convergence_criterion1 = 0.01\n",
    "n1 = 0\n",
    "d1 = 0\n",
    "EstimatedPiList = [] #定义一个List\n",
    "xs = []\n",
    "ys = []\n",
    "simulating = True # use as a sentinel\n",
    "while simulating:\n",
    "    x = random.random()\n",
    "    y = random.random()\n",
    "    xs.append(x)\n",
    "    ys.append(y)\n",
    "    if x**2 + y**2 <= 1.0:\n",
    "        n1 += 1\n",
    "    d1 += 1\n",
    "    EstimatedPi = 4 * n1 * 1./d1\n",
    "    \n",
    "    print(EstimatedPi)\n",
    "    EstimatedPiList.append(EstimatedPi) #定义一个list不断加上新生成的EstimatedPi\n",
    "    if abs(EstimatedPi-pi) / pi <= 0.01:#把定义的string转化成float\n",
    "        print(\"Draws needed: \", d1)\n",
    "        break"
   ]
  },
  {
   "cell_type": "code",
   "execution_count": 53,
   "id": "c088153b",
   "metadata": {},
   "outputs": [],
   "source": [
    "def piloop(criterion = 0.01):\n",
    "    n1 = 0\n",
    "    d1 = 0\n",
    "    EstimatedPiList = [] #定义一个List\n",
    "    xs = []\n",
    "    ys = []\n",
    "    simulating = True # use as a sentinel\n",
    "    while simulating:\n",
    "        x = random.random()\n",
    "        y = random.random()\n",
    "        xs.append(x)\n",
    "        ys.append(y)\n",
    "        if x**2 + y**2 <= 1.0:\n",
    "            n1 += 1\n",
    "        d1 += 1\n",
    "        EstimatedPi = 4 * n1 * 1./d1\n",
    "        if abs(EstimatedPi-pi) / pi <= criterion:#把定义的string转化成float\n",
    "            break\n",
    "    return EstimatedPi #用print（EstimatedPi会输出一个None，用return就不会）"
   ]
  },
  {
   "cell_type": "code",
   "execution_count": 54,
   "id": "d5718307",
   "metadata": {},
   "outputs": [
    {
     "name": "stdout",
     "output_type": "stream",
     "text": [
      "3.111111111111111\n",
      "3.111111111111111\n",
      "3.142857142857143\n",
      "3.111111111111111\n",
      "3.172831494700411\n",
      "3.111111111111111\n",
      "3.1104387291981848\n",
      "3.1708126036484248\n",
      "3.111111111111111\n",
      "3.111111111111111\n"
     ]
    }
   ],
   "source": [
    "for i in range(10):\n",
    "    print(piloop(0.01))"
   ]
  },
  {
   "cell_type": "markdown",
   "id": "8cbc00f2",
   "metadata": {},
   "source": [
    "### convergence criterion 为0.01"
   ]
  },
  {
   "cell_type": "code",
   "execution_count": 69,
   "id": "710808a0",
   "metadata": {},
   "outputs": [
    {
     "name": "stdout",
     "output_type": "stream",
     "text": [
      "3.12602235366698\n"
     ]
    }
   ],
   "source": [
    "mean1 = 0\n",
    "for i in range(10):\n",
    "    mean1 += piloop(0.01)\n",
    "print(mean1/10)"
   ]
  },
  {
   "cell_type": "code",
   "execution_count": 79,
   "id": "50e00554",
   "metadata": {
    "scrolled": true
   },
   "outputs": [
    {
     "name": "stdout",
     "output_type": "stream",
     "text": [
      "when converfence criterion is 0.01, the average number of draws required from the 10 runs is 3.1312311307807272, standard deviation of the number of draws required from the 10 runs is 0.021844851388129513\n"
     ]
    }
   ],
   "source": [
    "#只能转化为list和array再用np算标准差！烦死了！\n",
    "import numpy as np\n",
    "x = 0\n",
    "xlist = []\n",
    "for i in range(10):\n",
    "    x = piloop(0.01)\n",
    "    xlist.append(x)\n",
    "xarray = np.array(xlist)\n",
    "print(\"When converfence criterion is 0.01, the average number of draws required from the 10 runs is \" + str(np.mean(xarray)) + \", standard deviation of the number of draws required from the 10 runs is \" + str(np.std(xarray)))\n"
   ]
  },
  {
   "cell_type": "markdown",
   "id": "d4a97623",
   "metadata": {},
   "source": [
    "### convergence criterion 为0.001"
   ]
  },
  {
   "cell_type": "code",
   "execution_count": 83,
   "id": "f9cf124d",
   "metadata": {},
   "outputs": [
    {
     "name": "stdout",
     "output_type": "stream",
     "text": [
      "When converfence criterion is 0.001, the average number of draws required from the 10 runs is 3.1413008909443128, standard deviation of the number of draws required from the 10 runs is 0.002122221107493722\n"
     ]
    }
   ],
   "source": [
    "x1 = 0\n",
    "xlist1 = []\n",
    "for i in range(10):\n",
    "    x1 = piloop(0.001)\n",
    "    xlist1.append(x1)\n",
    "xarray1 = np.array(xlist1)\n",
    "print(\"When converfence criterion is 0.001, the average number of draws required from the 10 runs is \" + str(np.mean(xarray1)) + \", standard deviation of the number of draws required from the 10 runs is \" + str(np.std(xarray1)))\n"
   ]
  },
  {
   "cell_type": "markdown",
   "id": "e90bfe91",
   "metadata": {},
   "source": [
    "### convergence criterion 为0.0001"
   ]
  },
  {
   "cell_type": "code",
   "execution_count": 84,
   "id": "76799654",
   "metadata": {},
   "outputs": [
    {
     "name": "stdout",
     "output_type": "stream",
     "text": [
      "When converfence criterion is 0.0001, the average number of draws required from the 10 runs is 3.141546544858853, standard deviation of the number of draws required from the 10 runs is 0.00019108409068354333\n"
     ]
    }
   ],
   "source": [
    "x2 = 0\n",
    "xlist2 = []\n",
    "for i in range(10):\n",
    "    x2 = piloop(0.0001)\n",
    "    xlist2.append(x2)\n",
    "xarray2 = np.array(xlist2)\n",
    "print(\"When converfence criterion is 0.0001, the average number of draws required from the 10 runs is \" + str(np.mean(xarray2)) + \", standard deviation of the number of draws required from the 10 runs is \" + str(np.std(xarray2)))\n"
   ]
  },
  {
   "cell_type": "markdown",
   "id": "d64ee918",
   "metadata": {},
   "source": [
    "### convergence criterion 为0.00001"
   ]
  },
  {
   "cell_type": "code",
   "execution_count": 87,
   "id": "9cf9706f",
   "metadata": {},
   "outputs": [
    {
     "name": "stdout",
     "output_type": "stream",
     "text": [
      "When converfence criterion is 0.00001, the average number of draws required from the 10 runs is 3.1415948662254807, standard deviation of the number of draws required from the 10 runs is 1.60924238772159e-05\n"
     ]
    }
   ],
   "source": [
    "x3 = 0\n",
    "xlist3 = []\n",
    "for i in range(10):\n",
    "    x3 = piloop(0.00001)\n",
    "    xlist3.append(x3)\n",
    "xarray3 = np.array(xlist3)\n",
    "print(\"When converfence criterion is 0.00001, the average number of draws required from the 10 runs is \" + str(np.mean(xarray3)) + \", standard deviation of the number of draws required from the 10 runs is \" + str(np.std(xarray3)))\n"
   ]
  }
 ],
 "metadata": {
  "kernelspec": {
   "display_name": "Python 3 (ipykernel)",
   "language": "python",
   "name": "python3"
  },
  "language_info": {
   "codemirror_mode": {
    "name": "ipython",
    "version": 3
   },
   "file_extension": ".py",
   "mimetype": "text/x-python",
   "name": "python",
   "nbconvert_exporter": "python",
   "pygments_lexer": "ipython3",
   "version": "3.9.13"
  }
 },
 "nbformat": 4,
 "nbformat_minor": 5
}
