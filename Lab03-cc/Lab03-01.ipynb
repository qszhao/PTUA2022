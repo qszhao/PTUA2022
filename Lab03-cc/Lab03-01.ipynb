{
 "cells": [
  {
   "cell_type": "code",
   "execution_count": null,
   "id": "76bb1e1d",
   "metadata": {},
   "outputs": [],
   "source": []
  },
  {
   "cell_type": "markdown",
   "id": "148648f0",
   "metadata": {},
   "source": [
    "# Chapter 2"
   ]
  },
  {
   "cell_type": "markdown",
   "id": "372dc178",
   "metadata": {},
   "source": [
    "## exercise 1"
   ]
  },
  {
   "cell_type": "code",
   "execution_count": null,
   "id": "ae8f4c0e",
   "metadata": {},
   "outputs": [],
   "source": [
    "#1.We’ve seen that n = 42 is legal. What about 42 = n?\n",
    "#n=2 is legal\n",
    "#However variable could not be numbers,so 42=n is illegal"
   ]
  },
  {
   "cell_type": "code",
   "execution_count": 1,
   "id": "9077c936",
   "metadata": {
    "scrolled": true
   },
   "outputs": [
    {
     "name": "stdout",
     "output_type": "stream",
     "text": [
      "1 1\n"
     ]
    }
   ],
   "source": [
    "#How about x = y = 1?\n",
    "x = y = 1\n",
    "print(x,y)\n",
    "#x=y=1 is also legal"
   ]
  },
  {
   "cell_type": "code",
   "execution_count": 5,
   "id": "d76b9df2",
   "metadata": {},
   "outputs": [
    {
     "name": "stdout",
     "output_type": "stream",
     "text": [
      "2\n"
     ]
    }
   ],
   "source": [
    "#n some languages every statement ends with a semi-colon, ;. What happens if you put a semi-colon at the end of a Python statement?\n",
    "x = 2;\n",
    "print(x)\n",
    "#nothing happen with semi-colon"
   ]
  },
  {
   "cell_type": "code",
   "execution_count": 6,
   "id": "83e08a3d",
   "metadata": {},
   "outputs": [
    {
     "ename": "SyntaxError",
     "evalue": "invalid syntax (28786359.py, line 3)",
     "output_type": "error",
     "traceback": [
      "\u001b[0;36m  File \u001b[0;32m\"/var/folders/74/ch5llxvd3klg6n6_l6_s335w0000gn/T/ipykernel_62030/28786359.py\"\u001b[0;36m, line \u001b[0;32m3\u001b[0m\n\u001b[0;31m    print(x).\u001b[0m\n\u001b[0m             ^\u001b[0m\n\u001b[0;31mSyntaxError\u001b[0m\u001b[0;31m:\u001b[0m invalid syntax\n"
     ]
    }
   ],
   "source": [
    "#What if you put a period at the end of a statement?\n",
    "x=2\n",
    "print(x)."
   ]
  },
  {
   "cell_type": "code",
   "execution_count": 8,
   "id": "5cda194d",
   "metadata": {},
   "outputs": [
    {
     "name": "stdout",
     "output_type": "stream",
     "text": [
      "6\n"
     ]
    }
   ],
   "source": [
    "#In math notation you can multiply x and y like this: x y. What happens if you try that in Python?\n",
    "x=2\n",
    "y=3\n",
    "print(x*y)\n",
    "#get the result of multiply"
   ]
  },
  {
   "cell_type": "markdown",
   "id": "5fead6e3",
   "metadata": {},
   "source": [
    "## exercise 2"
   ]
  },
  {
   "cell_type": "code",
   "execution_count": 13,
   "id": "e70fe86f",
   "metadata": {},
   "outputs": [
    {
     "name": "stdout",
     "output_type": "stream",
     "text": [
      "523.5987755982989\n"
     ]
    }
   ],
   "source": [
    "#The volume of a sphere with radius r is 4/3 π r3. What is the volume of a sphere with radius 5?\n",
    "import math\n",
    "volume=4/3*math.pi*5**3\n",
    "print(volume)"
   ]
  },
  {
   "cell_type": "code",
   "execution_count": 14,
   "id": "2096ae1a",
   "metadata": {},
   "outputs": [
    {
     "name": "stdout",
     "output_type": "stream",
     "text": [
      "1782.9269999999997\n"
     ]
    }
   ],
   "source": [
    "# Suppose the cover price of a book is $24.95, but bookstores get a 40% discount. Shipping costs $3 for the first copy and 75 cents for each additional copy. What is the total wholesale cost for 60 copies?\n",
    "cost = (3*24.95+59*0.75)*24.95*(1-0.4)\n",
    "print(cost)"
   ]
  },
  {
   "cell_type": "code",
   "execution_count": 22,
   "id": "26f1e0d6",
   "metadata": {},
   "outputs": [
    {
     "name": "stdout",
     "output_type": "stream",
     "text": [
      "7.501666666666667\n",
      "7\n",
      "30.100000000000016\n",
      "30\n",
      "Breakfast is at 7.30\n"
     ]
    }
   ],
   "source": [
    "# If I leave my house at 6:52 am and run 1 mile at an easy pace \n",
    "# (8:15 per mile), then 3 miles at tempo (7:12 per mile) and 1 mile \n",
    "# at easy pace again, what time do I get home for breakfast?\n",
    "start_time = (6*60 + 52)*60\n",
    "easy_time = (8*60 + 15)*2\n",
    "tempo_time = (7*60 + 12)*3\n",
    "\n",
    "breakfast_hour = (start_time + easy_time + tempo_time)/(60*60)\n",
    "print(breakfast_hour)\n",
    "breakfast_int_hour = int(breakfast_hour)\n",
    "print(breakfast_int_hour)\n",
    "breakfast_minute  = (breakfast_hour - breakfast_int_hour)*60\n",
    "print(breakfast_minute)\n",
    "breakfast_int_minute = int(breakfast_minute)\n",
    "print(breakfast_int_minute)\n",
    "print('Breakfast is at %d.%d'%(breakfast_int_hour,breakfast_int_minute))\n"
   ]
  },
  {
   "cell_type": "markdown",
   "id": "9908a4f7",
   "metadata": {},
   "source": [
    "# Chapter 8"
   ]
  },
  {
   "cell_type": "markdown",
   "id": "8fa6e6d3",
   "metadata": {},
   "source": [
    "## exercise 1"
   ]
  },
  {
   "cell_type": "code",
   "execution_count": 35,
   "id": "fd7810ec",
   "metadata": {},
   "outputs": [
    {
     "name": "stdout",
     "output_type": "stream",
     "text": [
      " Hey, hi, hello\n",
      " Hey, hey, hello\n"
     ]
    }
   ],
   "source": [
    "#replace and strip are particularly useful\n",
    "a = \" Hey, hi, hello\"\n",
    "a.strip()\n",
    "print(a)\n",
    "print(a.replace(\"hi\",\"hey\"))"
   ]
  },
  {
   "cell_type": "markdown",
   "id": "8367f133",
   "metadata": {},
   "source": [
    "## exercise 2"
   ]
  },
  {
   "cell_type": "code",
   "execution_count": 36,
   "id": "981f8ffd",
   "metadata": {},
   "outputs": [
    {
     "name": "stdout",
     "output_type": "stream",
     "text": [
      "3\n"
     ]
    }
   ],
   "source": [
    "#计算banana里面的“a”有多少个\n",
    "a = \"banana\"\n",
    "print(a.count(\"a\"))"
   ]
  },
  {
   "cell_type": "markdown",
   "id": "154544d2",
   "metadata": {},
   "source": [
    "## exercise 3"
   ]
  },
  {
   "cell_type": "code",
   "execution_count": 40,
   "id": "0ee34df3",
   "metadata": {},
   "outputs": [
    {
     "name": "stdout",
     "output_type": "stream",
     "text": [
      "False\n",
      "True\n",
      "True\n",
      "True\n"
     ]
    }
   ],
   "source": [
    "# 原本非常复杂的方式识别这种互相对称的单词\n",
    "# 尝试用一行code识别这种对称的单词\n",
    "def first(word):\n",
    "    return word[0]\n",
    "def last(word):\n",
    "    return word[-1]\n",
    "def middle(word):\n",
    "    return word[1:-1]\n",
    "def is_palindrome(word):\n",
    "    if len(word) <= 1:\n",
    "        return True\n",
    "    if first(word) != last(word):\n",
    "        return False\n",
    "    return is_palindrome(middle(word))\n",
    "\n",
    "print(is_palindrome('allen'))\n",
    "print(is_palindrome('bob'))\n",
    "print(is_palindrome('otto'))\n",
    "print(is_palindrome('redivider'))"
   ]
  },
  {
   "cell_type": "code",
   "execution_count": 50,
   "id": "15b5c18b",
   "metadata": {},
   "outputs": [
    {
     "name": "stdout",
     "output_type": "stream",
     "text": [
      "True\n",
      "False\n"
     ]
    }
   ],
   "source": [
    "def is_palindrome2(word):\n",
    "    if word[ : ] == word[ : : -1]:\n",
    "        return True\n",
    "    else:\n",
    "        return False\n",
    "    \n",
    "print(is_palindrome2('bob'))\n",
    "print(is_palindrome2('boy'))\n",
    "#我的错误是等号没有用两，且等号左边的word可以直接给，不用方括号"
   ]
  },
  {
   "cell_type": "markdown",
   "id": "77cc2292",
   "metadata": {},
   "source": [
    "## exercie 4"
   ]
  },
  {
   "cell_type": "code",
   "execution_count": 90,
   "id": "e93d9952",
   "metadata": {},
   "outputs": [
    {
     "name": "stdout",
     "output_type": "stream",
     "text": [
      "True\n",
      "True\n",
      "False\n",
      "True\n",
      "False\n"
     ]
    }
   ],
   "source": [
    "#定义一个确定一个单词里面所有单词都是小写的function\n",
    "#首先str.islower()这个method会传回True只要所有字母都是小写\n",
    "def any_lowercase1(s):\n",
    "    for c in s:\n",
    "        if c.islower():\n",
    "            return True\n",
    "        else:\n",
    "            return False\n",
    "print(any_lowercase1('abC')) #错误！在第一个字母输出结果后，停止了loop\n",
    "#为什么会停止loop呢？ \n",
    "#在for loop 里面一旦用了if，当if的条件被满足时，就输出结果，停止loop\n",
    "\n",
    "def any_lowercase2(s):\n",
    "    for c in s:\n",
    "        if 'c'.islower():\n",
    "            return 'True'\n",
    "        else:\n",
    "            return 'False'\n",
    "print(any_lowercase2('abC')) #错误！'c'这个string字母肯定是小谢\n",
    "\n",
    "def any_lowercase3(s):\n",
    "    for c in s:\n",
    "        flag = c.islower()\n",
    "    return flag\n",
    "print(any_lowercase3('abC')) #正确！因为str.islower()这个本来就会传回正确答案\n",
    "\n",
    "def any_lowercase4(s):\n",
    "    flag = False\n",
    "    for c in s:\n",
    "        flag = flag or c.islower()\n",
    "    return flag\n",
    "print(any_lowercase4('ABc'))#如果一旦有一个字母是true，就会赋予flag的值为true\n",
    "#那么之后字母哪怕有False，在面对flag这个True or False 的时候，结果永远是True\n",
    "\n",
    "def any_lowercase5(s):\n",
    "    for c in s:\n",
    "        if not c.islower():\n",
    "            return False\n",
    "    return True\n",
    "print(any_lowercase5('abC'))#正确，虽然也用了if容易随时终止loop，但是时在找到大写字母时终止，所以依然能输出正确结果\n"
   ]
  },
  {
   "cell_type": "markdown",
   "id": "d7082f3d",
   "metadata": {},
   "source": [
    "## Exercie 5"
   ]
  },
  {
   "cell_type": "code",
   "execution_count": 95,
   "id": "84add3d0",
   "metadata": {},
   "outputs": [
    {
     "name": "stdout",
     "output_type": "stream",
     "text": [
      "z\n"
     ]
    }
   ],
   "source": [
    "#自主错误版本\n",
    "def rotate_word(word):\n",
    "    for x in word:\n",
    "        x=chr(ord(x)+1)\n",
    "    return x\n",
    "        \n",
    "print(rotate_word('boy'))"
   ]
  },
  {
   "cell_type": "code",
   "execution_count": 117,
   "id": "d9ee4d54",
   "metadata": {
    "collapsed": true
   },
   "outputs": [
    {
     "name": "stdout",
     "output_type": "stream",
     "text": [
      "|unny\n"
     ]
    }
   ],
   "source": [
    "# 网络答案版本\n",
    "def rotate_word(word,number):\n",
    "    result = ''#这个属实是对def这个功能没有理解，不知道需要有这一行\n",
    "    for x in word:\n",
    "        x = chr(ord(x)+number)\n",
    "        result=result+x #这个+号就很灵性，字母也可以互相加成一个单词的\n",
    "    return result\n",
    "print(rotate_word('sleep',9))# ？问题是z+1不会是a"
   ]
  },
  {
   "cell_type": "code",
   "execution_count": 116,
   "id": "f3abad4a",
   "metadata": {},
   "outputs": [
    {
     "name": "stdout",
     "output_type": "stream",
     "text": [
      "W\\YYf\n"
     ]
    }
   ],
   "source": [
    "#自我改进版本尝试1\n",
    "def rotate_word1(word,number):\n",
    "    result = ''\n",
    "    for i in word:\n",
    "        x = ord(i)+number\n",
    "        if x > 26:\n",
    "            i = chr(0 + (x-26))\n",
    "        i = chr(ord(i)+number)\n",
    "        result = result + i\n",
    "    return result\n",
    "print(rotate_word1('cheer',7))"
   ]
  },
  {
   "cell_type": "code",
   "execution_count": 109,
   "id": "3520060e",
   "metadata": {},
   "outputs": [
    {
     "name": "stdout",
     "output_type": "stream",
     "text": [
      "W\\YYf\n"
     ]
    }
   ],
   "source": [
    "#自我改进版本尝试2\n",
    "def rotate_word1(word,number):\n",
    "    result = ''\n",
    "    for i in word:\n",
    "        i = chr(ord(i)+number)\n",
    "        if ord(i) > 26:\n",
    "            i = chr(ord(i)+number - 26)\n",
    "        result = result + i\n",
    "    return result\n",
    "print(rotate_word1('cheer',7))"
   ]
  },
  {
   "cell_type": "code",
   "execution_count": 123,
   "id": "b0036ca9",
   "metadata": {},
   "outputs": [
    {
     "name": "stdout",
     "output_type": "stream",
     "text": [
      "Jolly\n",
      "cubed\n",
      "bunny\n",
      "j\n"
     ]
    }
   ],
   "source": [
    "def rotate_letter(letter, n):\n",
    "    \"\"\"Rotates a letter by n places.  Does not change other chars.\n",
    "    letter: single-letter string\n",
    "    n: int\n",
    "    Returns: single-letter string\n",
    "    \"\"\"\n",
    "    if letter.isupper():\n",
    "        start = ord('A') #ord('a')并不等于1，所以要设置一个起始点\n",
    "    elif letter.islower():\n",
    "        start = ord('a') #大写小写都要重新设置起始点\n",
    "    else:\n",
    "        return letter\n",
    "\n",
    "    c = ord(letter) - start\n",
    "    i = (c + n) % 26 + start #用%得到的余数，如果c+n小于26那结果就是c+n本身，不用在意，如果c+n大于26到的余数直接算作冲头开始的n\n",
    "    return chr(i)\n",
    "\n",
    "\n",
    "def rotate_word(word, n):\n",
    "    \"\"\"Rotates a word by n places.\n",
    "    word: string\n",
    "    n: integer\n",
    "    Returns: string\n",
    "    \"\"\"\n",
    "    res = ''\n",
    "    for letter in word:\n",
    "        res += rotate_letter(letter, n)\n",
    "    return res\n",
    "\n",
    "print(rotate_word('Cheer', 7))\n",
    "print(rotate_word('melon', -10))\n",
    "print(rotate_word('sleep', 9))\n",
    "\n",
    "print(rotate_letter('c',7))\n"
   ]
  },
  {
   "cell_type": "code",
   "execution_count": 125,
   "id": "53e16fad",
   "metadata": {},
   "outputs": [
    {
     "data": {
      "text/plain": [
       "1"
      ]
     },
     "execution_count": 125,
     "metadata": {},
     "output_type": "execute_result"
    }
   ],
   "source": [
    "27%26"
   ]
  }
 ],
 "metadata": {
  "kernelspec": {
   "display_name": "Python 3 (ipykernel)",
   "language": "python",
   "name": "python3"
  },
  "language_info": {
   "codemirror_mode": {
    "name": "ipython",
    "version": 3
   },
   "file_extension": ".py",
   "mimetype": "text/x-python",
   "name": "python",
   "nbconvert_exporter": "python",
   "pygments_lexer": "ipython3",
   "version": "3.9.13"
  }
 },
 "nbformat": 4,
 "nbformat_minor": 5
}
